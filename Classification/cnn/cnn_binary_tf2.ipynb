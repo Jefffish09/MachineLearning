{
  "nbformat": 4,
  "nbformat_minor": 0,
  "metadata": {
    "colab": {
      "name": "cnn_binary_tf2.ipynb",
      "provenance": [],
      "collapsed_sections": [],
      "authorship_tag": "ABX9TyOa731wNLzVKsGR9RBchY5+",
      "include_colab_link": true
    },
    "kernelspec": {
      "name": "python3",
      "display_name": "Python 3"
    },
    "accelerator": "GPU"
  },
  "cells": [
    {
      "cell_type": "markdown",
      "metadata": {
        "id": "view-in-github",
        "colab_type": "text"
      },
      "source": [
        "<a href=\"https://colab.research.google.com/github/Jefffish09/MachineLearning/blob/dev/Classification/cnn/cnn_binary_tf2.ipynb\" target=\"_parent\"><img src=\"https://colab.research.google.com/assets/colab-badge.svg\" alt=\"Open In Colab\"/></a>"
      ]
    },
    {
      "cell_type": "code",
      "metadata": {
        "id": "z-DmlQ22e4W_"
      },
      "source": [
        "import numpy as np\r\n",
        "import matplotlib.pyplot as plt\r\n",
        "from tensorflow.keras.datasets import imdb\r\n",
        "from tensorflow.keras.preprocessing.sequence import pad_sequences\r\n",
        "from tensorflow.keras.layers import Embedding\r\n",
        "from tensorflow.keras import Sequential\r\n",
        "from tensorflow.keras.layers import Embedding, Conv1D, MaxPool1D, Flatten, Dense\r\n",
        "from tensorflow.keras.callbacks import EarlyStopping"
      ],
      "execution_count": 1,
      "outputs": []
    },
    {
      "cell_type": "code",
      "metadata": {
        "id": "3gYDZDnGqtVy"
      },
      "source": [
        "seed = 2021\r\n",
        "input_dim = 5000\r\n",
        "output_dim = 32\r\n",
        "max_len = 500\r\n",
        "batch_size = 128\r\n",
        "epochs = 100\r\n",
        "earlystopping_patience = 10"
      ],
      "execution_count": 2,
      "outputs": []
    },
    {
      "cell_type": "code",
      "metadata": {
        "colab": {
          "base_uri": "https://localhost:8080/"
        },
        "id": "vhwf9czbobEv",
        "outputId": "932b5679-e285-4de1-8f12-7fc28356038e"
      },
      "source": [
        "# Load the dataset\r\n",
        "\r\n",
        "(x_train, y_train), (x_valid, y_valid) = imdb.load_data(num_words=input_dim)\r\n",
        "x = np.concatenate((x_train, x_valid), axis=0)\r\n",
        "y = np.concatenate((y_train, y_valid), axis=0)\r\n",
        "\r\n",
        "print(\"x shape is {}, y shape is {}\".format(x.shape, y.shape))\r\n",
        "print(\"Classes: {}\".format(np.unique(y)))\r\n",
        "print(\"Total words: {}\".format(len(np.unique(np.hstack(x)))))\r\n"
      ],
      "execution_count": 3,
      "outputs": [
        {
          "output_type": "stream",
          "text": [
            "Downloading data from https://storage.googleapis.com/tensorflow/tf-keras-datasets/imdb.npz\n",
            "17465344/17464789 [==============================] - 0s 0us/step\n"
          ],
          "name": "stdout"
        },
        {
          "output_type": "stream",
          "text": [
            "<string>:6: VisibleDeprecationWarning: Creating an ndarray from ragged nested sequences (which is a list-or-tuple of lists-or-tuples-or ndarrays with different lengths or shapes) is deprecated. If you meant to do this, you must specify 'dtype=object' when creating the ndarray\n",
            "/usr/local/lib/python3.7/dist-packages/tensorflow/python/keras/datasets/imdb.py:159: VisibleDeprecationWarning: Creating an ndarray from ragged nested sequences (which is a list-or-tuple of lists-or-tuples-or ndarrays with different lengths or shapes) is deprecated. If you meant to do this, you must specify 'dtype=object' when creating the ndarray\n",
            "  x_train, y_train = np.array(xs[:idx]), np.array(labels[:idx])\n",
            "/usr/local/lib/python3.7/dist-packages/tensorflow/python/keras/datasets/imdb.py:160: VisibleDeprecationWarning: Creating an ndarray from ragged nested sequences (which is a list-or-tuple of lists-or-tuples-or ndarrays with different lengths or shapes) is deprecated. If you meant to do this, you must specify 'dtype=object' when creating the ndarray\n",
            "  x_test, y_test = np.array(xs[idx:]), np.array(labels[idx:])\n"
          ],
          "name": "stderr"
        },
        {
          "output_type": "stream",
          "text": [
            "x shape is (50000,), y shape is (50000,)\n",
            "Classes: [0 1]\n",
            "Total words: 4998\n"
          ],
          "name": "stdout"
        }
      ]
    },
    {
      "cell_type": "code",
      "metadata": {
        "id": "VRBDX_l0s0Jy"
      },
      "source": [
        "# Preprocess the dataset\r\n",
        "\r\n",
        "x_train = pad_sequences(x_train, maxlen=max_len)\r\n",
        "x_valid = pad_sequences(x_valid, maxlen=max_len)\r\n"
      ],
      "execution_count": 4,
      "outputs": []
    },
    {
      "cell_type": "code",
      "metadata": {
        "colab": {
          "base_uri": "https://localhost:8080/"
        },
        "id": "x3zC8g8sqE7j",
        "outputId": "8c58c62c-d1a1-454a-bd7d-c7002f289d48"
      },
      "source": [
        "# Create and train the model\r\n",
        "\r\n",
        "earlystop_callback = EarlyStopping(\r\n",
        "  monitor=\"val_loss\",\r\n",
        "  min_delta=0.0001,\r\n",
        "  patience=earlystopping_patience)\r\n",
        "\r\n",
        "model = Sequential([\r\n",
        "  Embedding(input_dim=input_dim, output_dim=output_dim, input_length=max_len),\r\n",
        "  Conv1D(filters=32, kernel_size=3, padding=\"same\", activation=\"relu\"),\r\n",
        "  MaxPool1D(pool_size=2),\r\n",
        "  Flatten(),\r\n",
        "  Dense(units=250, activation=\"relu\"),\r\n",
        "  Dense(units=1, activation=\"sigmoid\")\r\n",
        "])\r\n",
        "\r\n",
        "model.compile(\r\n",
        "    loss=\"binary_crossentropy\",\r\n",
        "    optimizer=\"adam\",\r\n",
        "    metrics=[\"accuracy\"]\r\n",
        ")\r\n",
        "\r\n",
        "model.summary()\r\n",
        "\r\n",
        "history = model.fit(\r\n",
        "    x=x_train,\r\n",
        "    y=y_train,\r\n",
        "    validation_data=(x_valid, y_valid),\r\n",
        "    batch_size=batch_size,\r\n",
        "    epochs=epochs,\r\n",
        "    verbose=1,\r\n",
        "    callbacks=[earlystop_callback]\r\n",
        ")"
      ],
      "execution_count": 5,
      "outputs": [
        {
          "output_type": "stream",
          "text": [
            "Model: \"sequential\"\n",
            "_________________________________________________________________\n",
            "Layer (type)                 Output Shape              Param #   \n",
            "=================================================================\n",
            "embedding (Embedding)        (None, 500, 32)           160000    \n",
            "_________________________________________________________________\n",
            "conv1d (Conv1D)              (None, 500, 32)           3104      \n",
            "_________________________________________________________________\n",
            "max_pooling1d (MaxPooling1D) (None, 250, 32)           0         \n",
            "_________________________________________________________________\n",
            "flatten (Flatten)            (None, 8000)              0         \n",
            "_________________________________________________________________\n",
            "dense (Dense)                (None, 250)               2000250   \n",
            "_________________________________________________________________\n",
            "dense_1 (Dense)              (None, 1)                 251       \n",
            "=================================================================\n",
            "Total params: 2,163,605\n",
            "Trainable params: 2,163,605\n",
            "Non-trainable params: 0\n",
            "_________________________________________________________________\n",
            "Epoch 1/100\n",
            "196/196 [==============================] - 11s 17ms/step - loss: 0.5909 - accuracy: 0.6315 - val_loss: 0.2757 - val_accuracy: 0.8853\n",
            "Epoch 2/100\n",
            "196/196 [==============================] - 3s 15ms/step - loss: 0.2126 - accuracy: 0.9168 - val_loss: 0.2692 - val_accuracy: 0.8864\n",
            "Epoch 3/100\n",
            "196/196 [==============================] - 3s 15ms/step - loss: 0.1429 - accuracy: 0.9487 - val_loss: 0.3148 - val_accuracy: 0.8752\n",
            "Epoch 4/100\n",
            "196/196 [==============================] - 3s 15ms/step - loss: 0.1002 - accuracy: 0.9705 - val_loss: 0.3525 - val_accuracy: 0.8759\n",
            "Epoch 5/100\n",
            "196/196 [==============================] - 3s 15ms/step - loss: 0.0451 - accuracy: 0.9892 - val_loss: 0.4293 - val_accuracy: 0.8722\n",
            "Epoch 6/100\n",
            "196/196 [==============================] - 3s 15ms/step - loss: 0.0152 - accuracy: 0.9982 - val_loss: 0.5437 - val_accuracy: 0.8692\n",
            "Epoch 7/100\n",
            "196/196 [==============================] - 3s 15ms/step - loss: 0.0047 - accuracy: 0.9996 - val_loss: 0.6163 - val_accuracy: 0.8718\n",
            "Epoch 8/100\n",
            "196/196 [==============================] - 3s 15ms/step - loss: 0.0017 - accuracy: 0.9999 - val_loss: 0.6734 - val_accuracy: 0.8726\n",
            "Epoch 9/100\n",
            "196/196 [==============================] - 3s 15ms/step - loss: 8.5609e-04 - accuracy: 1.0000 - val_loss: 0.7200 - val_accuracy: 0.8722\n",
            "Epoch 10/100\n",
            "196/196 [==============================] - 3s 15ms/step - loss: 4.3127e-04 - accuracy: 1.0000 - val_loss: 0.7644 - val_accuracy: 0.8730\n",
            "Epoch 11/100\n",
            "196/196 [==============================] - 3s 15ms/step - loss: 2.5657e-04 - accuracy: 1.0000 - val_loss: 0.8087 - val_accuracy: 0.8727\n",
            "Epoch 12/100\n",
            "196/196 [==============================] - 3s 15ms/step - loss: 1.6684e-04 - accuracy: 1.0000 - val_loss: 0.8628 - val_accuracy: 0.8726\n"
          ],
          "name": "stdout"
        }
      ]
    },
    {
      "cell_type": "code",
      "metadata": {
        "colab": {
          "base_uri": "https://localhost:8080/"
        },
        "id": "RAyRvZhJvV-o",
        "outputId": "022d026c-aa1f-41cc-d48a-d98165c72971"
      },
      "source": [
        "# Evaluate the model\r\n",
        "\r\n",
        "loss, accuracy = model.evaluate(\r\n",
        "    x=x_valid,\r\n",
        "    y=y_valid\r\n",
        ")\r\n",
        "\r\n",
        "print(\"Loss: \", loss)\r\n",
        "print(\"Accuracy: \", accuracy)"
      ],
      "execution_count": 6,
      "outputs": [
        {
          "output_type": "stream",
          "text": [
            "782/782 [==============================] - 2s 2ms/step - loss: 0.8628 - accuracy: 0.8726\n",
            "Loss:  0.8628102540969849\n",
            "Accuracy:  0.8725600242614746\n"
          ],
          "name": "stdout"
        }
      ]
    },
    {
      "cell_type": "code",
      "metadata": {
        "colab": {
          "base_uri": "https://localhost:8080/",
          "height": 573
        },
        "id": "MiAp2g82vhTa",
        "outputId": "dc9e4f42-1f2d-4c08-a2ef-54edbdb8220e"
      },
      "source": [
        "# Create a plot of accuracy and loss over time\r\n",
        "\r\n",
        "history_dict = history.history\r\n",
        "history_dict.keys()\r\n",
        "\r\n",
        "acc = history_dict['accuracy']\r\n",
        "val_acc = history_dict['val_accuracy']\r\n",
        "loss = history_dict['loss']\r\n",
        "val_loss = history_dict['val_loss']\r\n",
        "\r\n",
        "epochs = range(1, len(acc) + 1)\r\n",
        "\r\n",
        "# Training and validation loss\r\n",
        "# \"bo\" is for \"blue dot\"\r\n",
        "plt.plot(epochs, loss, 'bo', label='Training loss')\r\n",
        "# b is for \"solid blue line\"\r\n",
        "plt.plot(epochs, val_loss, 'b', label='Validation loss')\r\n",
        "plt.title('Training and validation loss')\r\n",
        "plt.xlabel('Epochs')\r\n",
        "plt.ylabel('Loss')\r\n",
        "plt.legend()\r\n",
        "plt.show()\r\n",
        "\r\n",
        "# Training and validation accuracy\r\n",
        "plt.plot(epochs, acc, 'bo', label='Training acc')\r\n",
        "plt.plot(epochs, val_acc, 'b', label='Validation acc')\r\n",
        "plt.title('Training and validation accuracy')\r\n",
        "plt.xlabel('Epochs')\r\n",
        "plt.ylabel('Accuracy')\r\n",
        "plt.legend(loc='lower right')\r\n",
        "plt.show()"
      ],
      "execution_count": 7,
      "outputs": [
        {
          "output_type": "display_data",
          "data": {
            "image/png": "[encoded data removed]",
            "text/plain": [
              "<Figure size 432x288 with 1 Axes>"
            ]
          },
          "metadata": {
            "tags": [],
            "needs_background": "light"
          }
        },
        {
          "output_type": "display_data",
          "data": {
            "image/png": "[encoded data removed]",
            "text/plain": [
              "<Figure size 432x288 with 1 Axes>"
            ]
          },
          "metadata": {
            "tags": [],
            "needs_background": "light"
          }
        }
      ]
    }
  ]
}