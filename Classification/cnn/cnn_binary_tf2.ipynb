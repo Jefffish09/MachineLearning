{
  "nbformat": 4,
  "nbformat_minor": 0,
  "metadata": {
    "colab": {
      "name": "cnn_tf2.ipynb",
      "provenance": [],
      "authorship_tag": "ABX9TyM7aJ097faEE8VBwoiPVEPI",
      "include_colab_link": true
    },
    "kernelspec": {
      "name": "python3",
      "display_name": "Python 3"
    },
    "accelerator": "GPU"
  },
  "cells": [
    {
      "cell_type": "markdown",
      "metadata": {
        "id": "view-in-github",
        "colab_type": "text"
      },
      "source": [
        "<a href=\"https://colab.research.google.com/github/Jefffish09/MachineLearning/blob/dev/Classification/cnn/cnn_tf2.ipynb\" target=\"_parent\"><img src=\"https://colab.research.google.com/assets/colab-badge.svg\" alt=\"Open In Colab\"/></a>"
      ]
    },
    {
      "cell_type": "markdown",
      "metadata": {
        "id": "cR5CW5RBRL-X"
      },
      "source": [
        "References:\r\n",
        "\r\n",
        "* https://www.tensorflow.org/tutorials/keras/text_classification\r\n"
      ]
    },
    {
      "cell_type": "code",
      "metadata": {
        "id": "t3JT3AFd5j5v"
      },
      "source": [
        "import os\r\n",
        "import re\r\n",
        "import string\r\n",
        "import shutil\r\n",
        "import matplotlib.pyplot as plt\r\n",
        "import tensorflow as tf\r\n",
        "from tensorflow.keras import Sequential, losses\r\n",
        "from tensorflow.keras.layers import Embedding, Dropout, GlobalAveragePooling1D, Dense\r\n",
        "from tensorflow.keras.utils import get_file\r\n",
        "from tensorflow.keras.preprocessing import text_dataset_from_directory\r\n",
        "from tensorflow.keras.layers.experimental.preprocessing import TextVectorization\r\n",
        "from tensorflow.keras.callbacks import EarlyStopping\r\n"
      ],
      "execution_count": 8,
      "outputs": []
    },
    {
      "cell_type": "code",
      "metadata": {
        "id": "ZUtdYT7X6AdC"
      },
      "source": [
        "batch_size = 128\r\n",
        "seed = 2021\r\n",
        "max_features = 10000\r\n",
        "sequence_length = 250\r\n",
        "embedding_dim = 100\r\n",
        "epochs = 100\r\n",
        "earlystopping_patience = 10"
      ],
      "execution_count": 9,
      "outputs": []
    },
    {
      "cell_type": "code",
      "metadata": {
        "id": "HM07pQp25ais",
        "colab": {
          "base_uri": "https://localhost:8080/"
        },
        "outputId": "75f2db46-a353-4567-e15b-3a8e6d9ee26c"
      },
      "source": [
        "# Get the raw dataset.\r\n",
        "\r\n",
        "url = \"https://ai.stanford.edu/~amaas/data/sentiment/aclImdb_v1.tar.gz\"\r\n",
        "\r\n",
        "dataset = get_file(\"aclImdb_v1.tar.gz\", url,  untar=True, cache_dir=\".\", cache_subdir=\"\")\r\n",
        "dataset_dir = os.path.join(os.path.dirname(dataset), \"aclImdb\")\r\n",
        "\r\n",
        "train_dir = os.path.join(dataset_dir, \"train\")\r\n",
        "remove_dir = os.path.join(train_dir, \"unsup\")\r\n",
        "shutil.rmtree(remove_dir)\r\n",
        "os.remove(\"aclImdb_v1.tar.gz.tar.gz\")\r\n",
        "\r\n",
        "raw_train_ds = text_dataset_from_directory(\r\n",
        "    \"aclImdb/train\", \r\n",
        "    batch_size=batch_size, \r\n",
        "    validation_split=0.2, \r\n",
        "    subset=\"training\", \r\n",
        "    seed=seed)\r\n",
        "\r\n",
        "raw_val_ds = text_dataset_from_directory(\r\n",
        "    \"aclImdb/train\", \r\n",
        "    batch_size=batch_size, \r\n",
        "    validation_split=0.2, \r\n",
        "    subset=\"validation\", \r\n",
        "    seed=seed)\r\n",
        "\r\n",
        "raw_test_ds = text_dataset_from_directory(\r\n",
        "    \"aclImdb/test\", \r\n",
        "    batch_size=batch_size)"
      ],
      "execution_count": 10,
      "outputs": [
        {
          "output_type": "stream",
          "text": [
            "Downloading data from https://ai.stanford.edu/~amaas/data/sentiment/aclImdb_v1.tar.gz\n",
            "84131840/84125825 [==============================] - 4s 0us/step\n",
            "Found 25000 files belonging to 2 classes.\n",
            "Using 20000 files for training.\n",
            "Found 25000 files belonging to 2 classes.\n",
            "Using 5000 files for validation.\n",
            "Found 25000 files belonging to 2 classes.\n"
          ],
          "name": "stdout"
        }
      ]
    },
    {
      "cell_type": "code",
      "metadata": {
        "id": "ksALiE5G7Ozu"
      },
      "source": [
        "# Prepare the dataset for training\r\n",
        "\r\n",
        "def custom_standardization(input_data):\r\n",
        "  lowercase = tf.strings.lower(input_data)\r\n",
        "  stripped_html = tf.strings.regex_replace(lowercase, \"<br />\", \" \")\r\n",
        "  return tf.strings.regex_replace(stripped_html, \"[%s]\" % re.escape(string.punctuation), \"\")\r\n",
        "\r\n",
        "\r\n",
        "def vectorize_text(text, label):\r\n",
        "  text = tf.expand_dims(text, -1)\r\n",
        "  return vectorize_layer(text), label\r\n",
        "\r\n",
        "\r\n",
        "vectorize_layer = TextVectorization(\r\n",
        "    standardize=custom_standardization,\r\n",
        "    max_tokens=max_features,\r\n",
        "    output_mode=\"int\",\r\n",
        "    output_sequence_length=sequence_length)\r\n",
        "\r\n",
        "train_ds = raw_train_ds.map(vectorize_text)\r\n",
        "val_ds = raw_val_ds.map(vectorize_text)\r\n",
        "test_ds = raw_test_ds.map(vectorize_text)\r\n",
        "\r\n",
        "AUTOTUNE = tf.data.AUTOTUNE\r\n",
        "train_ds = train_ds.cache().prefetch(buffer_size=AUTOTUNE)\r\n",
        "val_ds = val_ds.cache().prefetch(buffer_size=AUTOTUNE)\r\n",
        "test_ds = test_ds.cache().prefetch(buffer_size=AUTOTUNE)"
      ],
      "execution_count": 11,
      "outputs": []
    },
    {
      "cell_type": "code",
      "metadata": {
        "id": "BfzKBsVh5t_S",
        "colab": {
          "base_uri": "https://localhost:8080/"
        },
        "outputId": "54b4c1e5-7cf7-4684-bbbc-e78715008ad6"
      },
      "source": [
        "# Create and train the model\r\n",
        "\r\n",
        "earlystop_callback = EarlyStopping(\r\n",
        "  monitor=\"val_loss\",\r\n",
        "  min_delta=0.0001,\r\n",
        "  patience=earlystopping_patience)\r\n",
        "\r\n",
        "model = Sequential([\r\n",
        "  Embedding(max_features + 1, embedding_dim),\r\n",
        "  Dropout(0.2),\r\n",
        "  GlobalAveragePooling1D(),\r\n",
        "  Dropout(0.2),\r\n",
        "  Dense(1)])\r\n",
        "\r\n",
        "model.summary()\r\n",
        "\r\n",
        "# Loss function and optimizer\r\n",
        "model.compile(loss=losses.BinaryCrossentropy(from_logits=True),\r\n",
        "              optimizer=\"adam\",\r\n",
        "              metrics=tf.metrics.BinaryAccuracy(threshold=0.0))\r\n",
        "\r\n",
        "history = model.fit(\r\n",
        "    train_ds,\r\n",
        "    validation_data=val_ds,\r\n",
        "    epochs=epochs,\r\n",
        "    callbacks=[earlystop_callback])"
      ],
      "execution_count": 12,
      "outputs": [
        {
          "output_type": "stream",
          "text": [
            "Model: \"sequential_1\"\n",
            "_________________________________________________________________\n",
            "Layer (type)                 Output Shape              Param #   \n",
            "=================================================================\n",
            "embedding_1 (Embedding)      (None, None, 100)         1000100   \n",
            "_________________________________________________________________\n",
            "dropout_2 (Dropout)          (None, None, 100)         0         \n",
            "_________________________________________________________________\n",
            "global_average_pooling1d_1 ( (None, 100)               0         \n",
            "_________________________________________________________________\n",
            "dropout_3 (Dropout)          (None, 100)               0         \n",
            "_________________________________________________________________\n",
            "dense_1 (Dense)              (None, 1)                 101       \n",
            "=================================================================\n",
            "Total params: 1,000,201\n",
            "Trainable params: 1,000,201\n",
            "Non-trainable params: 0\n",
            "_________________________________________________________________\n",
            "Epoch 1/100\n",
            "157/157 [==============================] - 9s 51ms/step - loss: 0.6933 - binary_accuracy: 0.4981 - val_loss: 0.6939 - val_binary_accuracy: 0.4980\n",
            "Epoch 2/100\n",
            "157/157 [==============================] - 3s 17ms/step - loss: 0.6935 - binary_accuracy: 0.5000 - val_loss: 0.6939 - val_binary_accuracy: 0.5012\n",
            "Epoch 3/100\n",
            "157/157 [==============================] - 3s 17ms/step - loss: 0.6933 - binary_accuracy: 0.5013 - val_loss: 0.6939 - val_binary_accuracy: 0.4968\n",
            "Epoch 4/100\n",
            "157/157 [==============================] - 3s 17ms/step - loss: 0.6934 - binary_accuracy: 0.4976 - val_loss: 0.6938 - val_binary_accuracy: 0.5022\n",
            "Epoch 5/100\n",
            "157/157 [==============================] - 3s 17ms/step - loss: 0.6933 - binary_accuracy: 0.4986 - val_loss: 0.6938 - val_binary_accuracy: 0.4970\n",
            "Epoch 6/100\n",
            "157/157 [==============================] - 3s 17ms/step - loss: 0.6934 - binary_accuracy: 0.4990 - val_loss: 0.6938 - val_binary_accuracy: 0.5028\n",
            "Epoch 7/100\n",
            "157/157 [==============================] - 3s 17ms/step - loss: 0.6935 - binary_accuracy: 0.4976 - val_loss: 0.6937 - val_binary_accuracy: 0.5012\n",
            "Epoch 8/100\n",
            "157/157 [==============================] - 3s 17ms/step - loss: 0.6933 - binary_accuracy: 0.4969 - val_loss: 0.6937 - val_binary_accuracy: 0.4998\n",
            "Epoch 9/100\n",
            "157/157 [==============================] - 3s 17ms/step - loss: 0.6934 - binary_accuracy: 0.5017 - val_loss: 0.6937 - val_binary_accuracy: 0.5046\n",
            "Epoch 10/100\n",
            "157/157 [==============================] - 3s 17ms/step - loss: 0.6934 - binary_accuracy: 0.5007 - val_loss: 0.6937 - val_binary_accuracy: 0.5022\n",
            "Epoch 11/100\n",
            "157/157 [==============================] - 3s 17ms/step - loss: 0.6933 - binary_accuracy: 0.4982 - val_loss: 0.6937 - val_binary_accuracy: 0.5018\n",
            "Epoch 12/100\n",
            "157/157 [==============================] - 3s 17ms/step - loss: 0.6933 - binary_accuracy: 0.5007 - val_loss: 0.6937 - val_binary_accuracy: 0.5028\n",
            "Epoch 13/100\n",
            "157/157 [==============================] - 3s 17ms/step - loss: 0.6934 - binary_accuracy: 0.4948 - val_loss: 0.6937 - val_binary_accuracy: 0.5004\n",
            "Epoch 14/100\n",
            "157/157 [==============================] - 3s 17ms/step - loss: 0.6934 - binary_accuracy: 0.5005 - val_loss: 0.6937 - val_binary_accuracy: 0.4994\n",
            "Epoch 15/100\n",
            "157/157 [==============================] - 3s 17ms/step - loss: 0.6934 - binary_accuracy: 0.4955 - val_loss: 0.6937 - val_binary_accuracy: 0.5012\n",
            "Epoch 16/100\n",
            "157/157 [==============================] - 3s 17ms/step - loss: 0.6934 - binary_accuracy: 0.4941 - val_loss: 0.6936 - val_binary_accuracy: 0.5012\n",
            "Epoch 17/100\n",
            "157/157 [==============================] - 3s 17ms/step - loss: 0.6933 - binary_accuracy: 0.4942 - val_loss: 0.6936 - val_binary_accuracy: 0.5036\n",
            "Epoch 18/100\n",
            "157/157 [==============================] - 3s 17ms/step - loss: 0.6933 - binary_accuracy: 0.5031 - val_loss: 0.6936 - val_binary_accuracy: 0.5056\n",
            "Epoch 19/100\n",
            "157/157 [==============================] - 3s 18ms/step - loss: 0.6933 - binary_accuracy: 0.4998 - val_loss: 0.6936 - val_binary_accuracy: 0.5046\n",
            "Epoch 20/100\n",
            "157/157 [==============================] - 3s 17ms/step - loss: 0.6933 - binary_accuracy: 0.4998 - val_loss: 0.6936 - val_binary_accuracy: 0.5048\n",
            "Epoch 21/100\n",
            "157/157 [==============================] - 3s 18ms/step - loss: 0.6934 - binary_accuracy: 0.5009 - val_loss: 0.6936 - val_binary_accuracy: 0.5018\n",
            "Epoch 22/100\n",
            "157/157 [==============================] - 3s 17ms/step - loss: 0.6933 - binary_accuracy: 0.5015 - val_loss: 0.6936 - val_binary_accuracy: 0.5052\n",
            "Epoch 23/100\n",
            "157/157 [==============================] - 3s 17ms/step - loss: 0.6934 - binary_accuracy: 0.4954 - val_loss: 0.6935 - val_binary_accuracy: 0.5038\n",
            "Epoch 24/100\n",
            "157/157 [==============================] - 3s 17ms/step - loss: 0.6933 - binary_accuracy: 0.4952 - val_loss: 0.6935 - val_binary_accuracy: 0.5048\n",
            "Epoch 25/100\n",
            "157/157 [==============================] - 3s 17ms/step - loss: 0.6934 - binary_accuracy: 0.4953 - val_loss: 0.6934 - val_binary_accuracy: 0.5044\n",
            "Epoch 26/100\n",
            "157/157 [==============================] - 3s 17ms/step - loss: 0.6934 - binary_accuracy: 0.5003 - val_loss: 0.6935 - val_binary_accuracy: 0.5020\n",
            "Epoch 27/100\n",
            "157/157 [==============================] - 3s 17ms/step - loss: 0.6932 - binary_accuracy: 0.5052 - val_loss: 0.6935 - val_binary_accuracy: 0.5052\n",
            "Epoch 28/100\n",
            "157/157 [==============================] - 3s 17ms/step - loss: 0.6933 - binary_accuracy: 0.4983 - val_loss: 0.6935 - val_binary_accuracy: 0.5036\n",
            "Epoch 29/100\n",
            "157/157 [==============================] - 3s 17ms/step - loss: 0.6933 - binary_accuracy: 0.5022 - val_loss: 0.6935 - val_binary_accuracy: 0.5048\n",
            "Epoch 30/100\n",
            "157/157 [==============================] - 3s 17ms/step - loss: 0.6934 - binary_accuracy: 0.4997 - val_loss: 0.6935 - val_binary_accuracy: 0.5040\n",
            "Epoch 31/100\n",
            "157/157 [==============================] - 3s 17ms/step - loss: 0.6933 - binary_accuracy: 0.4955 - val_loss: 0.6935 - val_binary_accuracy: 0.5040\n",
            "Epoch 32/100\n",
            "157/157 [==============================] - 3s 17ms/step - loss: 0.6933 - binary_accuracy: 0.4995 - val_loss: 0.6934 - val_binary_accuracy: 0.5048\n",
            "Epoch 33/100\n",
            "157/157 [==============================] - 3s 17ms/step - loss: 0.6933 - binary_accuracy: 0.4974 - val_loss: 0.6934 - val_binary_accuracy: 0.5046\n",
            "Epoch 34/100\n",
            "157/157 [==============================] - 3s 17ms/step - loss: 0.6933 - binary_accuracy: 0.4986 - val_loss: 0.6934 - val_binary_accuracy: 0.5038\n",
            "Epoch 35/100\n",
            "157/157 [==============================] - 3s 17ms/step - loss: 0.6932 - binary_accuracy: 0.4967 - val_loss: 0.6934 - val_binary_accuracy: 0.5046\n"
          ],
          "name": "stdout"
        }
      ]
    },
    {
      "cell_type": "code",
      "metadata": {
        "id": "ug4RmV5sAFg5",
        "colab": {
          "base_uri": "https://localhost:8080/"
        },
        "outputId": "a0e7fcf6-1dc0-4990-a861-efb32326fd94"
      },
      "source": [
        "# Evaluate the model\r\n",
        "\r\n",
        "loss, accuracy = model.evaluate(test_ds)\r\n",
        "\r\n",
        "print(\"Loss: \", loss)\r\n",
        "print(\"Accuracy: \", accuracy)"
      ],
      "execution_count": 13,
      "outputs": [
        {
          "output_type": "stream",
          "text": [
            "196/196 [==============================] - 8s 40ms/step - loss: 0.6931 - binary_accuracy: 0.5091\n",
            "Loss:  0.693067729473114\n",
            "Accuracy:  0.5090799927711487\n"
          ],
          "name": "stdout"
        }
      ]
    },
    {
      "cell_type": "code",
      "metadata": {
        "id": "PDtYS0vzAVgD",
        "colab": {
          "base_uri": "https://localhost:8080/",
          "height": 573
        },
        "outputId": "637becff-6193-433e-c16b-b7a55b74c861"
      },
      "source": [
        "# Create a plot of accuracy and loss over time\r\n",
        "\r\n",
        "history_dict = history.history\r\n",
        "history_dict.keys()\r\n",
        "\r\n",
        "acc = history_dict['binary_accuracy']\r\n",
        "val_acc = history_dict['val_binary_accuracy']\r\n",
        "loss = history_dict['loss']\r\n",
        "val_loss = history_dict['val_loss']\r\n",
        "\r\n",
        "epochs = range(1, len(acc) + 1)\r\n",
        "\r\n",
        "# Training and validation loss\r\n",
        "# \"bo\" is for \"blue dot\"\r\n",
        "plt.plot(epochs, loss, 'bo', label='Training loss')\r\n",
        "# b is for \"solid blue line\"\r\n",
        "plt.plot(epochs, val_loss, 'b', label='Validation loss')\r\n",
        "plt.title('Training and validation loss')\r\n",
        "plt.xlabel('Epochs')\r\n",
        "plt.ylabel('Loss')\r\n",
        "plt.legend()\r\n",
        "plt.show()\r\n",
        "\r\n",
        "# Training and validation accuracy\r\n",
        "plt.plot(epochs, acc, 'bo', label='Training acc')\r\n",
        "plt.plot(epochs, val_acc, 'b', label='Validation acc')\r\n",
        "plt.title('Training and validation accuracy')\r\n",
        "plt.xlabel('Epochs')\r\n",
        "plt.ylabel('Accuracy')\r\n",
        "plt.legend(loc='lower right')\r\n",
        "plt.show()"
      ],
      "execution_count": 14,
      "outputs": [
        {
          "output_type": "display_data",
          "data": {
            "image/png": "[encoded data removed]",
            "text/plain": [
              "<Figure size 432x288 with 1 Axes>"
            ]
          },
          "metadata": {
            "tags": [],
            "needs_background": "light"
          }
        },
        {
          "output_type": "display_data",
          "data": {
            "image/png": "[encoded data removed]",
            "text/plain": [
              "<Figure size 432x288 with 1 Axes>"
            ]
          },
          "metadata": {
            "tags": [],
            "needs_background": "light"
          }
        }
      ]
    }
  ]
}