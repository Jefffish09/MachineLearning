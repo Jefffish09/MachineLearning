{
  "nbformat": 4,
  "nbformat_minor": 0,
  "metadata": {
    "colab": {
      "name": "bert_multiclass_tf2.ipynb",
      "provenance": [],
      "collapsed_sections": [],
      "mount_file_id": "1Ynri72ObABeOnEMLrRq_TG-HyZJbrw0X",
      "authorship_tag": "ABX9TyPUBuqTDqgIulNw9J6mZUD7",
      "include_colab_link": true
    },
    "kernelspec": {
      "name": "python3",
      "display_name": "Python 3"
    },
    "accelerator": "GPU",
    "widgets": {
      "application/vnd.jupyter.widget-state+json": {
        "3d652ced73694a57afa866c827ab7e13": {
          "model_module": "@jupyter-widgets/controls",
          "model_name": "HBoxModel",
          "state": {
            "_view_name": "HBoxView",
            "_dom_classes": [],
            "_model_name": "HBoxModel",
            "_view_module": "@jupyter-widgets/controls",
            "_model_module_version": "1.5.0",
            "_view_count": null,
            "_view_module_version": "1.5.0",
            "box_style": "",
            "layout": "IPY_MODEL_ecbc33a5a13a4a77b527229af37bfc36",
            "_model_module": "@jupyter-widgets/controls",
            "children": [
              "IPY_MODEL_64a4326c0e124a40a1f91f16fb048163",
              "IPY_MODEL_783788eea9674235b5077c8d6bbe30ec"
            ]
          }
        },
        "ecbc33a5a13a4a77b527229af37bfc36": {
          "model_module": "@jupyter-widgets/base",
          "model_name": "LayoutModel",
          "state": {
            "_view_name": "LayoutView",
            "grid_template_rows": null,
            "right": null,
            "justify_content": null,
            "_view_module": "@jupyter-widgets/base",
            "overflow": null,
            "_model_module_version": "1.2.0",
            "_view_count": null,
            "flex_flow": null,
            "width": null,
            "min_width": null,
            "border": null,
            "align_items": null,
            "bottom": null,
            "_model_module": "@jupyter-widgets/base",
            "top": null,
            "grid_column": null,
            "overflow_y": null,
            "overflow_x": null,
            "grid_auto_flow": null,
            "grid_area": null,
            "grid_template_columns": null,
            "flex": null,
            "_model_name": "LayoutModel",
            "justify_items": null,
            "grid_row": null,
            "max_height": null,
            "align_content": null,
            "visibility": null,
            "align_self": null,
            "height": null,
            "min_height": null,
            "padding": null,
            "grid_auto_rows": null,
            "grid_gap": null,
            "max_width": null,
            "order": null,
            "_view_module_version": "1.2.0",
            "grid_template_areas": null,
            "object_position": null,
            "object_fit": null,
            "grid_auto_columns": null,
            "margin": null,
            "display": null,
            "left": null
          }
        },
        "64a4326c0e124a40a1f91f16fb048163": {
          "model_module": "@jupyter-widgets/controls",
          "model_name": "FloatProgressModel",
          "state": {
            "_view_name": "ProgressView",
            "style": "IPY_MODEL_87a93d624bf84b0ab8c1ef287f8fb7bd",
            "_dom_classes": [],
            "description": "Downloading: 100%",
            "_model_name": "FloatProgressModel",
            "bar_style": "success",
            "max": 433,
            "_view_module": "@jupyter-widgets/controls",
            "_model_module_version": "1.5.0",
            "value": 433,
            "_view_count": null,
            "_view_module_version": "1.5.0",
            "orientation": "horizontal",
            "min": 0,
            "description_tooltip": null,
            "_model_module": "@jupyter-widgets/controls",
            "layout": "IPY_MODEL_ffc6258d2afd49ab98fdfa9ae84c54ab"
          }
        },
        "783788eea9674235b5077c8d6bbe30ec": {
          "model_module": "@jupyter-widgets/controls",
          "model_name": "HTMLModel",
          "state": {
            "_view_name": "HTMLView",
            "style": "IPY_MODEL_2311abd63d0e4b92a400a4160a294cbb",
            "_dom_classes": [],
            "description": "",
            "_model_name": "HTMLModel",
            "placeholder": "​",
            "_view_module": "@jupyter-widgets/controls",
            "_model_module_version": "1.5.0",
            "value": " 433/433 [00:00&lt;00:00, 4.25kB/s]",
            "_view_count": null,
            "_view_module_version": "1.5.0",
            "description_tooltip": null,
            "_model_module": "@jupyter-widgets/controls",
            "layout": "IPY_MODEL_5db99ae6d45f408a8ca98b6801557c65"
          }
        },
        "87a93d624bf84b0ab8c1ef287f8fb7bd": {
          "model_module": "@jupyter-widgets/controls",
          "model_name": "ProgressStyleModel",
          "state": {
            "_view_name": "StyleView",
            "_model_name": "ProgressStyleModel",
            "description_width": "initial",
            "_view_module": "@jupyter-widgets/base",
            "_model_module_version": "1.5.0",
            "_view_count": null,
            "_view_module_version": "1.2.0",
            "bar_color": null,
            "_model_module": "@jupyter-widgets/controls"
          }
        },
        "ffc6258d2afd49ab98fdfa9ae84c54ab": {
          "model_module": "@jupyter-widgets/base",
          "model_name": "LayoutModel",
          "state": {
            "_view_name": "LayoutView",
            "grid_template_rows": null,
            "right": null,
            "justify_content": null,
            "_view_module": "@jupyter-widgets/base",
            "overflow": null,
            "_model_module_version": "1.2.0",
            "_view_count": null,
            "flex_flow": null,
            "width": null,
            "min_width": null,
            "border": null,
            "align_items": null,
            "bottom": null,
            "_model_module": "@jupyter-widgets/base",
            "top": null,
            "grid_column": null,
            "overflow_y": null,
            "overflow_x": null,
            "grid_auto_flow": null,
            "grid_area": null,
            "grid_template_columns": null,
            "flex": null,
            "_model_name": "LayoutModel",
            "justify_items": null,
            "grid_row": null,
            "max_height": null,
            "align_content": null,
            "visibility": null,
            "align_self": null,
            "height": null,
            "min_height": null,
            "padding": null,
            "grid_auto_rows": null,
            "grid_gap": null,
            "max_width": null,
            "order": null,
            "_view_module_version": "1.2.0",
            "grid_template_areas": null,
            "object_position": null,
            "object_fit": null,
            "grid_auto_columns": null,
            "margin": null,
            "display": null,
            "left": null
          }
        },
        "2311abd63d0e4b92a400a4160a294cbb": {
          "model_module": "@jupyter-widgets/controls",
          "model_name": "DescriptionStyleModel",
          "state": {
            "_view_name": "StyleView",
            "_model_name": "DescriptionStyleModel",
            "description_width": "",
            "_view_module": "@jupyter-widgets/base",
            "_model_module_version": "1.5.0",
            "_view_count": null,
            "_view_module_version": "1.2.0",
            "_model_module": "@jupyter-widgets/controls"
          }
        },
        "5db99ae6d45f408a8ca98b6801557c65": {
          "model_module": "@jupyter-widgets/base",
          "model_name": "LayoutModel",
          "state": {
            "_view_name": "LayoutView",
            "grid_template_rows": null,
            "right": null,
            "justify_content": null,
            "_view_module": "@jupyter-widgets/base",
            "overflow": null,
            "_model_module_version": "1.2.0",
            "_view_count": null,
            "flex_flow": null,
            "width": null,
            "min_width": null,
            "border": null,
            "align_items": null,
            "bottom": null,
            "_model_module": "@jupyter-widgets/base",
            "top": null,
            "grid_column": null,
            "overflow_y": null,
            "overflow_x": null,
            "grid_auto_flow": null,
            "grid_area": null,
            "grid_template_columns": null,
            "flex": null,
            "_model_name": "LayoutModel",
            "justify_items": null,
            "grid_row": null,
            "max_height": null,
            "align_content": null,
            "visibility": null,
            "align_self": null,
            "height": null,
            "min_height": null,
            "padding": null,
            "grid_auto_rows": null,
            "grid_gap": null,
            "max_width": null,
            "order": null,
            "_view_module_version": "1.2.0",
            "grid_template_areas": null,
            "object_position": null,
            "object_fit": null,
            "grid_auto_columns": null,
            "margin": null,
            "display": null,
            "left": null
          }
        },
        "ac612f23311f4d41ab6e9a9773d0da56": {
          "model_module": "@jupyter-widgets/controls",
          "model_name": "HBoxModel",
          "state": {
            "_view_name": "HBoxView",
            "_dom_classes": [],
            "_model_name": "HBoxModel",
            "_view_module": "@jupyter-widgets/controls",
            "_model_module_version": "1.5.0",
            "_view_count": null,
            "_view_module_version": "1.5.0",
            "box_style": "",
            "layout": "IPY_MODEL_f8cd4460b2dc499eb1c4165cda069da6",
            "_model_module": "@jupyter-widgets/controls",
            "children": [
              "IPY_MODEL_7b01ce0b41174a00ad69269a5e8c6426",
              "IPY_MODEL_625042d938734db6a14743c83b7b1e04"
            ]
          }
        },
        "f8cd4460b2dc499eb1c4165cda069da6": {
          "model_module": "@jupyter-widgets/base",
          "model_name": "LayoutModel",
          "state": {
            "_view_name": "LayoutView",
            "grid_template_rows": null,
            "right": null,
            "justify_content": null,
            "_view_module": "@jupyter-widgets/base",
            "overflow": null,
            "_model_module_version": "1.2.0",
            "_view_count": null,
            "flex_flow": null,
            "width": null,
            "min_width": null,
            "border": null,
            "align_items": null,
            "bottom": null,
            "_model_module": "@jupyter-widgets/base",
            "top": null,
            "grid_column": null,
            "overflow_y": null,
            "overflow_x": null,
            "grid_auto_flow": null,
            "grid_area": null,
            "grid_template_columns": null,
            "flex": null,
            "_model_name": "LayoutModel",
            "justify_items": null,
            "grid_row": null,
            "max_height": null,
            "align_content": null,
            "visibility": null,
            "align_self": null,
            "height": null,
            "min_height": null,
            "padding": null,
            "grid_auto_rows": null,
            "grid_gap": null,
            "max_width": null,
            "order": null,
            "_view_module_version": "1.2.0",
            "grid_template_areas": null,
            "object_position": null,
            "object_fit": null,
            "grid_auto_columns": null,
            "margin": null,
            "display": null,
            "left": null
          }
        },
        "7b01ce0b41174a00ad69269a5e8c6426": {
          "model_module": "@jupyter-widgets/controls",
          "model_name": "FloatProgressModel",
          "state": {
            "_view_name": "ProgressView",
            "style": "IPY_MODEL_3896f568da904f82a53f27c426615513",
            "_dom_classes": [],
            "description": "Downloading: 100%",
            "_model_name": "FloatProgressModel",
            "bar_style": "success",
            "max": 231508,
            "_view_module": "@jupyter-widgets/controls",
            "_model_module_version": "1.5.0",
            "value": 231508,
            "_view_count": null,
            "_view_module_version": "1.5.0",
            "orientation": "horizontal",
            "min": 0,
            "description_tooltip": null,
            "_model_module": "@jupyter-widgets/controls",
            "layout": "IPY_MODEL_1c0fde53375d493aad60acf40dd702f4"
          }
        },
        "625042d938734db6a14743c83b7b1e04": {
          "model_module": "@jupyter-widgets/controls",
          "model_name": "HTMLModel",
          "state": {
            "_view_name": "HTMLView",
            "style": "IPY_MODEL_b2c32b13aa2b48d8939e1547c44bceb2",
            "_dom_classes": [],
            "description": "",
            "_model_name": "HTMLModel",
            "placeholder": "​",
            "_view_module": "@jupyter-widgets/controls",
            "_model_module_version": "1.5.0",
            "value": " 232k/232k [00:15&lt;00:00, 15.4kB/s]",
            "_view_count": null,
            "_view_module_version": "1.5.0",
            "description_tooltip": null,
            "_model_module": "@jupyter-widgets/controls",
            "layout": "IPY_MODEL_3fc9d415e9424850a0eacb5c2caf9d01"
          }
        },
        "3896f568da904f82a53f27c426615513": {
          "model_module": "@jupyter-widgets/controls",
          "model_name": "ProgressStyleModel",
          "state": {
            "_view_name": "StyleView",
            "_model_name": "ProgressStyleModel",
            "description_width": "initial",
            "_view_module": "@jupyter-widgets/base",
            "_model_module_version": "1.5.0",
            "_view_count": null,
            "_view_module_version": "1.2.0",
            "bar_color": null,
            "_model_module": "@jupyter-widgets/controls"
          }
        },
        "1c0fde53375d493aad60acf40dd702f4": {
          "model_module": "@jupyter-widgets/base",
          "model_name": "LayoutModel",
          "state": {
            "_view_name": "LayoutView",
            "grid_template_rows": null,
            "right": null,
            "justify_content": null,
            "_view_module": "@jupyter-widgets/base",
            "overflow": null,
            "_model_module_version": "1.2.0",
            "_view_count": null,
            "flex_flow": null,
            "width": null,
            "min_width": null,
            "border": null,
            "align_items": null,
            "bottom": null,
            "_model_module": "@jupyter-widgets/base",
            "top": null,
            "grid_column": null,
            "overflow_y": null,
            "overflow_x": null,
            "grid_auto_flow": null,
            "grid_area": null,
            "grid_template_columns": null,
            "flex": null,
            "_model_name": "LayoutModel",
            "justify_items": null,
            "grid_row": null,
            "max_height": null,
            "align_content": null,
            "visibility": null,
            "align_self": null,
            "height": null,
            "min_height": null,
            "padding": null,
            "grid_auto_rows": null,
            "grid_gap": null,
            "max_width": null,
            "order": null,
            "_view_module_version": "1.2.0",
            "grid_template_areas": null,
            "object_position": null,
            "object_fit": null,
            "grid_auto_columns": null,
            "margin": null,
            "display": null,
            "left": null
          }
        },
        "b2c32b13aa2b48d8939e1547c44bceb2": {
          "model_module": "@jupyter-widgets/controls",
          "model_name": "DescriptionStyleModel",
          "state": {
            "_view_name": "StyleView",
            "_model_name": "DescriptionStyleModel",
            "description_width": "",
            "_view_module": "@jupyter-widgets/base",
            "_model_module_version": "1.5.0",
            "_view_count": null,
            "_view_module_version": "1.2.0",
            "_model_module": "@jupyter-widgets/controls"
          }
        },
        "3fc9d415e9424850a0eacb5c2caf9d01": {
          "model_module": "@jupyter-widgets/base",
          "model_name": "LayoutModel",
          "state": {
            "_view_name": "LayoutView",
            "grid_template_rows": null,
            "right": null,
            "justify_content": null,
            "_view_module": "@jupyter-widgets/base",
            "overflow": null,
            "_model_module_version": "1.2.0",
            "_view_count": null,
            "flex_flow": null,
            "width": null,
            "min_width": null,
            "border": null,
            "align_items": null,
            "bottom": null,
            "_model_module": "@jupyter-widgets/base",
            "top": null,
            "grid_column": null,
            "overflow_y": null,
            "overflow_x": null,
            "grid_auto_flow": null,
            "grid_area": null,
            "grid_template_columns": null,
            "flex": null,
            "_model_name": "LayoutModel",
            "justify_items": null,
            "grid_row": null,
            "max_height": null,
            "align_content": null,
            "visibility": null,
            "align_self": null,
            "height": null,
            "min_height": null,
            "padding": null,
            "grid_auto_rows": null,
            "grid_gap": null,
            "max_width": null,
            "order": null,
            "_view_module_version": "1.2.0",
            "grid_template_areas": null,
            "object_position": null,
            "object_fit": null,
            "grid_auto_columns": null,
            "margin": null,
            "display": null,
            "left": null
          }
        },
        "906c77d1f53c41d8acd0c6724be0dfa9": {
          "model_module": "@jupyter-widgets/controls",
          "model_name": "HBoxModel",
          "state": {
            "_view_name": "HBoxView",
            "_dom_classes": [],
            "_model_name": "HBoxModel",
            "_view_module": "@jupyter-widgets/controls",
            "_model_module_version": "1.5.0",
            "_view_count": null,
            "_view_module_version": "1.5.0",
            "box_style": "",
            "layout": "IPY_MODEL_c0934dc0c6484c33a5366c5c9e38820c",
            "_model_module": "@jupyter-widgets/controls",
            "children": [
              "IPY_MODEL_7766688f398e4726996d4046517112d3",
              "IPY_MODEL_c0cf641b250745e0ae967b1cdb3a6e05"
            ]
          }
        },
        "c0934dc0c6484c33a5366c5c9e38820c": {
          "model_module": "@jupyter-widgets/base",
          "model_name": "LayoutModel",
          "state": {
            "_view_name": "LayoutView",
            "grid_template_rows": null,
            "right": null,
            "justify_content": null,
            "_view_module": "@jupyter-widgets/base",
            "overflow": null,
            "_model_module_version": "1.2.0",
            "_view_count": null,
            "flex_flow": null,
            "width": null,
            "min_width": null,
            "border": null,
            "align_items": null,
            "bottom": null,
            "_model_module": "@jupyter-widgets/base",
            "top": null,
            "grid_column": null,
            "overflow_y": null,
            "overflow_x": null,
            "grid_auto_flow": null,
            "grid_area": null,
            "grid_template_columns": null,
            "flex": null,
            "_model_name": "LayoutModel",
            "justify_items": null,
            "grid_row": null,
            "max_height": null,
            "align_content": null,
            "visibility": null,
            "align_self": null,
            "height": null,
            "min_height": null,
            "padding": null,
            "grid_auto_rows": null,
            "grid_gap": null,
            "max_width": null,
            "order": null,
            "_view_module_version": "1.2.0",
            "grid_template_areas": null,
            "object_position": null,
            "object_fit": null,
            "grid_auto_columns": null,
            "margin": null,
            "display": null,
            "left": null
          }
        },
        "7766688f398e4726996d4046517112d3": {
          "model_module": "@jupyter-widgets/controls",
          "model_name": "FloatProgressModel",
          "state": {
            "_view_name": "ProgressView",
            "style": "IPY_MODEL_6034879eb0fe47faa4bc964e385644d7",
            "_dom_classes": [],
            "description": "Downloading: 100%",
            "_model_name": "FloatProgressModel",
            "bar_style": "success",
            "max": 466062,
            "_view_module": "@jupyter-widgets/controls",
            "_model_module_version": "1.5.0",
            "value": 466062,
            "_view_count": null,
            "_view_module_version": "1.5.0",
            "orientation": "horizontal",
            "min": 0,
            "description_tooltip": null,
            "_model_module": "@jupyter-widgets/controls",
            "layout": "IPY_MODEL_a6bc3c2e19634f329a3cb66cf6e893fe"
          }
        },
        "c0cf641b250745e0ae967b1cdb3a6e05": {
          "model_module": "@jupyter-widgets/controls",
          "model_name": "HTMLModel",
          "state": {
            "_view_name": "HTMLView",
            "style": "IPY_MODEL_19b6b2beb1a64bacb467f7750e6aba48",
            "_dom_classes": [],
            "description": "",
            "_model_name": "HTMLModel",
            "placeholder": "​",
            "_view_module": "@jupyter-widgets/controls",
            "_model_module_version": "1.5.0",
            "value": " 466k/466k [00:00&lt;00:00, 1.57MB/s]",
            "_view_count": null,
            "_view_module_version": "1.5.0",
            "description_tooltip": null,
            "_model_module": "@jupyter-widgets/controls",
            "layout": "IPY_MODEL_cc954dff989145afa2d9265d20c188d5"
          }
        },
        "6034879eb0fe47faa4bc964e385644d7": {
          "model_module": "@jupyter-widgets/controls",
          "model_name": "ProgressStyleModel",
          "state": {
            "_view_name": "StyleView",
            "_model_name": "ProgressStyleModel",
            "description_width": "initial",
            "_view_module": "@jupyter-widgets/base",
            "_model_module_version": "1.5.0",
            "_view_count": null,
            "_view_module_version": "1.2.0",
            "bar_color": null,
            "_model_module": "@jupyter-widgets/controls"
          }
        },
        "a6bc3c2e19634f329a3cb66cf6e893fe": {
          "model_module": "@jupyter-widgets/base",
          "model_name": "LayoutModel",
          "state": {
            "_view_name": "LayoutView",
            "grid_template_rows": null,
            "right": null,
            "justify_content": null,
            "_view_module": "@jupyter-widgets/base",
            "overflow": null,
            "_model_module_version": "1.2.0",
            "_view_count": null,
            "flex_flow": null,
            "width": null,
            "min_width": null,
            "border": null,
            "align_items": null,
            "bottom": null,
            "_model_module": "@jupyter-widgets/base",
            "top": null,
            "grid_column": null,
            "overflow_y": null,
            "overflow_x": null,
            "grid_auto_flow": null,
            "grid_area": null,
            "grid_template_columns": null,
            "flex": null,
            "_model_name": "LayoutModel",
            "justify_items": null,
            "grid_row": null,
            "max_height": null,
            "align_content": null,
            "visibility": null,
            "align_self": null,
            "height": null,
            "min_height": null,
            "padding": null,
            "grid_auto_rows": null,
            "grid_gap": null,
            "max_width": null,
            "order": null,
            "_view_module_version": "1.2.0",
            "grid_template_areas": null,
            "object_position": null,
            "object_fit": null,
            "grid_auto_columns": null,
            "margin": null,
            "display": null,
            "left": null
          }
        },
        "19b6b2beb1a64bacb467f7750e6aba48": {
          "model_module": "@jupyter-widgets/controls",
          "model_name": "DescriptionStyleModel",
          "state": {
            "_view_name": "StyleView",
            "_model_name": "DescriptionStyleModel",
            "description_width": "",
            "_view_module": "@jupyter-widgets/base",
            "_model_module_version": "1.5.0",
            "_view_count": null,
            "_view_module_version": "1.2.0",
            "_model_module": "@jupyter-widgets/controls"
          }
        },
        "cc954dff989145afa2d9265d20c188d5": {
          "model_module": "@jupyter-widgets/base",
          "model_name": "LayoutModel",
          "state": {
            "_view_name": "LayoutView",
            "grid_template_rows": null,
            "right": null,
            "justify_content": null,
            "_view_module": "@jupyter-widgets/base",
            "overflow": null,
            "_model_module_version": "1.2.0",
            "_view_count": null,
            "flex_flow": null,
            "width": null,
            "min_width": null,
            "border": null,
            "align_items": null,
            "bottom": null,
            "_model_module": "@jupyter-widgets/base",
            "top": null,
            "grid_column": null,
            "overflow_y": null,
            "overflow_x": null,
            "grid_auto_flow": null,
            "grid_area": null,
            "grid_template_columns": null,
            "flex": null,
            "_model_name": "LayoutModel",
            "justify_items": null,
            "grid_row": null,
            "max_height": null,
            "align_content": null,
            "visibility": null,
            "align_self": null,
            "height": null,
            "min_height": null,
            "padding": null,
            "grid_auto_rows": null,
            "grid_gap": null,
            "max_width": null,
            "order": null,
            "_view_module_version": "1.2.0",
            "grid_template_areas": null,
            "object_position": null,
            "object_fit": null,
            "grid_auto_columns": null,
            "margin": null,
            "display": null,
            "left": null
          }
        },
        "90265abc67174047a2131cfb17ff9c0d": {
          "model_module": "@jupyter-widgets/controls",
          "model_name": "HBoxModel",
          "state": {
            "_view_name": "HBoxView",
            "_dom_classes": [],
            "_model_name": "HBoxModel",
            "_view_module": "@jupyter-widgets/controls",
            "_model_module_version": "1.5.0",
            "_view_count": null,
            "_view_module_version": "1.5.0",
            "box_style": "",
            "layout": "IPY_MODEL_da9195e1ebe342e5b9e9e96f9f8bb90b",
            "_model_module": "@jupyter-widgets/controls",
            "children": [
              "IPY_MODEL_006d10f5728541a8a5feb6f1544c5e16",
              "IPY_MODEL_244c0a43e1584f1b85e9556ad3d64c5a"
            ]
          }
        },
        "da9195e1ebe342e5b9e9e96f9f8bb90b": {
          "model_module": "@jupyter-widgets/base",
          "model_name": "LayoutModel",
          "state": {
            "_view_name": "LayoutView",
            "grid_template_rows": null,
            "right": null,
            "justify_content": null,
            "_view_module": "@jupyter-widgets/base",
            "overflow": null,
            "_model_module_version": "1.2.0",
            "_view_count": null,
            "flex_flow": null,
            "width": null,
            "min_width": null,
            "border": null,
            "align_items": null,
            "bottom": null,
            "_model_module": "@jupyter-widgets/base",
            "top": null,
            "grid_column": null,
            "overflow_y": null,
            "overflow_x": null,
            "grid_auto_flow": null,
            "grid_area": null,
            "grid_template_columns": null,
            "flex": null,
            "_model_name": "LayoutModel",
            "justify_items": null,
            "grid_row": null,
            "max_height": null,
            "align_content": null,
            "visibility": null,
            "align_self": null,
            "height": null,
            "min_height": null,
            "padding": null,
            "grid_auto_rows": null,
            "grid_gap": null,
            "max_width": null,
            "order": null,
            "_view_module_version": "1.2.0",
            "grid_template_areas": null,
            "object_position": null,
            "object_fit": null,
            "grid_auto_columns": null,
            "margin": null,
            "display": null,
            "left": null
          }
        },
        "006d10f5728541a8a5feb6f1544c5e16": {
          "model_module": "@jupyter-widgets/controls",
          "model_name": "FloatProgressModel",
          "state": {
            "_view_name": "ProgressView",
            "style": "IPY_MODEL_1e60c2491ea24d28a49e3dd945476696",
            "_dom_classes": [],
            "description": "Downloading: 100%",
            "_model_name": "FloatProgressModel",
            "bar_style": "success",
            "max": 536063208,
            "_view_module": "@jupyter-widgets/controls",
            "_model_module_version": "1.5.0",
            "value": 536063208,
            "_view_count": null,
            "_view_module_version": "1.5.0",
            "orientation": "horizontal",
            "min": 0,
            "description_tooltip": null,
            "_model_module": "@jupyter-widgets/controls",
            "layout": "IPY_MODEL_8576385e53a2403c839728e49cbd89f2"
          }
        },
        "244c0a43e1584f1b85e9556ad3d64c5a": {
          "model_module": "@jupyter-widgets/controls",
          "model_name": "HTMLModel",
          "state": {
            "_view_name": "HTMLView",
            "style": "IPY_MODEL_e6cb4fba95e545dfaf59307f057bb181",
            "_dom_classes": [],
            "description": "",
            "_model_name": "HTMLModel",
            "placeholder": "​",
            "_view_module": "@jupyter-widgets/controls",
            "_model_module_version": "1.5.0",
            "value": " 536M/536M [00:14&lt;00:00, 36.6MB/s]",
            "_view_count": null,
            "_view_module_version": "1.5.0",
            "description_tooltip": null,
            "_model_module": "@jupyter-widgets/controls",
            "layout": "IPY_MODEL_596a4339fc3248109365231375edd407"
          }
        },
        "1e60c2491ea24d28a49e3dd945476696": {
          "model_module": "@jupyter-widgets/controls",
          "model_name": "ProgressStyleModel",
          "state": {
            "_view_name": "StyleView",
            "_model_name": "ProgressStyleModel",
            "description_width": "initial",
            "_view_module": "@jupyter-widgets/base",
            "_model_module_version": "1.5.0",
            "_view_count": null,
            "_view_module_version": "1.2.0",
            "bar_color": null,
            "_model_module": "@jupyter-widgets/controls"
          }
        },
        "8576385e53a2403c839728e49cbd89f2": {
          "model_module": "@jupyter-widgets/base",
          "model_name": "LayoutModel",
          "state": {
            "_view_name": "LayoutView",
            "grid_template_rows": null,
            "right": null,
            "justify_content": null,
            "_view_module": "@jupyter-widgets/base",
            "overflow": null,
            "_model_module_version": "1.2.0",
            "_view_count": null,
            "flex_flow": null,
            "width": null,
            "min_width": null,
            "border": null,
            "align_items": null,
            "bottom": null,
            "_model_module": "@jupyter-widgets/base",
            "top": null,
            "grid_column": null,
            "overflow_y": null,
            "overflow_x": null,
            "grid_auto_flow": null,
            "grid_area": null,
            "grid_template_columns": null,
            "flex": null,
            "_model_name": "LayoutModel",
            "justify_items": null,
            "grid_row": null,
            "max_height": null,
            "align_content": null,
            "visibility": null,
            "align_self": null,
            "height": null,
            "min_height": null,
            "padding": null,
            "grid_auto_rows": null,
            "grid_gap": null,
            "max_width": null,
            "order": null,
            "_view_module_version": "1.2.0",
            "grid_template_areas": null,
            "object_position": null,
            "object_fit": null,
            "grid_auto_columns": null,
            "margin": null,
            "display": null,
            "left": null
          }
        },
        "e6cb4fba95e545dfaf59307f057bb181": {
          "model_module": "@jupyter-widgets/controls",
          "model_name": "DescriptionStyleModel",
          "state": {
            "_view_name": "StyleView",
            "_model_name": "DescriptionStyleModel",
            "description_width": "",
            "_view_module": "@jupyter-widgets/base",
            "_model_module_version": "1.5.0",
            "_view_count": null,
            "_view_module_version": "1.2.0",
            "_model_module": "@jupyter-widgets/controls"
          }
        },
        "596a4339fc3248109365231375edd407": {
          "model_module": "@jupyter-widgets/base",
          "model_name": "LayoutModel",
          "state": {
            "_view_name": "LayoutView",
            "grid_template_rows": null,
            "right": null,
            "justify_content": null,
            "_view_module": "@jupyter-widgets/base",
            "overflow": null,
            "_model_module_version": "1.2.0",
            "_view_count": null,
            "flex_flow": null,
            "width": null,
            "min_width": null,
            "border": null,
            "align_items": null,
            "bottom": null,
            "_model_module": "@jupyter-widgets/base",
            "top": null,
            "grid_column": null,
            "overflow_y": null,
            "overflow_x": null,
            "grid_auto_flow": null,
            "grid_area": null,
            "grid_template_columns": null,
            "flex": null,
            "_model_name": "LayoutModel",
            "justify_items": null,
            "grid_row": null,
            "max_height": null,
            "align_content": null,
            "visibility": null,
            "align_self": null,
            "height": null,
            "min_height": null,
            "padding": null,
            "grid_auto_rows": null,
            "grid_gap": null,
            "max_width": null,
            "order": null,
            "_view_module_version": "1.2.0",
            "grid_template_areas": null,
            "object_position": null,
            "object_fit": null,
            "grid_auto_columns": null,
            "margin": null,
            "display": null,
            "left": null
          }
        }
      }
    }
  },
  "cells": [
    {
      "cell_type": "markdown",
      "metadata": {
        "id": "view-in-github",
        "colab_type": "text"
      },
      "source": [
        "<a href=\"https://colab.research.google.com/github/Jefffish09/MachineLearning/blob/dev/Classification/multiclass/bert_multiclass_tf2.ipynb\" target=\"_parent\"><img src=\"https://colab.research.google.com/assets/colab-badge.svg\" alt=\"Open In Colab\"/></a>"
      ]
    },
    {
      "cell_type": "markdown",
      "metadata": {
        "id": "qxzWQqvupAxH"
      },
      "source": [
        "References:\r\n",
        "\r\n",
        "* https://towardsdatascience.com/multi-label-multi-class-text-classification-with-bert-transformer-and-keras-c6355eccb63a\r\n",
        "\r\n",
        "Data Source:\r\n",
        "\r\n",
        "* https://www.kaggle.com/cfpb/us-consumer-finance-complaints\r\n"
      ]
    },
    {
      "cell_type": "code",
      "metadata": {
        "colab": {
          "base_uri": "https://localhost:8080/"
        },
        "id": "7KnPyn8-tPzI",
        "outputId": "cea10466-a680-434b-ff49-cb25111d9b57"
      },
      "source": [
        "!pip install -U -q transformers"
      ],
      "execution_count": 1,
      "outputs": [
        {
          "output_type": "stream",
          "text": [
            "\u001b[K     |████████████████████████████████| 1.9MB 20.6MB/s \n",
            "\u001b[K     |████████████████████████████████| 3.2MB 52.7MB/s \n",
            "\u001b[K     |████████████████████████████████| 890kB 46.7MB/s \n",
            "\u001b[?25h  Building wheel for sacremoses (setup.py) ... \u001b[?25l\u001b[?25hdone\n"
          ],
          "name": "stdout"
        }
      ]
    },
    {
      "cell_type": "code",
      "metadata": {
        "id": "e_u-e3Goowy6"
      },
      "source": [
        "import pandas as pd\r\n",
        "import numpy as np\r\n",
        "import matplotlib.pyplot as plt\r\n",
        "import seaborn as sns\r\n",
        "from sklearn.model_selection import train_test_split\r\n",
        "from sklearn.metrics import classification_report, f1_score\r\n",
        "from transformers import TFBertModel, BertConfig, BertTokenizerFast\r\n",
        "from tensorflow.keras.layers import Input, Dropout, Dense\r\n",
        "from tensorflow.keras.models import Model\r\n",
        "from tensorflow.keras.optimizers import Adam\r\n",
        "from tensorflow.keras.callbacks import EarlyStopping\r\n",
        "from tensorflow.keras.initializers import TruncatedNormal\r\n",
        "from tensorflow.keras.losses import CategoricalCrossentropy\r\n",
        "from tensorflow.keras.metrics import CategoricalAccuracy\r\n",
        "from tensorflow.keras.utils import to_categorical"
      ],
      "execution_count": 2,
      "outputs": []
    },
    {
      "cell_type": "code",
      "metadata": {
        "id": "hWZrDGeFsplG"
      },
      "source": [
        "seed = 2021\r\n",
        "max_len = 100\r\n",
        "learning_rate=5e-05\r\n",
        "epsilon = 1e-08\r\n",
        "decay = 0.01\r\n",
        "clipnorm = 1.0\r\n",
        "batch_size = 64\r\n",
        "epochs = 10\r\n",
        "earlystopping_patience = 3\r\n",
        "model_name = \"bert-base-uncased\""
      ],
      "execution_count": 3,
      "outputs": []
    },
    {
      "cell_type": "code",
      "metadata": {
        "colab": {
          "base_uri": "https://localhost:8080/",
          "height": 197
        },
        "id": "0xYuYZzcprJ0",
        "outputId": "4ea9f66d-7163-4e53-ff04-b6e304e5a9e5"
      },
      "source": [
        "# Import data from csv\r\n",
        "df = pd.read_csv(\"/content/drive/MyDrive/consumer_complaints.csv\", \r\n",
        "                usecols=(\"product\", \"consumer_complaint_narrative\"),\r\n",
        "                dtype={\"consumer_complaint_narrative\": object})\r\n",
        "\r\n",
        "# Only interested in data with consumer complaints\r\n",
        "df = df[df[\"consumer_complaint_narrative\"].notnull()]\r\n",
        "df = df[df[\"product\"].notnull()]\r\n",
        "df.reset_index(drop=True, inplace=True)\r\n",
        "df = df.dropna()\r\n",
        "\r\n",
        "df.head()"
      ],
      "execution_count": 4,
      "outputs": [
        {
          "output_type": "execute_result",
          "data": {
            "text/html": [
              "<div>\n",
              "<style scoped>\n",
              "    .dataframe tbody tr th:only-of-type {\n",
              "        vertical-align: middle;\n",
              "    }\n",
              "\n",
              "    .dataframe tbody tr th {\n",
              "        vertical-align: top;\n",
              "    }\n",
              "\n",
              "    .dataframe thead th {\n",
              "        text-align: right;\n",
              "    }\n",
              "</style>\n",
              "<table border=\"1\" class=\"dataframe\">\n",
              "  <thead>\n",
              "    <tr style=\"text-align: right;\">\n",
              "      <th></th>\n",
              "      <th>product</th>\n",
              "      <th>consumer_complaint_narrative</th>\n",
              "    </tr>\n",
              "  </thead>\n",
              "  <tbody>\n",
              "    <tr>\n",
              "      <th>0</th>\n",
              "      <td>Debt collection</td>\n",
              "      <td>XXXX has claimed I owe them {$27.00} for XXXX ...</td>\n",
              "    </tr>\n",
              "    <tr>\n",
              "      <th>1</th>\n",
              "      <td>Consumer Loan</td>\n",
              "      <td>Due to inconsistencies in the amount owed that...</td>\n",
              "    </tr>\n",
              "    <tr>\n",
              "      <th>2</th>\n",
              "      <td>Mortgage</td>\n",
              "      <td>In XX/XX/XXXX my wages that I earned at my job...</td>\n",
              "    </tr>\n",
              "    <tr>\n",
              "      <th>3</th>\n",
              "      <td>Mortgage</td>\n",
              "      <td>I have an open and current mortgage with Chase...</td>\n",
              "    </tr>\n",
              "    <tr>\n",
              "      <th>4</th>\n",
              "      <td>Mortgage</td>\n",
              "      <td>XXXX was submitted XX/XX/XXXX. At the time I s...</td>\n",
              "    </tr>\n",
              "  </tbody>\n",
              "</table>\n",
              "</div>"
            ],
            "text/plain": [
              "           product                       consumer_complaint_narrative\n",
              "0  Debt collection  XXXX has claimed I owe them {$27.00} for XXXX ...\n",
              "1    Consumer Loan  Due to inconsistencies in the amount owed that...\n",
              "2         Mortgage  In XX/XX/XXXX my wages that I earned at my job...\n",
              "3         Mortgage  I have an open and current mortgage with Chase...\n",
              "4         Mortgage  XXXX was submitted XX/XX/XXXX. At the time I s..."
            ]
          },
          "metadata": {
            "tags": []
          },
          "execution_count": 4
        }
      ]
    },
    {
      "cell_type": "code",
      "metadata": {
        "colab": {
          "base_uri": "https://localhost:8080/",
          "height": 197
        },
        "id": "ruNo--4fquJZ",
        "outputId": "dd1d10c4-e827-406e-e8f1-8ec4023ff615"
      },
      "source": [
        "# Set your model output as categorical and save in new label col\r\n",
        "df[\"product_label\"] = pd.Categorical(df[\"product\"])\r\n",
        "df[\"product\"] = df[\"product_label\"].cat.codes\r\n",
        "df.head()"
      ],
      "execution_count": 5,
      "outputs": [
        {
          "output_type": "execute_result",
          "data": {
            "text/html": [
              "<div>\n",
              "<style scoped>\n",
              "    .dataframe tbody tr th:only-of-type {\n",
              "        vertical-align: middle;\n",
              "    }\n",
              "\n",
              "    .dataframe tbody tr th {\n",
              "        vertical-align: top;\n",
              "    }\n",
              "\n",
              "    .dataframe thead th {\n",
              "        text-align: right;\n",
              "    }\n",
              "</style>\n",
              "<table border=\"1\" class=\"dataframe\">\n",
              "  <thead>\n",
              "    <tr style=\"text-align: right;\">\n",
              "      <th></th>\n",
              "      <th>product</th>\n",
              "      <th>consumer_complaint_narrative</th>\n",
              "      <th>product_label</th>\n",
              "    </tr>\n",
              "  </thead>\n",
              "  <tbody>\n",
              "    <tr>\n",
              "      <th>0</th>\n",
              "      <td>4</td>\n",
              "      <td>XXXX has claimed I owe them {$27.00} for XXXX ...</td>\n",
              "      <td>Debt collection</td>\n",
              "    </tr>\n",
              "    <tr>\n",
              "      <th>1</th>\n",
              "      <td>1</td>\n",
              "      <td>Due to inconsistencies in the amount owed that...</td>\n",
              "      <td>Consumer Loan</td>\n",
              "    </tr>\n",
              "    <tr>\n",
              "      <th>2</th>\n",
              "      <td>6</td>\n",
              "      <td>In XX/XX/XXXX my wages that I earned at my job...</td>\n",
              "      <td>Mortgage</td>\n",
              "    </tr>\n",
              "    <tr>\n",
              "      <th>3</th>\n",
              "      <td>6</td>\n",
              "      <td>I have an open and current mortgage with Chase...</td>\n",
              "      <td>Mortgage</td>\n",
              "    </tr>\n",
              "    <tr>\n",
              "      <th>4</th>\n",
              "      <td>6</td>\n",
              "      <td>XXXX was submitted XX/XX/XXXX. At the time I s...</td>\n",
              "      <td>Mortgage</td>\n",
              "    </tr>\n",
              "  </tbody>\n",
              "</table>\n",
              "</div>"
            ],
            "text/plain": [
              "   product                       consumer_complaint_narrative    product_label\n",
              "0        4  XXXX has claimed I owe them {$27.00} for XXXX ...  Debt collection\n",
              "1        1  Due to inconsistencies in the amount owed that...    Consumer Loan\n",
              "2        6  In XX/XX/XXXX my wages that I earned at my job...         Mortgage\n",
              "3        6  I have an open and current mortgage with Chase...         Mortgage\n",
              "4        6  XXXX was submitted XX/XX/XXXX. At the time I s...         Mortgage"
            ]
          },
          "metadata": {
            "tags": []
          },
          "execution_count": 5
        }
      ]
    },
    {
      "cell_type": "code",
      "metadata": {
        "colab": {
          "base_uri": "https://localhost:8080/"
        },
        "id": "2K-PN3exGAEe",
        "outputId": "dfc15ea5-38d3-4583-9858-89267ae81337"
      },
      "source": [
        "labels_names_dict = dict(enumerate(df[\"product_label\"].cat.categories))\r\n",
        "labels = []\r\n",
        "label_names = []\r\n",
        "for i in labels_names_dict:\r\n",
        "  labels.append(i)\r\n",
        "  label_names.append(labels_names_dict[i])\r\n",
        "print(labels_names_dict)"
      ],
      "execution_count": 6,
      "outputs": [
        {
          "output_type": "stream",
          "text": [
            "{0: 'Bank account or service', 1: 'Consumer Loan', 2: 'Credit card', 3: 'Credit reporting', 4: 'Debt collection', 5: 'Money transfers', 6: 'Mortgage', 7: 'Other financial service', 8: 'Payday loan', 9: 'Prepaid card', 10: 'Student loan'}\n"
          ],
          "name": "stdout"
        }
      ]
    },
    {
      "cell_type": "code",
      "metadata": {
        "colab": {
          "base_uri": "https://localhost:8080/",
          "height": 197
        },
        "id": "B-mH32yvq6Bv",
        "outputId": "661fd49a-9a36-4c21-e0c4-f9cfb51398dd"
      },
      "source": [
        "# Split into train and test - stratify over Issue\r\n",
        "df_train, df_test = train_test_split(df, test_size=0.2, random_state=seed, stratify=df[\"product_label\"])\r\n",
        "\r\n",
        "df_train.head()"
      ],
      "execution_count": 7,
      "outputs": [
        {
          "output_type": "execute_result",
          "data": {
            "text/html": [
              "<div>\n",
              "<style scoped>\n",
              "    .dataframe tbody tr th:only-of-type {\n",
              "        vertical-align: middle;\n",
              "    }\n",
              "\n",
              "    .dataframe tbody tr th {\n",
              "        vertical-align: top;\n",
              "    }\n",
              "\n",
              "    .dataframe thead th {\n",
              "        text-align: right;\n",
              "    }\n",
              "</style>\n",
              "<table border=\"1\" class=\"dataframe\">\n",
              "  <thead>\n",
              "    <tr style=\"text-align: right;\">\n",
              "      <th></th>\n",
              "      <th>product</th>\n",
              "      <th>consumer_complaint_narrative</th>\n",
              "      <th>product_label</th>\n",
              "    </tr>\n",
              "  </thead>\n",
              "  <tbody>\n",
              "    <tr>\n",
              "      <th>55881</th>\n",
              "      <td>1</td>\n",
              "      <td>I was in a car accident and was dealing with b...</td>\n",
              "      <td>Consumer Loan</td>\n",
              "    </tr>\n",
              "    <tr>\n",
              "      <th>53666</th>\n",
              "      <td>3</td>\n",
              "      <td>I have already done a fraud alert I need my re...</td>\n",
              "      <td>Credit reporting</td>\n",
              "    </tr>\n",
              "    <tr>\n",
              "      <th>27439</th>\n",
              "      <td>6</td>\n",
              "      <td>I signed a modification offer submitted to me ...</td>\n",
              "      <td>Mortgage</td>\n",
              "    </tr>\n",
              "    <tr>\n",
              "      <th>61579</th>\n",
              "      <td>1</td>\n",
              "      <td>I believe that I was misled by PNC bank regard...</td>\n",
              "      <td>Consumer Loan</td>\n",
              "    </tr>\n",
              "    <tr>\n",
              "      <th>40505</th>\n",
              "      <td>3</td>\n",
              "      <td>Equifax does not respond to me in writing to p...</td>\n",
              "      <td>Credit reporting</td>\n",
              "    </tr>\n",
              "  </tbody>\n",
              "</table>\n",
              "</div>"
            ],
            "text/plain": [
              "       product  ...     product_label\n",
              "55881        1  ...     Consumer Loan\n",
              "53666        3  ...  Credit reporting\n",
              "27439        6  ...          Mortgage\n",
              "61579        1  ...     Consumer Loan\n",
              "40505        3  ...  Credit reporting\n",
              "\n",
              "[5 rows x 3 columns]"
            ]
          },
          "metadata": {
            "tags": []
          },
          "execution_count": 7
        }
      ]
    },
    {
      "cell_type": "code",
      "metadata": {
        "id": "AFeNEfG945jY"
      },
      "source": [
        "def plot_perf(history):\r\n",
        "  # Create a plot of accuracy and loss over time\r\n",
        "  history_dict = history.history\r\n",
        "  history_dict.keys()\r\n",
        "\r\n",
        "  acc = history_dict[\"accuracy\"]\r\n",
        "  val_acc = history_dict[\"val_accuracy\"]\r\n",
        "  loss = history_dict[\"loss\"]\r\n",
        "  val_loss = history_dict[\"val_loss\"]\r\n",
        "\r\n",
        "  epochs = range(1, len(acc) + 1)\r\n",
        "\r\n",
        "  # Use plot styling from seaborn.\r\n",
        "  sns.set(style=\"darkgrid\")\r\n",
        "  # Increase the plot size and font size.\r\n",
        "  sns.set(font_scale=1.5)\r\n",
        "  plt.rcParams[\"figure.figsize\"] = (12, 6)\r\n",
        "\r\n",
        "  # Training and validation loss\r\n",
        "  plt.plot(epochs, loss, \"r\", label=\"Training loss\")\r\n",
        "  # b is for \"solid blue line\"\r\n",
        "  plt.plot(epochs, val_loss, \"b\", label=\"Validation loss\")\r\n",
        "  plt.title(\"Training and validation loss\")\r\n",
        "  plt.xlabel(\"Epochs\")\r\n",
        "  plt.ylabel(\"Loss\")\r\n",
        "  plt.legend()\r\n",
        "  plt.show()\r\n",
        "\r\n",
        "  # Training and validation accuracy\r\n",
        "  plt.plot(epochs, acc, \"r\", label=\"Training acc\")\r\n",
        "  plt.plot(epochs, val_acc, \"b\", label=\"Validation acc\")\r\n",
        "  plt.title(\"Training and validation accuracy\")\r\n",
        "  plt.xlabel(\"Epochs\")\r\n",
        "  plt.ylabel(\"Accuracy\")\r\n",
        "  plt.legend(loc=\"lower right\")\r\n",
        "  plt.show()"
      ],
      "execution_count": 8,
      "outputs": []
    },
    {
      "cell_type": "code",
      "metadata": {
        "colab": {
          "base_uri": "https://localhost:8080/",
          "height": 318,
          "referenced_widgets": [
            "3d652ced73694a57afa866c827ab7e13",
            "ecbc33a5a13a4a77b527229af37bfc36",
            "64a4326c0e124a40a1f91f16fb048163",
            "783788eea9674235b5077c8d6bbe30ec",
            "87a93d624bf84b0ab8c1ef287f8fb7bd",
            "ffc6258d2afd49ab98fdfa9ae84c54ab",
            "2311abd63d0e4b92a400a4160a294cbb",
            "5db99ae6d45f408a8ca98b6801557c65",
            "ac612f23311f4d41ab6e9a9773d0da56",
            "f8cd4460b2dc499eb1c4165cda069da6",
            "7b01ce0b41174a00ad69269a5e8c6426",
            "625042d938734db6a14743c83b7b1e04",
            "3896f568da904f82a53f27c426615513",
            "1c0fde53375d493aad60acf40dd702f4",
            "b2c32b13aa2b48d8939e1547c44bceb2",
            "3fc9d415e9424850a0eacb5c2caf9d01",
            "906c77d1f53c41d8acd0c6724be0dfa9",
            "c0934dc0c6484c33a5366c5c9e38820c",
            "7766688f398e4726996d4046517112d3",
            "c0cf641b250745e0ae967b1cdb3a6e05",
            "6034879eb0fe47faa4bc964e385644d7",
            "a6bc3c2e19634f329a3cb66cf6e893fe",
            "19b6b2beb1a64bacb467f7750e6aba48",
            "cc954dff989145afa2d9265d20c188d5",
            "90265abc67174047a2131cfb17ff9c0d",
            "da9195e1ebe342e5b9e9e96f9f8bb90b",
            "006d10f5728541a8a5feb6f1544c5e16",
            "244c0a43e1584f1b85e9556ad3d64c5a",
            "1e60c2491ea24d28a49e3dd945476696",
            "8576385e53a2403c839728e49cbd89f2",
            "e6cb4fba95e545dfaf59307f057bb181",
            "596a4339fc3248109365231375edd407"
          ]
        },
        "id": "Kp_9AHQEs7iO",
        "outputId": "ef5d196d-93f4-401a-b3a3-9ea57ba04c64"
      },
      "source": [
        "# Load transformers config and set output_hidden_states to False\r\n",
        "config = BertConfig.from_pretrained(model_name)\r\n",
        "config.output_hidden_states = False\r\n",
        "\r\n",
        "# Load BERT tokenizer\r\n",
        "tokenizer = BertTokenizerFast.from_pretrained(pretrained_model_name_or_path=model_name, config=config)\r\n",
        "\r\n",
        "# Load the Transformers BERT model\r\n",
        "transformer_model = TFBertModel.from_pretrained(model_name, config=config)"
      ],
      "execution_count": 9,
      "outputs": [
        {
          "output_type": "display_data",
          "data": {
            "application/vnd.jupyter.widget-view+json": {
              "model_id": "3d652ced73694a57afa866c827ab7e13",
              "version_minor": 0,
              "version_major": 2
            },
            "text/plain": [
              "HBox(children=(FloatProgress(value=0.0, description='Downloading', max=433.0, style=ProgressStyle(description_…"
            ]
          },
          "metadata": {
            "tags": []
          }
        },
        {
          "output_type": "stream",
          "text": [
            "\n"
          ],
          "name": "stdout"
        },
        {
          "output_type": "display_data",
          "data": {
            "application/vnd.jupyter.widget-view+json": {
              "model_id": "ac612f23311f4d41ab6e9a9773d0da56",
              "version_minor": 0,
              "version_major": 2
            },
            "text/plain": [
              "HBox(children=(FloatProgress(value=0.0, description='Downloading', max=231508.0, style=ProgressStyle(descripti…"
            ]
          },
          "metadata": {
            "tags": []
          }
        },
        {
          "output_type": "stream",
          "text": [
            "\n"
          ],
          "name": "stdout"
        },
        {
          "output_type": "display_data",
          "data": {
            "application/vnd.jupyter.widget-view+json": {
              "model_id": "906c77d1f53c41d8acd0c6724be0dfa9",
              "version_minor": 0,
              "version_major": 2
            },
            "text/plain": [
              "HBox(children=(FloatProgress(value=0.0, description='Downloading', max=466062.0, style=ProgressStyle(descripti…"
            ]
          },
          "metadata": {
            "tags": []
          }
        },
        {
          "output_type": "stream",
          "text": [
            "\n"
          ],
          "name": "stdout"
        },
        {
          "output_type": "display_data",
          "data": {
            "application/vnd.jupyter.widget-view+json": {
              "model_id": "90265abc67174047a2131cfb17ff9c0d",
              "version_minor": 0,
              "version_major": 2
            },
            "text/plain": [
              "HBox(children=(FloatProgress(value=0.0, description='Downloading', max=536063208.0, style=ProgressStyle(descri…"
            ]
          },
          "metadata": {
            "tags": []
          }
        },
        {
          "output_type": "stream",
          "text": [
            "\n"
          ],
          "name": "stdout"
        },
        {
          "output_type": "stream",
          "text": [
            "Some layers from the model checkpoint at bert-base-uncased were not used when initializing TFBertModel: ['nsp___cls', 'mlm___cls']\n",
            "- This IS expected if you are initializing TFBertModel from the checkpoint of a model trained on another task or with another architecture (e.g. initializing a BertForSequenceClassification model from a BertForPreTraining model).\n",
            "- This IS NOT expected if you are initializing TFBertModel from the checkpoint of a model that you expect to be exactly identical (initializing a BertForSequenceClassification model from a BertForSequenceClassification model).\n",
            "All the layers of TFBertModel were initialized from the model checkpoint at bert-base-uncased.\n",
            "If your task is similar to the task the model of the checkpoint was trained on, you can already use TFBertModel for predictions without further training.\n"
          ],
          "name": "stderr"
        }
      ]
    },
    {
      "cell_type": "code",
      "metadata": {
        "colab": {
          "base_uri": "https://localhost:8080/",
          "height": 1000
        },
        "id": "4EXLpxVpuVvZ",
        "outputId": "e1258ddc-601d-438c-85a9-afe710c0fbba"
      },
      "source": [
        "#######################################\r\n",
        "### ------- Train the model ------- ###\r\n",
        "\r\n",
        "earlystop_callback = EarlyStopping(\r\n",
        "  monitor=\"val_loss\",\r\n",
        "  min_delta=0.0001,\r\n",
        "  patience=earlystopping_patience,\r\n",
        "  restore_best_weights=True)\r\n",
        "\r\n",
        "# Load the MainLayer\r\n",
        "bert = transformer_model.layers[0]\r\n",
        "\r\n",
        "# Build your model input\r\n",
        "input_ids = Input(shape=(max_len,), name=\"input_ids\", dtype=\"int32\")\r\n",
        "inputs = {\"input_ids\": input_ids}\r\n",
        "\r\n",
        "# Load the Transformers BERT model as a layer in a Keras model\r\n",
        "bert_model = bert(inputs)[1]\r\n",
        "dropout = Dropout(config.hidden_dropout_prob, name=\"pooled_output\")\r\n",
        "pooled_output = dropout(bert_model, training=False)\r\n",
        "\r\n",
        "# Then build your model output\r\n",
        "product = Dense(units=len(df_train[\"product_label\"].value_counts()), kernel_initializer=TruncatedNormal(stddev=config.initializer_range), name=\"product\")(pooled_output)\r\n",
        "outputs = {\"product\": product}\r\n",
        "\r\n",
        "# And combine it all in a model object\r\n",
        "model = Model(inputs=inputs, outputs=outputs, name=\"BERT_MultiClass\")\r\n",
        "\r\n",
        "# Take a look at the model\r\n",
        "# model.summary()\r\n",
        "\r\n",
        "# Set an optimizer\r\n",
        "optimizer = Adam(\r\n",
        "    learning_rate=learning_rate,\r\n",
        "    epsilon=epsilon,\r\n",
        "    decay=decay,\r\n",
        "    clipnorm=clipnorm)\r\n",
        "\r\n",
        "# Set loss and metrics\r\n",
        "loss = {\"product\": CategoricalCrossentropy(from_logits=True)}\r\n",
        "metric = {\"product\": CategoricalAccuracy(\"accuracy\")}\r\n",
        "\r\n",
        "# Compile the model\r\n",
        "model.compile(\r\n",
        "    optimizer=optimizer,\r\n",
        "    loss=loss, \r\n",
        "    metrics=metric)\r\n",
        "\r\n",
        "# Ready output data for the model\r\n",
        "y_product = to_categorical(df_train[\"product\"])\r\n",
        "\r\n",
        "# Tokenize the input (takes some time)\r\n",
        "x = tokenizer(\r\n",
        "    text=df_train[\"consumer_complaint_narrative\"].to_list(),\r\n",
        "    add_special_tokens=True,\r\n",
        "    max_length=max_len,\r\n",
        "    truncation=True,\r\n",
        "    padding=True, \r\n",
        "    return_tensors=\"tf\",\r\n",
        "    return_token_type_ids=False,\r\n",
        "    return_attention_mask=False,\r\n",
        "    verbose=True)\r\n",
        "\r\n",
        "# Fit the model\r\n",
        "history = model.fit(\r\n",
        "    x={\"input_ids\": x[\"input_ids\"]},\r\n",
        "    y={\"product\": y_product},\r\n",
        "    validation_split=0.2,\r\n",
        "    batch_size=batch_size,\r\n",
        "    epochs=epochs,\r\n",
        "    verbose=1,\r\n",
        "    callbacks=[earlystop_callback])\r\n",
        "\r\n",
        "plot_perf(history)\r\n",
        "\r\n",
        "#######################################\r\n",
        "### ----- Evaluate the model ------ ###\r\n",
        "\r\n",
        "# Ready test data\r\n",
        "test_y_product = to_categorical(df_test[\"product\"])\r\n",
        "test_x = tokenizer(\r\n",
        "    text=df_test[\"consumer_complaint_narrative\"].to_list(),\r\n",
        "    add_special_tokens=True,\r\n",
        "    max_length=max_len,\r\n",
        "    truncation=True,\r\n",
        "    padding=True, \r\n",
        "    return_tensors=\"tf\",\r\n",
        "    return_token_type_ids=False,\r\n",
        "    return_attention_mask=False,\r\n",
        "    verbose=True)\r\n",
        "\r\n",
        "# Run evaluation\r\n",
        "loss, acc = model.evaluate(\r\n",
        "    x={\"input_ids\": test_x[\"input_ids\"]},\r\n",
        "    y={\"product\": test_y_product}\r\n",
        ")\r\n",
        "\r\n",
        "y_preds = []\r\n",
        "predictions = model.predict(x={\"input_ids\": test_x[\"input_ids\"]})\r\n",
        "for prediction in predictions[\"product\"]:\r\n",
        "      y_preds.append(np.argmax(prediction))\r\n",
        "\r\n",
        "y_true = np.argmax(test_y_product, axis=1)\r\n",
        "report = classification_report(y_true=y_true, y_pred=y_preds, labels=labels, target_names=label_names, digits=3, output_dict=False)\r\n",
        "print(report)"
      ],
      "execution_count": 10,
      "outputs": [
        {
          "output_type": "stream",
          "text": [
            "Epoch 1/10\n",
            "669/669 [==============================] - 957s 1s/step - loss: 1.0230 - accuracy: 0.6771 - val_loss: 0.5017 - val_accuracy: 0.8527\n",
            "Epoch 2/10\n",
            "669/669 [==============================] - 944s 1s/step - loss: 0.4746 - accuracy: 0.8634 - val_loss: 0.4827 - val_accuracy: 0.8570\n",
            "Epoch 3/10\n",
            "669/669 [==============================] - 946s 1s/step - loss: 0.4116 - accuracy: 0.8814 - val_loss: 0.4667 - val_accuracy: 0.8610\n",
            "Epoch 4/10\n",
            "669/669 [==============================] - 946s 1s/step - loss: 0.3811 - accuracy: 0.8917 - val_loss: 0.4712 - val_accuracy: 0.8609\n",
            "Epoch 5/10\n",
            "669/669 [==============================] - 948s 1s/step - loss: 0.3613 - accuracy: 0.8961 - val_loss: 0.4656 - val_accuracy: 0.8636\n",
            "Epoch 6/10\n",
            "669/669 [==============================] - 947s 1s/step - loss: 0.3392 - accuracy: 0.9039 - val_loss: 0.4680 - val_accuracy: 0.8619\n",
            "Epoch 7/10\n",
            "669/669 [==============================] - 944s 1s/step - loss: 0.3361 - accuracy: 0.9032 - val_loss: 0.4737 - val_accuracy: 0.8609\n",
            "Epoch 8/10\n",
            "669/669 [==============================] - 945s 1s/step - loss: 0.3299 - accuracy: 0.9073 - val_loss: 0.4738 - val_accuracy: 0.8613\n"
          ],
          "name": "stdout"
        },
        {
          "output_type": "display_data",
          "data": {
            "image/png": "[encoded data removed]",
            "text/plain": [
              "<Figure size 864x432 with 1 Axes>"
            ]
          },
          "metadata": {
            "tags": []
          }
        },
        {
          "output_type": "display_data",
          "data": {
            "image/png": "[encoded data removed]",
            "text/plain": [
              "<Figure size 864x432 with 1 Axes>"
            ]
          },
          "metadata": {
            "tags": []
          }
        },
        {
          "output_type": "stream",
          "text": [
            "418/418 [==============================] - 91s 218ms/step - loss: 0.4603 - accuracy: 0.8635\n",
            "                         precision    recall  f1-score   support\n",
            "\n",
            "Bank account or service      0.849     0.776     0.811      1142\n",
            "          Consumer Loan      0.756     0.698     0.726       736\n",
            "            Credit card      0.800     0.865     0.832      1586\n",
            "       Credit reporting      0.895     0.876     0.885      2505\n",
            "        Debt collection      0.856     0.875     0.866      3511\n",
            "        Money transfers      0.721     0.662     0.690       133\n",
            "               Mortgage      0.932     0.952     0.942      2984\n",
            "Other financial service      0.000     0.000     0.000        22\n",
            "            Payday loan      0.684     0.448     0.542       145\n",
            "           Prepaid card      0.755     0.808     0.781       172\n",
            "           Student loan      0.841     0.859     0.850       426\n",
            "\n",
            "               accuracy                          0.863     13362\n",
            "              macro avg      0.736     0.711     0.720     13362\n",
            "           weighted avg      0.861     0.863     0.862     13362\n",
            "\n"
          ],
          "name": "stdout"
        },
        {
          "output_type": "stream",
          "text": [
            "/usr/local/lib/python3.7/dist-packages/sklearn/metrics/_classification.py:1272: UndefinedMetricWarning: Precision and F-score are ill-defined and being set to 0.0 in labels with no predicted samples. Use `zero_division` parameter to control this behavior.\n",
            "  _warn_prf(average, modifier, msg_start, len(result))\n"
          ],
          "name": "stderr"
        }
      ]
    }
  ]
}