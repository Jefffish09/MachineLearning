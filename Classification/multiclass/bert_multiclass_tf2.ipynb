{
  "nbformat": 4,
  "nbformat_minor": 0,
  "metadata": {
    "colab": {
      "name": "bert_multiclass_tf2.ipynb",
      "provenance": [],
      "collapsed_sections": [],
      "include_colab_link": true
    },
    "kernelspec": {
      "name": "python3",
      "display_name": "Python 3"
    },
    "accelerator": "GPU",
    "widgets": {
      "application/vnd.jupyter.widget-state+json": {
        "5d999d58408e4fcdacdf046995ebac66": {
          "model_module": "@jupyter-widgets/controls",
          "model_name": "HBoxModel",
          "state": {
            "_view_name": "HBoxView",
            "_dom_classes": [],
            "_model_name": "HBoxModel",
            "_view_module": "@jupyter-widgets/controls",
            "_model_module_version": "1.5.0",
            "_view_count": null,
            "_view_module_version": "1.5.0",
            "box_style": "",
            "layout": "IPY_MODEL_6b00d31b99be48f79e3095d02d399338",
            "_model_module": "@jupyter-widgets/controls",
            "children": [
              "IPY_MODEL_bcde71a6633b42a7b62ba9c3b4b3a082",
              "IPY_MODEL_8e269ad239c04420bdb5fcc2f946d297"
            ]
          }
        },
        "6b00d31b99be48f79e3095d02d399338": {
          "model_module": "@jupyter-widgets/base",
          "model_name": "LayoutModel",
          "state": {
            "_view_name": "LayoutView",
            "grid_template_rows": null,
            "right": null,
            "justify_content": null,
            "_view_module": "@jupyter-widgets/base",
            "overflow": null,
            "_model_module_version": "1.2.0",
            "_view_count": null,
            "flex_flow": null,
            "width": null,
            "min_width": null,
            "border": null,
            "align_items": null,
            "bottom": null,
            "_model_module": "@jupyter-widgets/base",
            "top": null,
            "grid_column": null,
            "overflow_y": null,
            "overflow_x": null,
            "grid_auto_flow": null,
            "grid_area": null,
            "grid_template_columns": null,
            "flex": null,
            "_model_name": "LayoutModel",
            "justify_items": null,
            "grid_row": null,
            "max_height": null,
            "align_content": null,
            "visibility": null,
            "align_self": null,
            "height": null,
            "min_height": null,
            "padding": null,
            "grid_auto_rows": null,
            "grid_gap": null,
            "max_width": null,
            "order": null,
            "_view_module_version": "1.2.0",
            "grid_template_areas": null,
            "object_position": null,
            "object_fit": null,
            "grid_auto_columns": null,
            "margin": null,
            "display": null,
            "left": null
          }
        },
        "bcde71a6633b42a7b62ba9c3b4b3a082": {
          "model_module": "@jupyter-widgets/controls",
          "model_name": "FloatProgressModel",
          "state": {
            "_view_name": "ProgressView",
            "style": "IPY_MODEL_adaeec3019684f1fa4a94fad21df56ab",
            "_dom_classes": [],
            "description": "Downloading: 100%",
            "_model_name": "FloatProgressModel",
            "bar_style": "success",
            "max": 433,
            "_view_module": "@jupyter-widgets/controls",
            "_model_module_version": "1.5.0",
            "value": 433,
            "_view_count": null,
            "_view_module_version": "1.5.0",
            "orientation": "horizontal",
            "min": 0,
            "description_tooltip": null,
            "_model_module": "@jupyter-widgets/controls",
            "layout": "IPY_MODEL_b7e5eb6cf3064d7e8760c2088700a2cc"
          }
        },
        "8e269ad239c04420bdb5fcc2f946d297": {
          "model_module": "@jupyter-widgets/controls",
          "model_name": "HTMLModel",
          "state": {
            "_view_name": "HTMLView",
            "style": "IPY_MODEL_c6a3a25fdcc84659b185b9806ab15f89",
            "_dom_classes": [],
            "description": "",
            "_model_name": "HTMLModel",
            "placeholder": "​",
            "_view_module": "@jupyter-widgets/controls",
            "_model_module_version": "1.5.0",
            "value": " 433/433 [00:00&lt;00:00, 939B/s]",
            "_view_count": null,
            "_view_module_version": "1.5.0",
            "description_tooltip": null,
            "_model_module": "@jupyter-widgets/controls",
            "layout": "IPY_MODEL_d8086b8fc4414fc994ea20e9a96cd73e"
          }
        },
        "adaeec3019684f1fa4a94fad21df56ab": {
          "model_module": "@jupyter-widgets/controls",
          "model_name": "ProgressStyleModel",
          "state": {
            "_view_name": "StyleView",
            "_model_name": "ProgressStyleModel",
            "description_width": "initial",
            "_view_module": "@jupyter-widgets/base",
            "_model_module_version": "1.5.0",
            "_view_count": null,
            "_view_module_version": "1.2.0",
            "bar_color": null,
            "_model_module": "@jupyter-widgets/controls"
          }
        },
        "b7e5eb6cf3064d7e8760c2088700a2cc": {
          "model_module": "@jupyter-widgets/base",
          "model_name": "LayoutModel",
          "state": {
            "_view_name": "LayoutView",
            "grid_template_rows": null,
            "right": null,
            "justify_content": null,
            "_view_module": "@jupyter-widgets/base",
            "overflow": null,
            "_model_module_version": "1.2.0",
            "_view_count": null,
            "flex_flow": null,
            "width": null,
            "min_width": null,
            "border": null,
            "align_items": null,
            "bottom": null,
            "_model_module": "@jupyter-widgets/base",
            "top": null,
            "grid_column": null,
            "overflow_y": null,
            "overflow_x": null,
            "grid_auto_flow": null,
            "grid_area": null,
            "grid_template_columns": null,
            "flex": null,
            "_model_name": "LayoutModel",
            "justify_items": null,
            "grid_row": null,
            "max_height": null,
            "align_content": null,
            "visibility": null,
            "align_self": null,
            "height": null,
            "min_height": null,
            "padding": null,
            "grid_auto_rows": null,
            "grid_gap": null,
            "max_width": null,
            "order": null,
            "_view_module_version": "1.2.0",
            "grid_template_areas": null,
            "object_position": null,
            "object_fit": null,
            "grid_auto_columns": null,
            "margin": null,
            "display": null,
            "left": null
          }
        },
        "c6a3a25fdcc84659b185b9806ab15f89": {
          "model_module": "@jupyter-widgets/controls",
          "model_name": "DescriptionStyleModel",
          "state": {
            "_view_name": "StyleView",
            "_model_name": "DescriptionStyleModel",
            "description_width": "",
            "_view_module": "@jupyter-widgets/base",
            "_model_module_version": "1.5.0",
            "_view_count": null,
            "_view_module_version": "1.2.0",
            "_model_module": "@jupyter-widgets/controls"
          }
        },
        "d8086b8fc4414fc994ea20e9a96cd73e": {
          "model_module": "@jupyter-widgets/base",
          "model_name": "LayoutModel",
          "state": {
            "_view_name": "LayoutView",
            "grid_template_rows": null,
            "right": null,
            "justify_content": null,
            "_view_module": "@jupyter-widgets/base",
            "overflow": null,
            "_model_module_version": "1.2.0",
            "_view_count": null,
            "flex_flow": null,
            "width": null,
            "min_width": null,
            "border": null,
            "align_items": null,
            "bottom": null,
            "_model_module": "@jupyter-widgets/base",
            "top": null,
            "grid_column": null,
            "overflow_y": null,
            "overflow_x": null,
            "grid_auto_flow": null,
            "grid_area": null,
            "grid_template_columns": null,
            "flex": null,
            "_model_name": "LayoutModel",
            "justify_items": null,
            "grid_row": null,
            "max_height": null,
            "align_content": null,
            "visibility": null,
            "align_self": null,
            "height": null,
            "min_height": null,
            "padding": null,
            "grid_auto_rows": null,
            "grid_gap": null,
            "max_width": null,
            "order": null,
            "_view_module_version": "1.2.0",
            "grid_template_areas": null,
            "object_position": null,
            "object_fit": null,
            "grid_auto_columns": null,
            "margin": null,
            "display": null,
            "left": null
          }
        },
        "d1669f36054b4799b9940586276385d2": {
          "model_module": "@jupyter-widgets/controls",
          "model_name": "HBoxModel",
          "state": {
            "_view_name": "HBoxView",
            "_dom_classes": [],
            "_model_name": "HBoxModel",
            "_view_module": "@jupyter-widgets/controls",
            "_model_module_version": "1.5.0",
            "_view_count": null,
            "_view_module_version": "1.5.0",
            "box_style": "",
            "layout": "IPY_MODEL_4004bbc9685a44609a2d11d768938cbe",
            "_model_module": "@jupyter-widgets/controls",
            "children": [
              "IPY_MODEL_aec2ebccff064eba8b062440dd98edd4",
              "IPY_MODEL_d6c12f8100e24ce0a22d8757e8dd6d52"
            ]
          }
        },
        "4004bbc9685a44609a2d11d768938cbe": {
          "model_module": "@jupyter-widgets/base",
          "model_name": "LayoutModel",
          "state": {
            "_view_name": "LayoutView",
            "grid_template_rows": null,
            "right": null,
            "justify_content": null,
            "_view_module": "@jupyter-widgets/base",
            "overflow": null,
            "_model_module_version": "1.2.0",
            "_view_count": null,
            "flex_flow": null,
            "width": null,
            "min_width": null,
            "border": null,
            "align_items": null,
            "bottom": null,
            "_model_module": "@jupyter-widgets/base",
            "top": null,
            "grid_column": null,
            "overflow_y": null,
            "overflow_x": null,
            "grid_auto_flow": null,
            "grid_area": null,
            "grid_template_columns": null,
            "flex": null,
            "_model_name": "LayoutModel",
            "justify_items": null,
            "grid_row": null,
            "max_height": null,
            "align_content": null,
            "visibility": null,
            "align_self": null,
            "height": null,
            "min_height": null,
            "padding": null,
            "grid_auto_rows": null,
            "grid_gap": null,
            "max_width": null,
            "order": null,
            "_view_module_version": "1.2.0",
            "grid_template_areas": null,
            "object_position": null,
            "object_fit": null,
            "grid_auto_columns": null,
            "margin": null,
            "display": null,
            "left": null
          }
        },
        "aec2ebccff064eba8b062440dd98edd4": {
          "model_module": "@jupyter-widgets/controls",
          "model_name": "FloatProgressModel",
          "state": {
            "_view_name": "ProgressView",
            "style": "IPY_MODEL_ba9c6fa24e7542f0964baefe5819f21a",
            "_dom_classes": [],
            "description": "Downloading: 100%",
            "_model_name": "FloatProgressModel",
            "bar_style": "success",
            "max": 231508,
            "_view_module": "@jupyter-widgets/controls",
            "_model_module_version": "1.5.0",
            "value": 231508,
            "_view_count": null,
            "_view_module_version": "1.5.0",
            "orientation": "horizontal",
            "min": 0,
            "description_tooltip": null,
            "_model_module": "@jupyter-widgets/controls",
            "layout": "IPY_MODEL_3f8360c40e1b48baa38ed2e5c56e0d96"
          }
        },
        "d6c12f8100e24ce0a22d8757e8dd6d52": {
          "model_module": "@jupyter-widgets/controls",
          "model_name": "HTMLModel",
          "state": {
            "_view_name": "HTMLView",
            "style": "IPY_MODEL_ff9eb35dd8de4fbf9029feeb4cc7ab81",
            "_dom_classes": [],
            "description": "",
            "_model_name": "HTMLModel",
            "placeholder": "​",
            "_view_module": "@jupyter-widgets/controls",
            "_model_module_version": "1.5.0",
            "value": " 232k/232k [00:15&lt;00:00, 14.8kB/s]",
            "_view_count": null,
            "_view_module_version": "1.5.0",
            "description_tooltip": null,
            "_model_module": "@jupyter-widgets/controls",
            "layout": "IPY_MODEL_7b86e1c4c4d445788cf898506f60ba8e"
          }
        },
        "ba9c6fa24e7542f0964baefe5819f21a": {
          "model_module": "@jupyter-widgets/controls",
          "model_name": "ProgressStyleModel",
          "state": {
            "_view_name": "StyleView",
            "_model_name": "ProgressStyleModel",
            "description_width": "initial",
            "_view_module": "@jupyter-widgets/base",
            "_model_module_version": "1.5.0",
            "_view_count": null,
            "_view_module_version": "1.2.0",
            "bar_color": null,
            "_model_module": "@jupyter-widgets/controls"
          }
        },
        "3f8360c40e1b48baa38ed2e5c56e0d96": {
          "model_module": "@jupyter-widgets/base",
          "model_name": "LayoutModel",
          "state": {
            "_view_name": "LayoutView",
            "grid_template_rows": null,
            "right": null,
            "justify_content": null,
            "_view_module": "@jupyter-widgets/base",
            "overflow": null,
            "_model_module_version": "1.2.0",
            "_view_count": null,
            "flex_flow": null,
            "width": null,
            "min_width": null,
            "border": null,
            "align_items": null,
            "bottom": null,
            "_model_module": "@jupyter-widgets/base",
            "top": null,
            "grid_column": null,
            "overflow_y": null,
            "overflow_x": null,
            "grid_auto_flow": null,
            "grid_area": null,
            "grid_template_columns": null,
            "flex": null,
            "_model_name": "LayoutModel",
            "justify_items": null,
            "grid_row": null,
            "max_height": null,
            "align_content": null,
            "visibility": null,
            "align_self": null,
            "height": null,
            "min_height": null,
            "padding": null,
            "grid_auto_rows": null,
            "grid_gap": null,
            "max_width": null,
            "order": null,
            "_view_module_version": "1.2.0",
            "grid_template_areas": null,
            "object_position": null,
            "object_fit": null,
            "grid_auto_columns": null,
            "margin": null,
            "display": null,
            "left": null
          }
        },
        "ff9eb35dd8de4fbf9029feeb4cc7ab81": {
          "model_module": "@jupyter-widgets/controls",
          "model_name": "DescriptionStyleModel",
          "state": {
            "_view_name": "StyleView",
            "_model_name": "DescriptionStyleModel",
            "description_width": "",
            "_view_module": "@jupyter-widgets/base",
            "_model_module_version": "1.5.0",
            "_view_count": null,
            "_view_module_version": "1.2.0",
            "_model_module": "@jupyter-widgets/controls"
          }
        },
        "7b86e1c4c4d445788cf898506f60ba8e": {
          "model_module": "@jupyter-widgets/base",
          "model_name": "LayoutModel",
          "state": {
            "_view_name": "LayoutView",
            "grid_template_rows": null,
            "right": null,
            "justify_content": null,
            "_view_module": "@jupyter-widgets/base",
            "overflow": null,
            "_model_module_version": "1.2.0",
            "_view_count": null,
            "flex_flow": null,
            "width": null,
            "min_width": null,
            "border": null,
            "align_items": null,
            "bottom": null,
            "_model_module": "@jupyter-widgets/base",
            "top": null,
            "grid_column": null,
            "overflow_y": null,
            "overflow_x": null,
            "grid_auto_flow": null,
            "grid_area": null,
            "grid_template_columns": null,
            "flex": null,
            "_model_name": "LayoutModel",
            "justify_items": null,
            "grid_row": null,
            "max_height": null,
            "align_content": null,
            "visibility": null,
            "align_self": null,
            "height": null,
            "min_height": null,
            "padding": null,
            "grid_auto_rows": null,
            "grid_gap": null,
            "max_width": null,
            "order": null,
            "_view_module_version": "1.2.0",
            "grid_template_areas": null,
            "object_position": null,
            "object_fit": null,
            "grid_auto_columns": null,
            "margin": null,
            "display": null,
            "left": null
          }
        },
        "76564df093624bab941705d390a6c3aa": {
          "model_module": "@jupyter-widgets/controls",
          "model_name": "HBoxModel",
          "state": {
            "_view_name": "HBoxView",
            "_dom_classes": [],
            "_model_name": "HBoxModel",
            "_view_module": "@jupyter-widgets/controls",
            "_model_module_version": "1.5.0",
            "_view_count": null,
            "_view_module_version": "1.5.0",
            "box_style": "",
            "layout": "IPY_MODEL_44762826a6dc44d2921151707f53cf62",
            "_model_module": "@jupyter-widgets/controls",
            "children": [
              "IPY_MODEL_0593c083a6c94fa7a2bf570fadda7b96",
              "IPY_MODEL_0fc6600d95b44e91a500dea06e3db054"
            ]
          }
        },
        "44762826a6dc44d2921151707f53cf62": {
          "model_module": "@jupyter-widgets/base",
          "model_name": "LayoutModel",
          "state": {
            "_view_name": "LayoutView",
            "grid_template_rows": null,
            "right": null,
            "justify_content": null,
            "_view_module": "@jupyter-widgets/base",
            "overflow": null,
            "_model_module_version": "1.2.0",
            "_view_count": null,
            "flex_flow": null,
            "width": null,
            "min_width": null,
            "border": null,
            "align_items": null,
            "bottom": null,
            "_model_module": "@jupyter-widgets/base",
            "top": null,
            "grid_column": null,
            "overflow_y": null,
            "overflow_x": null,
            "grid_auto_flow": null,
            "grid_area": null,
            "grid_template_columns": null,
            "flex": null,
            "_model_name": "LayoutModel",
            "justify_items": null,
            "grid_row": null,
            "max_height": null,
            "align_content": null,
            "visibility": null,
            "align_self": null,
            "height": null,
            "min_height": null,
            "padding": null,
            "grid_auto_rows": null,
            "grid_gap": null,
            "max_width": null,
            "order": null,
            "_view_module_version": "1.2.0",
            "grid_template_areas": null,
            "object_position": null,
            "object_fit": null,
            "grid_auto_columns": null,
            "margin": null,
            "display": null,
            "left": null
          }
        },
        "0593c083a6c94fa7a2bf570fadda7b96": {
          "model_module": "@jupyter-widgets/controls",
          "model_name": "FloatProgressModel",
          "state": {
            "_view_name": "ProgressView",
            "style": "IPY_MODEL_f1139b1484a94cd9ade4a315befb4521",
            "_dom_classes": [],
            "description": "Downloading: 100%",
            "_model_name": "FloatProgressModel",
            "bar_style": "success",
            "max": 466062,
            "_view_module": "@jupyter-widgets/controls",
            "_model_module_version": "1.5.0",
            "value": 466062,
            "_view_count": null,
            "_view_module_version": "1.5.0",
            "orientation": "horizontal",
            "min": 0,
            "description_tooltip": null,
            "_model_module": "@jupyter-widgets/controls",
            "layout": "IPY_MODEL_181442d321dc45baa4df92b611ff2577"
          }
        },
        "0fc6600d95b44e91a500dea06e3db054": {
          "model_module": "@jupyter-widgets/controls",
          "model_name": "HTMLModel",
          "state": {
            "_view_name": "HTMLView",
            "style": "IPY_MODEL_bfb63eb6c7f8459c95b76b01e50abec5",
            "_dom_classes": [],
            "description": "",
            "_model_name": "HTMLModel",
            "placeholder": "​",
            "_view_module": "@jupyter-widgets/controls",
            "_model_module_version": "1.5.0",
            "value": " 466k/466k [00:00&lt;00:00, 596kB/s]",
            "_view_count": null,
            "_view_module_version": "1.5.0",
            "description_tooltip": null,
            "_model_module": "@jupyter-widgets/controls",
            "layout": "IPY_MODEL_c709cefa25844484b87d7f4c69a53529"
          }
        },
        "f1139b1484a94cd9ade4a315befb4521": {
          "model_module": "@jupyter-widgets/controls",
          "model_name": "ProgressStyleModel",
          "state": {
            "_view_name": "StyleView",
            "_model_name": "ProgressStyleModel",
            "description_width": "initial",
            "_view_module": "@jupyter-widgets/base",
            "_model_module_version": "1.5.0",
            "_view_count": null,
            "_view_module_version": "1.2.0",
            "bar_color": null,
            "_model_module": "@jupyter-widgets/controls"
          }
        },
        "181442d321dc45baa4df92b611ff2577": {
          "model_module": "@jupyter-widgets/base",
          "model_name": "LayoutModel",
          "state": {
            "_view_name": "LayoutView",
            "grid_template_rows": null,
            "right": null,
            "justify_content": null,
            "_view_module": "@jupyter-widgets/base",
            "overflow": null,
            "_model_module_version": "1.2.0",
            "_view_count": null,
            "flex_flow": null,
            "width": null,
            "min_width": null,
            "border": null,
            "align_items": null,
            "bottom": null,
            "_model_module": "@jupyter-widgets/base",
            "top": null,
            "grid_column": null,
            "overflow_y": null,
            "overflow_x": null,
            "grid_auto_flow": null,
            "grid_area": null,
            "grid_template_columns": null,
            "flex": null,
            "_model_name": "LayoutModel",
            "justify_items": null,
            "grid_row": null,
            "max_height": null,
            "align_content": null,
            "visibility": null,
            "align_self": null,
            "height": null,
            "min_height": null,
            "padding": null,
            "grid_auto_rows": null,
            "grid_gap": null,
            "max_width": null,
            "order": null,
            "_view_module_version": "1.2.0",
            "grid_template_areas": null,
            "object_position": null,
            "object_fit": null,
            "grid_auto_columns": null,
            "margin": null,
            "display": null,
            "left": null
          }
        },
        "bfb63eb6c7f8459c95b76b01e50abec5": {
          "model_module": "@jupyter-widgets/controls",
          "model_name": "DescriptionStyleModel",
          "state": {
            "_view_name": "StyleView",
            "_model_name": "DescriptionStyleModel",
            "description_width": "",
            "_view_module": "@jupyter-widgets/base",
            "_model_module_version": "1.5.0",
            "_view_count": null,
            "_view_module_version": "1.2.0",
            "_model_module": "@jupyter-widgets/controls"
          }
        },
        "c709cefa25844484b87d7f4c69a53529": {
          "model_module": "@jupyter-widgets/base",
          "model_name": "LayoutModel",
          "state": {
            "_view_name": "LayoutView",
            "grid_template_rows": null,
            "right": null,
            "justify_content": null,
            "_view_module": "@jupyter-widgets/base",
            "overflow": null,
            "_model_module_version": "1.2.0",
            "_view_count": null,
            "flex_flow": null,
            "width": null,
            "min_width": null,
            "border": null,
            "align_items": null,
            "bottom": null,
            "_model_module": "@jupyter-widgets/base",
            "top": null,
            "grid_column": null,
            "overflow_y": null,
            "overflow_x": null,
            "grid_auto_flow": null,
            "grid_area": null,
            "grid_template_columns": null,
            "flex": null,
            "_model_name": "LayoutModel",
            "justify_items": null,
            "grid_row": null,
            "max_height": null,
            "align_content": null,
            "visibility": null,
            "align_self": null,
            "height": null,
            "min_height": null,
            "padding": null,
            "grid_auto_rows": null,
            "grid_gap": null,
            "max_width": null,
            "order": null,
            "_view_module_version": "1.2.0",
            "grid_template_areas": null,
            "object_position": null,
            "object_fit": null,
            "grid_auto_columns": null,
            "margin": null,
            "display": null,
            "left": null
          }
        },
        "b50fd0bad77b4a6d94b3fa8d23a9a2d7": {
          "model_module": "@jupyter-widgets/controls",
          "model_name": "HBoxModel",
          "state": {
            "_view_name": "HBoxView",
            "_dom_classes": [],
            "_model_name": "HBoxModel",
            "_view_module": "@jupyter-widgets/controls",
            "_model_module_version": "1.5.0",
            "_view_count": null,
            "_view_module_version": "1.5.0",
            "box_style": "",
            "layout": "IPY_MODEL_2a0a539d84e644cfb7cccd5620dcd748",
            "_model_module": "@jupyter-widgets/controls",
            "children": [
              "IPY_MODEL_ffd318daf35e4925a59be956e8efd246",
              "IPY_MODEL_7115547363584d60bdc70a9375ac09b2"
            ]
          }
        },
        "2a0a539d84e644cfb7cccd5620dcd748": {
          "model_module": "@jupyter-widgets/base",
          "model_name": "LayoutModel",
          "state": {
            "_view_name": "LayoutView",
            "grid_template_rows": null,
            "right": null,
            "justify_content": null,
            "_view_module": "@jupyter-widgets/base",
            "overflow": null,
            "_model_module_version": "1.2.0",
            "_view_count": null,
            "flex_flow": null,
            "width": null,
            "min_width": null,
            "border": null,
            "align_items": null,
            "bottom": null,
            "_model_module": "@jupyter-widgets/base",
            "top": null,
            "grid_column": null,
            "overflow_y": null,
            "overflow_x": null,
            "grid_auto_flow": null,
            "grid_area": null,
            "grid_template_columns": null,
            "flex": null,
            "_model_name": "LayoutModel",
            "justify_items": null,
            "grid_row": null,
            "max_height": null,
            "align_content": null,
            "visibility": null,
            "align_self": null,
            "height": null,
            "min_height": null,
            "padding": null,
            "grid_auto_rows": null,
            "grid_gap": null,
            "max_width": null,
            "order": null,
            "_view_module_version": "1.2.0",
            "grid_template_areas": null,
            "object_position": null,
            "object_fit": null,
            "grid_auto_columns": null,
            "margin": null,
            "display": null,
            "left": null
          }
        },
        "ffd318daf35e4925a59be956e8efd246": {
          "model_module": "@jupyter-widgets/controls",
          "model_name": "FloatProgressModel",
          "state": {
            "_view_name": "ProgressView",
            "style": "IPY_MODEL_8a60de4dbd2f472aa4bbc6fe1b6217f2",
            "_dom_classes": [],
            "description": "Downloading: 100%",
            "_model_name": "FloatProgressModel",
            "bar_style": "success",
            "max": 536063208,
            "_view_module": "@jupyter-widgets/controls",
            "_model_module_version": "1.5.0",
            "value": 536063208,
            "_view_count": null,
            "_view_module_version": "1.5.0",
            "orientation": "horizontal",
            "min": 0,
            "description_tooltip": null,
            "_model_module": "@jupyter-widgets/controls",
            "layout": "IPY_MODEL_775d59aa370545b28916ad043d6ac25a"
          }
        },
        "7115547363584d60bdc70a9375ac09b2": {
          "model_module": "@jupyter-widgets/controls",
          "model_name": "HTMLModel",
          "state": {
            "_view_name": "HTMLView",
            "style": "IPY_MODEL_b5383f83badf47fe875d2a0492fe13ff",
            "_dom_classes": [],
            "description": "",
            "_model_name": "HTMLModel",
            "placeholder": "​",
            "_view_module": "@jupyter-widgets/controls",
            "_model_module_version": "1.5.0",
            "value": " 536M/536M [00:14&lt;00:00, 37.9MB/s]",
            "_view_count": null,
            "_view_module_version": "1.5.0",
            "description_tooltip": null,
            "_model_module": "@jupyter-widgets/controls",
            "layout": "IPY_MODEL_68163e50f94a4f0c895521b8c9e88419"
          }
        },
        "8a60de4dbd2f472aa4bbc6fe1b6217f2": {
          "model_module": "@jupyter-widgets/controls",
          "model_name": "ProgressStyleModel",
          "state": {
            "_view_name": "StyleView",
            "_model_name": "ProgressStyleModel",
            "description_width": "initial",
            "_view_module": "@jupyter-widgets/base",
            "_model_module_version": "1.5.0",
            "_view_count": null,
            "_view_module_version": "1.2.0",
            "bar_color": null,
            "_model_module": "@jupyter-widgets/controls"
          }
        },
        "775d59aa370545b28916ad043d6ac25a": {
          "model_module": "@jupyter-widgets/base",
          "model_name": "LayoutModel",
          "state": {
            "_view_name": "LayoutView",
            "grid_template_rows": null,
            "right": null,
            "justify_content": null,
            "_view_module": "@jupyter-widgets/base",
            "overflow": null,
            "_model_module_version": "1.2.0",
            "_view_count": null,
            "flex_flow": null,
            "width": null,
            "min_width": null,
            "border": null,
            "align_items": null,
            "bottom": null,
            "_model_module": "@jupyter-widgets/base",
            "top": null,
            "grid_column": null,
            "overflow_y": null,
            "overflow_x": null,
            "grid_auto_flow": null,
            "grid_area": null,
            "grid_template_columns": null,
            "flex": null,
            "_model_name": "LayoutModel",
            "justify_items": null,
            "grid_row": null,
            "max_height": null,
            "align_content": null,
            "visibility": null,
            "align_self": null,
            "height": null,
            "min_height": null,
            "padding": null,
            "grid_auto_rows": null,
            "grid_gap": null,
            "max_width": null,
            "order": null,
            "_view_module_version": "1.2.0",
            "grid_template_areas": null,
            "object_position": null,
            "object_fit": null,
            "grid_auto_columns": null,
            "margin": null,
            "display": null,
            "left": null
          }
        },
        "b5383f83badf47fe875d2a0492fe13ff": {
          "model_module": "@jupyter-widgets/controls",
          "model_name": "DescriptionStyleModel",
          "state": {
            "_view_name": "StyleView",
            "_model_name": "DescriptionStyleModel",
            "description_width": "",
            "_view_module": "@jupyter-widgets/base",
            "_model_module_version": "1.5.0",
            "_view_count": null,
            "_view_module_version": "1.2.0",
            "_model_module": "@jupyter-widgets/controls"
          }
        },
        "68163e50f94a4f0c895521b8c9e88419": {
          "model_module": "@jupyter-widgets/base",
          "model_name": "LayoutModel",
          "state": {
            "_view_name": "LayoutView",
            "grid_template_rows": null,
            "right": null,
            "justify_content": null,
            "_view_module": "@jupyter-widgets/base",
            "overflow": null,
            "_model_module_version": "1.2.0",
            "_view_count": null,
            "flex_flow": null,
            "width": null,
            "min_width": null,
            "border": null,
            "align_items": null,
            "bottom": null,
            "_model_module": "@jupyter-widgets/base",
            "top": null,
            "grid_column": null,
            "overflow_y": null,
            "overflow_x": null,
            "grid_auto_flow": null,
            "grid_area": null,
            "grid_template_columns": null,
            "flex": null,
            "_model_name": "LayoutModel",
            "justify_items": null,
            "grid_row": null,
            "max_height": null,
            "align_content": null,
            "visibility": null,
            "align_self": null,
            "height": null,
            "min_height": null,
            "padding": null,
            "grid_auto_rows": null,
            "grid_gap": null,
            "max_width": null,
            "order": null,
            "_view_module_version": "1.2.0",
            "grid_template_areas": null,
            "object_position": null,
            "object_fit": null,
            "grid_auto_columns": null,
            "margin": null,
            "display": null,
            "left": null
          }
        }
      }
    }
  },
  "cells": [
    {
      "cell_type": "markdown",
      "metadata": {
        "id": "view-in-github",
        "colab_type": "text"
      },
      "source": [
        "<a href=\"https://colab.research.google.com/github/Jefffish09/MachineLearning/blob/dev/Classification/multiclass/bert_multiclass_tf2.ipynb\" target=\"_parent\"><img src=\"https://colab.research.google.com/assets/colab-badge.svg\" alt=\"Open In Colab\"/></a>"
      ]
    },
    {
      "cell_type": "markdown",
      "metadata": {
        "id": "qxzWQqvupAxH"
      },
      "source": [
        "References:\r\n",
        "\r\n",
        "* https://towardsdatascience.com/multi-label-multi-class-text-classification-with-bert-transformer-and-keras-c6355eccb63a\r\n",
        "\r\n",
        "Data Source:\r\n",
        "\r\n",
        "* https://www.kaggle.com/cfpb/us-consumer-finance-complaints\r\n"
      ]
    },
    {
      "cell_type": "code",
      "metadata": {
        "colab": {
          "base_uri": "https://localhost:8080/"
        },
        "id": "7KnPyn8-tPzI",
        "outputId": "b992013b-811f-49f4-a535-3d862e55241d"
      },
      "source": [
        "!pip install -U -q transformers"
      ],
      "execution_count": 1,
      "outputs": [
        {
          "output_type": "stream",
          "text": [
            "\u001b[K     |████████████████████████████████| 1.9MB 8.4MB/s \n",
            "\u001b[K     |████████████████████████████████| 3.2MB 54.9MB/s \n",
            "\u001b[K     |████████████████████████████████| 890kB 55.5MB/s \n",
            "\u001b[?25h  Building wheel for sacremoses (setup.py) ... \u001b[?25l\u001b[?25hdone\n"
          ],
          "name": "stdout"
        }
      ]
    },
    {
      "cell_type": "code",
      "metadata": {
        "id": "e_u-e3Goowy6"
      },
      "source": [
        "import pandas as pd\r\n",
        "import numpy as np\r\n",
        "import matplotlib.pyplot as plt\r\n",
        "import seaborn as sns\r\n",
        "from sklearn.model_selection import train_test_split\r\n",
        "from sklearn.metrics import classification_report, f1_score, accuracy_score\r\n",
        "from transformers import TFBertModel, BertConfig, BertTokenizerFast\r\n",
        "from tensorflow.keras.layers import Input, Dropout, Dense\r\n",
        "from tensorflow.keras.models import Model\r\n",
        "from tensorflow.keras.optimizers import Adam\r\n",
        "from tensorflow.keras.callbacks import EarlyStopping\r\n",
        "from tensorflow.keras.initializers import TruncatedNormal\r\n",
        "from tensorflow.keras.losses import CategoricalCrossentropy\r\n",
        "from tensorflow.keras.metrics import CategoricalAccuracy\r\n",
        "from tensorflow.keras.utils import to_categorical"
      ],
      "execution_count": 2,
      "outputs": []
    },
    {
      "cell_type": "code",
      "metadata": {
        "id": "hWZrDGeFsplG"
      },
      "source": [
        "seed = 2021\r\n",
        "max_len = 100\r\n",
        "learning_rate=5e-05\r\n",
        "epsilon = 1e-08\r\n",
        "decay = 0.01\r\n",
        "clipnorm = 1.0\r\n",
        "batch_size = 64\r\n",
        "epochs = 10\r\n",
        "earlystopping_patience = 3\r\n",
        "model_name = \"bert-base-uncased\""
      ],
      "execution_count": 3,
      "outputs": []
    },
    {
      "cell_type": "code",
      "metadata": {
        "colab": {
          "base_uri": "https://localhost:8080/",
          "height": 197
        },
        "id": "0xYuYZzcprJ0",
        "outputId": "8ea4d473-c897-4406-88a1-099859d386e6"
      },
      "source": [
        "# Import data from csv\r\n",
        "df = pd.read_csv(\"/content/drive/MyDrive/consumer_complaints.csv\", \r\n",
        "                usecols=(\"product\", \"consumer_complaint_narrative\"),\r\n",
        "                dtype={\"consumer_complaint_narrative\": object})\r\n",
        "\r\n",
        "# Only interested in data with consumer complaints\r\n",
        "df = df[df[\"consumer_complaint_narrative\"].notnull()]\r\n",
        "df = df[df[\"product\"].notnull()]\r\n",
        "df.reset_index(drop=True, inplace=True)\r\n",
        "df = df.dropna()\r\n",
        "\r\n",
        "df.head()"
      ],
      "execution_count": 4,
      "outputs": [
        {
          "output_type": "execute_result",
          "data": {
            "text/html": [
              "<div>\n",
              "<style scoped>\n",
              "    .dataframe tbody tr th:only-of-type {\n",
              "        vertical-align: middle;\n",
              "    }\n",
              "\n",
              "    .dataframe tbody tr th {\n",
              "        vertical-align: top;\n",
              "    }\n",
              "\n",
              "    .dataframe thead th {\n",
              "        text-align: right;\n",
              "    }\n",
              "</style>\n",
              "<table border=\"1\" class=\"dataframe\">\n",
              "  <thead>\n",
              "    <tr style=\"text-align: right;\">\n",
              "      <th></th>\n",
              "      <th>product</th>\n",
              "      <th>consumer_complaint_narrative</th>\n",
              "    </tr>\n",
              "  </thead>\n",
              "  <tbody>\n",
              "    <tr>\n",
              "      <th>0</th>\n",
              "      <td>Debt collection</td>\n",
              "      <td>XXXX has claimed I owe them {$27.00} for XXXX ...</td>\n",
              "    </tr>\n",
              "    <tr>\n",
              "      <th>1</th>\n",
              "      <td>Consumer Loan</td>\n",
              "      <td>Due to inconsistencies in the amount owed that...</td>\n",
              "    </tr>\n",
              "    <tr>\n",
              "      <th>2</th>\n",
              "      <td>Mortgage</td>\n",
              "      <td>In XX/XX/XXXX my wages that I earned at my job...</td>\n",
              "    </tr>\n",
              "    <tr>\n",
              "      <th>3</th>\n",
              "      <td>Mortgage</td>\n",
              "      <td>I have an open and current mortgage with Chase...</td>\n",
              "    </tr>\n",
              "    <tr>\n",
              "      <th>4</th>\n",
              "      <td>Mortgage</td>\n",
              "      <td>XXXX was submitted XX/XX/XXXX. At the time I s...</td>\n",
              "    </tr>\n",
              "  </tbody>\n",
              "</table>\n",
              "</div>"
            ],
            "text/plain": [
              "           product                       consumer_complaint_narrative\n",
              "0  Debt collection  XXXX has claimed I owe them {$27.00} for XXXX ...\n",
              "1    Consumer Loan  Due to inconsistencies in the amount owed that...\n",
              "2         Mortgage  In XX/XX/XXXX my wages that I earned at my job...\n",
              "3         Mortgage  I have an open and current mortgage with Chase...\n",
              "4         Mortgage  XXXX was submitted XX/XX/XXXX. At the time I s..."
            ]
          },
          "metadata": {
            "tags": []
          },
          "execution_count": 4
        }
      ]
    },
    {
      "cell_type": "code",
      "metadata": {
        "colab": {
          "base_uri": "https://localhost:8080/",
          "height": 197
        },
        "id": "ruNo--4fquJZ",
        "outputId": "1c175b5e-36c5-4465-9584-3285a843b0b8"
      },
      "source": [
        "# Set your model output as categorical and save in new label col\r\n",
        "df[\"product_label\"] = pd.Categorical(df[\"product\"])\r\n",
        "df[\"product\"] = df[\"product_label\"].cat.codes\r\n",
        "df.head()"
      ],
      "execution_count": 5,
      "outputs": [
        {
          "output_type": "execute_result",
          "data": {
            "text/html": [
              "<div>\n",
              "<style scoped>\n",
              "    .dataframe tbody tr th:only-of-type {\n",
              "        vertical-align: middle;\n",
              "    }\n",
              "\n",
              "    .dataframe tbody tr th {\n",
              "        vertical-align: top;\n",
              "    }\n",
              "\n",
              "    .dataframe thead th {\n",
              "        text-align: right;\n",
              "    }\n",
              "</style>\n",
              "<table border=\"1\" class=\"dataframe\">\n",
              "  <thead>\n",
              "    <tr style=\"text-align: right;\">\n",
              "      <th></th>\n",
              "      <th>product</th>\n",
              "      <th>consumer_complaint_narrative</th>\n",
              "      <th>product_label</th>\n",
              "    </tr>\n",
              "  </thead>\n",
              "  <tbody>\n",
              "    <tr>\n",
              "      <th>0</th>\n",
              "      <td>4</td>\n",
              "      <td>XXXX has claimed I owe them {$27.00} for XXXX ...</td>\n",
              "      <td>Debt collection</td>\n",
              "    </tr>\n",
              "    <tr>\n",
              "      <th>1</th>\n",
              "      <td>1</td>\n",
              "      <td>Due to inconsistencies in the amount owed that...</td>\n",
              "      <td>Consumer Loan</td>\n",
              "    </tr>\n",
              "    <tr>\n",
              "      <th>2</th>\n",
              "      <td>6</td>\n",
              "      <td>In XX/XX/XXXX my wages that I earned at my job...</td>\n",
              "      <td>Mortgage</td>\n",
              "    </tr>\n",
              "    <tr>\n",
              "      <th>3</th>\n",
              "      <td>6</td>\n",
              "      <td>I have an open and current mortgage with Chase...</td>\n",
              "      <td>Mortgage</td>\n",
              "    </tr>\n",
              "    <tr>\n",
              "      <th>4</th>\n",
              "      <td>6</td>\n",
              "      <td>XXXX was submitted XX/XX/XXXX. At the time I s...</td>\n",
              "      <td>Mortgage</td>\n",
              "    </tr>\n",
              "  </tbody>\n",
              "</table>\n",
              "</div>"
            ],
            "text/plain": [
              "   product                       consumer_complaint_narrative    product_label\n",
              "0        4  XXXX has claimed I owe them {$27.00} for XXXX ...  Debt collection\n",
              "1        1  Due to inconsistencies in the amount owed that...    Consumer Loan\n",
              "2        6  In XX/XX/XXXX my wages that I earned at my job...         Mortgage\n",
              "3        6  I have an open and current mortgage with Chase...         Mortgage\n",
              "4        6  XXXX was submitted XX/XX/XXXX. At the time I s...         Mortgage"
            ]
          },
          "metadata": {
            "tags": []
          },
          "execution_count": 5
        }
      ]
    },
    {
      "cell_type": "code",
      "metadata": {
        "colab": {
          "base_uri": "https://localhost:8080/"
        },
        "id": "2K-PN3exGAEe",
        "outputId": "f1871bb4-adcc-4728-db2a-0aadc79d3ac5"
      },
      "source": [
        "labels_names_dict = dict(enumerate(df[\"product_label\"].cat.categories))\r\n",
        "labels = []\r\n",
        "label_names = []\r\n",
        "for i in labels_names_dict:\r\n",
        "  labels.append(i)\r\n",
        "  label_names.append(labels_names_dict[i])\r\n",
        "print(labels_names_dict)"
      ],
      "execution_count": 6,
      "outputs": [
        {
          "output_type": "stream",
          "text": [
            "{0: 'Bank account or service', 1: 'Consumer Loan', 2: 'Credit card', 3: 'Credit reporting', 4: 'Debt collection', 5: 'Money transfers', 6: 'Mortgage', 7: 'Other financial service', 8: 'Payday loan', 9: 'Prepaid card', 10: 'Student loan'}\n"
          ],
          "name": "stdout"
        }
      ]
    },
    {
      "cell_type": "code",
      "metadata": {
        "colab": {
          "base_uri": "https://localhost:8080/",
          "height": 197
        },
        "id": "B-mH32yvq6Bv",
        "outputId": "4ac42467-78ea-4b8f-e08a-531a6729aa33"
      },
      "source": [
        "# Split into train and test - stratify over Issue\r\n",
        "df_train, df_test = train_test_split(df, test_size=0.2, random_state=seed, stratify=df[\"product_label\"])\r\n",
        "\r\n",
        "df_train.head()"
      ],
      "execution_count": 7,
      "outputs": [
        {
          "output_type": "execute_result",
          "data": {
            "text/html": [
              "<div>\n",
              "<style scoped>\n",
              "    .dataframe tbody tr th:only-of-type {\n",
              "        vertical-align: middle;\n",
              "    }\n",
              "\n",
              "    .dataframe tbody tr th {\n",
              "        vertical-align: top;\n",
              "    }\n",
              "\n",
              "    .dataframe thead th {\n",
              "        text-align: right;\n",
              "    }\n",
              "</style>\n",
              "<table border=\"1\" class=\"dataframe\">\n",
              "  <thead>\n",
              "    <tr style=\"text-align: right;\">\n",
              "      <th></th>\n",
              "      <th>product</th>\n",
              "      <th>consumer_complaint_narrative</th>\n",
              "      <th>product_label</th>\n",
              "    </tr>\n",
              "  </thead>\n",
              "  <tbody>\n",
              "    <tr>\n",
              "      <th>55881</th>\n",
              "      <td>1</td>\n",
              "      <td>I was in a car accident and was dealing with b...</td>\n",
              "      <td>Consumer Loan</td>\n",
              "    </tr>\n",
              "    <tr>\n",
              "      <th>53666</th>\n",
              "      <td>3</td>\n",
              "      <td>I have already done a fraud alert I need my re...</td>\n",
              "      <td>Credit reporting</td>\n",
              "    </tr>\n",
              "    <tr>\n",
              "      <th>27439</th>\n",
              "      <td>6</td>\n",
              "      <td>I signed a modification offer submitted to me ...</td>\n",
              "      <td>Mortgage</td>\n",
              "    </tr>\n",
              "    <tr>\n",
              "      <th>61579</th>\n",
              "      <td>1</td>\n",
              "      <td>I believe that I was misled by PNC bank regard...</td>\n",
              "      <td>Consumer Loan</td>\n",
              "    </tr>\n",
              "    <tr>\n",
              "      <th>40505</th>\n",
              "      <td>3</td>\n",
              "      <td>Equifax does not respond to me in writing to p...</td>\n",
              "      <td>Credit reporting</td>\n",
              "    </tr>\n",
              "  </tbody>\n",
              "</table>\n",
              "</div>"
            ],
            "text/plain": [
              "       product  ...     product_label\n",
              "55881        1  ...     Consumer Loan\n",
              "53666        3  ...  Credit reporting\n",
              "27439        6  ...          Mortgage\n",
              "61579        1  ...     Consumer Loan\n",
              "40505        3  ...  Credit reporting\n",
              "\n",
              "[5 rows x 3 columns]"
            ]
          },
          "metadata": {
            "tags": []
          },
          "execution_count": 7
        }
      ]
    },
    {
      "cell_type": "code",
      "metadata": {
        "id": "AFeNEfG945jY"
      },
      "source": [
        "def plot_perf(history):\r\n",
        "  # Create a plot of accuracy and loss over time\r\n",
        "  history_dict = history.history\r\n",
        "  history_dict.keys()\r\n",
        "\r\n",
        "  acc = history_dict[\"accuracy\"]\r\n",
        "  val_acc = history_dict[\"val_accuracy\"]\r\n",
        "  loss = history_dict[\"loss\"]\r\n",
        "  val_loss = history_dict[\"val_loss\"]\r\n",
        "\r\n",
        "  epochs = range(1, len(acc) + 1)\r\n",
        "\r\n",
        "  # Use plot styling from seaborn.\r\n",
        "  sns.set(style=\"darkgrid\")\r\n",
        "  # Increase the plot size and font size.\r\n",
        "  sns.set(font_scale=1.5)\r\n",
        "  plt.rcParams[\"figure.figsize\"] = (12, 6)\r\n",
        "\r\n",
        "  # Training and validation loss\r\n",
        "  plt.plot(epochs, loss, \"r\", label=\"Training loss\")\r\n",
        "  # b is for \"solid blue line\"\r\n",
        "  plt.plot(epochs, val_loss, \"b\", label=\"Validation loss\")\r\n",
        "  plt.title(\"Training and validation loss\")\r\n",
        "  plt.xlabel(\"Epochs\")\r\n",
        "  plt.ylabel(\"Loss\")\r\n",
        "  plt.legend()\r\n",
        "  plt.show()\r\n",
        "\r\n",
        "  # Training and validation accuracy\r\n",
        "  plt.plot(epochs, acc, \"r\", label=\"Training acc\")\r\n",
        "  plt.plot(epochs, val_acc, \"b\", label=\"Validation acc\")\r\n",
        "  plt.title(\"Training and validation accuracy\")\r\n",
        "  plt.xlabel(\"Epochs\")\r\n",
        "  plt.ylabel(\"Accuracy\")\r\n",
        "  plt.legend(loc=\"lower right\")\r\n",
        "  plt.show()"
      ],
      "execution_count": 8,
      "outputs": []
    },
    {
      "cell_type": "code",
      "metadata": {
        "colab": {
          "base_uri": "https://localhost:8080/",
          "height": 318,
          "referenced_widgets": [
            "5d999d58408e4fcdacdf046995ebac66",
            "6b00d31b99be48f79e3095d02d399338",
            "bcde71a6633b42a7b62ba9c3b4b3a082",
            "8e269ad239c04420bdb5fcc2f946d297",
            "adaeec3019684f1fa4a94fad21df56ab",
            "b7e5eb6cf3064d7e8760c2088700a2cc",
            "c6a3a25fdcc84659b185b9806ab15f89",
            "d8086b8fc4414fc994ea20e9a96cd73e",
            "d1669f36054b4799b9940586276385d2",
            "4004bbc9685a44609a2d11d768938cbe",
            "aec2ebccff064eba8b062440dd98edd4",
            "d6c12f8100e24ce0a22d8757e8dd6d52",
            "ba9c6fa24e7542f0964baefe5819f21a",
            "3f8360c40e1b48baa38ed2e5c56e0d96",
            "ff9eb35dd8de4fbf9029feeb4cc7ab81",
            "7b86e1c4c4d445788cf898506f60ba8e",
            "76564df093624bab941705d390a6c3aa",
            "44762826a6dc44d2921151707f53cf62",
            "0593c083a6c94fa7a2bf570fadda7b96",
            "0fc6600d95b44e91a500dea06e3db054",
            "f1139b1484a94cd9ade4a315befb4521",
            "181442d321dc45baa4df92b611ff2577",
            "bfb63eb6c7f8459c95b76b01e50abec5",
            "c709cefa25844484b87d7f4c69a53529",
            "b50fd0bad77b4a6d94b3fa8d23a9a2d7",
            "2a0a539d84e644cfb7cccd5620dcd748",
            "ffd318daf35e4925a59be956e8efd246",
            "7115547363584d60bdc70a9375ac09b2",
            "8a60de4dbd2f472aa4bbc6fe1b6217f2",
            "775d59aa370545b28916ad043d6ac25a",
            "b5383f83badf47fe875d2a0492fe13ff",
            "68163e50f94a4f0c895521b8c9e88419"
          ]
        },
        "id": "Kp_9AHQEs7iO",
        "outputId": "db53ab45-2480-465c-fbc5-012e89fad284"
      },
      "source": [
        "# Load transformers config and set output_hidden_states to False\r\n",
        "config = BertConfig.from_pretrained(model_name)\r\n",
        "config.output_hidden_states = False\r\n",
        "\r\n",
        "# Load BERT tokenizer\r\n",
        "tokenizer = BertTokenizerFast.from_pretrained(pretrained_model_name_or_path=model_name, config=config)\r\n",
        "\r\n",
        "# Load the Transformers BERT model\r\n",
        "transformer_model = TFBertModel.from_pretrained(model_name, config=config)"
      ],
      "execution_count": 9,
      "outputs": [
        {
          "output_type": "display_data",
          "data": {
            "application/vnd.jupyter.widget-view+json": {
              "model_id": "5d999d58408e4fcdacdf046995ebac66",
              "version_minor": 0,
              "version_major": 2
            },
            "text/plain": [
              "HBox(children=(FloatProgress(value=0.0, description='Downloading', max=433.0, style=ProgressStyle(description_…"
            ]
          },
          "metadata": {
            "tags": []
          }
        },
        {
          "output_type": "stream",
          "text": [
            "\n"
          ],
          "name": "stdout"
        },
        {
          "output_type": "display_data",
          "data": {
            "application/vnd.jupyter.widget-view+json": {
              "model_id": "d1669f36054b4799b9940586276385d2",
              "version_minor": 0,
              "version_major": 2
            },
            "text/plain": [
              "HBox(children=(FloatProgress(value=0.0, description='Downloading', max=231508.0, style=ProgressStyle(descripti…"
            ]
          },
          "metadata": {
            "tags": []
          }
        },
        {
          "output_type": "stream",
          "text": [
            "\n"
          ],
          "name": "stdout"
        },
        {
          "output_type": "display_data",
          "data": {
            "application/vnd.jupyter.widget-view+json": {
              "model_id": "76564df093624bab941705d390a6c3aa",
              "version_minor": 0,
              "version_major": 2
            },
            "text/plain": [
              "HBox(children=(FloatProgress(value=0.0, description='Downloading', max=466062.0, style=ProgressStyle(descripti…"
            ]
          },
          "metadata": {
            "tags": []
          }
        },
        {
          "output_type": "stream",
          "text": [
            "\n"
          ],
          "name": "stdout"
        },
        {
          "output_type": "display_data",
          "data": {
            "application/vnd.jupyter.widget-view+json": {
              "model_id": "b50fd0bad77b4a6d94b3fa8d23a9a2d7",
              "version_minor": 0,
              "version_major": 2
            },
            "text/plain": [
              "HBox(children=(FloatProgress(value=0.0, description='Downloading', max=536063208.0, style=ProgressStyle(descri…"
            ]
          },
          "metadata": {
            "tags": []
          }
        },
        {
          "output_type": "stream",
          "text": [
            "\n"
          ],
          "name": "stdout"
        },
        {
          "output_type": "stream",
          "text": [
            "Some layers from the model checkpoint at bert-base-uncased were not used when initializing TFBertModel: ['mlm___cls', 'nsp___cls']\n",
            "- This IS expected if you are initializing TFBertModel from the checkpoint of a model trained on another task or with another architecture (e.g. initializing a BertForSequenceClassification model from a BertForPreTraining model).\n",
            "- This IS NOT expected if you are initializing TFBertModel from the checkpoint of a model that you expect to be exactly identical (initializing a BertForSequenceClassification model from a BertForSequenceClassification model).\n",
            "All the layers of TFBertModel were initialized from the model checkpoint at bert-base-uncased.\n",
            "If your task is similar to the task the model of the checkpoint was trained on, you can already use TFBertModel for predictions without further training.\n"
          ],
          "name": "stderr"
        }
      ]
    },
    {
      "cell_type": "code",
      "metadata": {
        "colab": {
          "base_uri": "https://localhost:8080/",
          "height": 1000
        },
        "id": "4EXLpxVpuVvZ",
        "outputId": "a269fc33-4474-4780-b144-00050208c11f"
      },
      "source": [
        "#######################################\r\n",
        "### ------- Train the model ------- ###\r\n",
        "\r\n",
        "earlystop_callback = EarlyStopping(\r\n",
        "  monitor=\"val_loss\",\r\n",
        "  min_delta=0.0001,\r\n",
        "  patience=earlystopping_patience,\r\n",
        "  restore_best_weights=True)\r\n",
        "\r\n",
        "# Load the MainLayer\r\n",
        "bert = transformer_model.layers[0]\r\n",
        "\r\n",
        "# Build your model input\r\n",
        "input_ids = Input(shape=(max_len,), name=\"input_ids\", dtype=\"int32\")\r\n",
        "inputs = {\"input_ids\": input_ids}\r\n",
        "\r\n",
        "# Load the Transformers BERT model as a layer in a Keras model\r\n",
        "bert_model = bert(inputs)[1]\r\n",
        "dropout = Dropout(config.hidden_dropout_prob, name=\"pooled_output\")\r\n",
        "pooled_output = dropout(bert_model, training=False)\r\n",
        "\r\n",
        "# Then build your model output\r\n",
        "product = Dense(units=len(df_train[\"product_label\"].value_counts()), kernel_initializer=TruncatedNormal(stddev=config.initializer_range), name=\"product\")(pooled_output)\r\n",
        "outputs = {\"product\": product}\r\n",
        "\r\n",
        "# And combine it all in a model object\r\n",
        "model = Model(inputs=inputs, outputs=outputs, name=\"BERT_MultiClass\")\r\n",
        "\r\n",
        "# Take a look at the model\r\n",
        "# model.summary()\r\n",
        "\r\n",
        "# Set an optimizer\r\n",
        "optimizer = Adam(\r\n",
        "    learning_rate=learning_rate,\r\n",
        "    epsilon=epsilon,\r\n",
        "    decay=decay,\r\n",
        "    clipnorm=clipnorm)\r\n",
        "\r\n",
        "# Set loss and metrics\r\n",
        "loss = {\"product\": CategoricalCrossentropy(from_logits=True)}\r\n",
        "metric = {\"product\": CategoricalAccuracy(\"accuracy\")}\r\n",
        "\r\n",
        "# Compile the model\r\n",
        "model.compile(\r\n",
        "    optimizer=optimizer,\r\n",
        "    loss=loss, \r\n",
        "    metrics=metric)\r\n",
        "\r\n",
        "# Ready output data for the model\r\n",
        "y_product = to_categorical(df_train[\"product\"])\r\n",
        "\r\n",
        "# Tokenize the input (takes some time)\r\n",
        "x = tokenizer(\r\n",
        "    text=df_train[\"consumer_complaint_narrative\"].to_list(),\r\n",
        "    add_special_tokens=True,\r\n",
        "    max_length=max_len,\r\n",
        "    truncation=True,\r\n",
        "    padding=True, \r\n",
        "    return_tensors=\"tf\",\r\n",
        "    return_token_type_ids=False,\r\n",
        "    return_attention_mask=False,\r\n",
        "    verbose=True)\r\n",
        "\r\n",
        "# Fit the model\r\n",
        "history = model.fit(\r\n",
        "    x={\"input_ids\": x[\"input_ids\"]},\r\n",
        "    y={\"product\": y_product},\r\n",
        "    validation_split=0.2,\r\n",
        "    batch_size=batch_size,\r\n",
        "    epochs=epochs,\r\n",
        "    verbose=1,\r\n",
        "    callbacks=[earlystop_callback])\r\n",
        "\r\n",
        "plot_perf(history)\r\n",
        "\r\n",
        "#######################################\r\n",
        "### ----- Evaluate the model ------ ###\r\n",
        "\r\n",
        "# Ready test data\r\n",
        "test_y_product = to_categorical(df_test[\"product\"])\r\n",
        "test_x = tokenizer(\r\n",
        "    text=df_test[\"consumer_complaint_narrative\"].to_list(),\r\n",
        "    add_special_tokens=True,\r\n",
        "    max_length=max_len,\r\n",
        "    truncation=True,\r\n",
        "    padding=True, \r\n",
        "    return_tensors=\"tf\",\r\n",
        "    return_token_type_ids=False,\r\n",
        "    return_attention_mask=False,\r\n",
        "    verbose=True)\r\n",
        "\r\n",
        "# Run evaluation\r\n",
        "loss, acc = model.evaluate(\r\n",
        "    x={\"input_ids\": test_x[\"input_ids\"]},\r\n",
        "    y={\"product\": test_y_product}\r\n",
        ")\r\n",
        "\r\n",
        "y_preds = []\r\n",
        "predictions = model.predict(x={\"input_ids\": test_x[\"input_ids\"]})\r\n",
        "for prediction in predictions[\"product\"]:\r\n",
        "      y_preds.append(np.argmax(prediction))\r\n",
        "\r\n",
        "y_true = np.argmax(test_y_product, axis=1)\r\n",
        "report = classification_report(y_true=y_true, y_pred=y_preds, labels=labels, target_names=label_names, digits=3, output_dict=False)\r\n",
        "print(report)\r\n",
        "print(\"\")\r\n",
        "print(\"Accuracy: {}\".format(accuracy_score(y_true=y_true, y_pred=y_preds)))\r\n",
        "print(\"Weighted f1-score: {}\".format(f1_score(y_true=y_true, y_pred=y_preds, average=\"weighted\")))\r\n",
        "print(\"Macro f1-score: {}\".format(f1_score(y_true=y_true, y_pred=y_preds, average=\"macro\")))\r\n",
        "print(\"Micro f1-score: {}\".format(f1_score(y_true=y_true, y_pred=y_preds, average=\"micro\")))"
      ],
      "execution_count": 10,
      "outputs": [
        {
          "output_type": "stream",
          "text": [
            "Epoch 1/10\n",
            "669/669 [==============================] - 917s 1s/step - loss: 0.9844 - accuracy: 0.6950 - val_loss: 0.4953 - val_accuracy: 0.8556\n",
            "Epoch 2/10\n",
            "669/669 [==============================] - 907s 1s/step - loss: 0.4637 - accuracy: 0.8644 - val_loss: 0.4710 - val_accuracy: 0.8629\n",
            "Epoch 3/10\n",
            "669/669 [==============================] - 907s 1s/step - loss: 0.4056 - accuracy: 0.8837 - val_loss: 0.4662 - val_accuracy: 0.8617\n",
            "Epoch 4/10\n",
            "669/669 [==============================] - 908s 1s/step - loss: 0.3751 - accuracy: 0.8915 - val_loss: 0.4590 - val_accuracy: 0.8643\n",
            "Epoch 5/10\n",
            "669/669 [==============================] - 906s 1s/step - loss: 0.3446 - accuracy: 0.9022 - val_loss: 0.4586 - val_accuracy: 0.8655\n",
            "Epoch 6/10\n",
            "669/669 [==============================] - 908s 1s/step - loss: 0.3330 - accuracy: 0.9053 - val_loss: 0.4624 - val_accuracy: 0.8635\n",
            "Epoch 7/10\n",
            "669/669 [==============================] - 906s 1s/step - loss: 0.3234 - accuracy: 0.9066 - val_loss: 0.4627 - val_accuracy: 0.8653\n",
            "Epoch 8/10\n",
            "669/669 [==============================] - 907s 1s/step - loss: 0.3074 - accuracy: 0.9135 - val_loss: 0.4689 - val_accuracy: 0.8633\n"
          ],
          "name": "stdout"
        },
        {
          "output_type": "display_data",
          "data": {
            "image/png": "[encoded data removed]",
            "text/plain": [
              "<Figure size 864x432 with 1 Axes>"
            ]
          },
          "metadata": {
            "tags": []
          }
        },
        {
          "output_type": "display_data",
          "data": {
            "image/png": "[encoded data removed]",
            "text/plain": [
              "<Figure size 864x432 with 1 Axes>"
            ]
          },
          "metadata": {
            "tags": []
          }
        },
        {
          "output_type": "stream",
          "text": [
            "418/418 [==============================] - 88s 209ms/step - loss: 0.4538 - accuracy: 0.8632\n",
            "                         precision    recall  f1-score   support\n",
            "\n",
            "Bank account or service      0.828     0.783     0.805      1142\n",
            "          Consumer Loan      0.778     0.704     0.739       736\n",
            "            Credit card      0.805     0.850     0.827      1586\n",
            "       Credit reporting      0.899     0.877     0.887      2505\n",
            "        Debt collection      0.856     0.875     0.865      3511\n",
            "        Money transfers      0.690     0.602     0.643       133\n",
            "               Mortgage      0.928     0.956     0.942      2984\n",
            "Other financial service      0.000     0.000     0.000        22\n",
            "            Payday loan      0.685     0.421     0.521       145\n",
            "           Prepaid card      0.763     0.785     0.774       172\n",
            "           Student loan      0.838     0.885     0.861       426\n",
            "\n",
            "               accuracy                          0.863     13362\n",
            "              macro avg      0.733     0.703     0.715     13362\n",
            "           weighted avg      0.860     0.863     0.861     13362\n",
            "\n",
            "\n",
            "Accuracy: 0.863194132614878\n",
            "Weighted f1-score: 0.8610852538271112\n",
            "Macro f1-score: 0.7148237039219948\n",
            "Micro f1-score: 0.863194132614878\n"
          ],
          "name": "stdout"
        },
        {
          "output_type": "stream",
          "text": [
            "/usr/local/lib/python3.7/dist-packages/sklearn/metrics/_classification.py:1272: UndefinedMetricWarning: Precision and F-score are ill-defined and being set to 0.0 in labels with no predicted samples. Use `zero_division` parameter to control this behavior.\n",
            "  _warn_prf(average, modifier, msg_start, len(result))\n"
          ],
          "name": "stderr"
        }
      ]
    }
  ]
}