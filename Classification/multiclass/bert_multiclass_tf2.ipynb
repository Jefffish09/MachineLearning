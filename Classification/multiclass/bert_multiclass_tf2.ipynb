{
  "nbformat": 4,
  "nbformat_minor": 0,
  "metadata": {
    "colab": {
      "name": "bert_multiclass_tf2.ipynb",
      "provenance": [],
      "collapsed_sections": [],
      "mount_file_id": "1Ynri72ObABeOnEMLrRq_TG-HyZJbrw0X",
      "authorship_tag": "ABX9TyOxv00dJox8KcTtkfqg0VCS",
      "include_colab_link": true
    },
    "kernelspec": {
      "name": "python3",
      "display_name": "Python 3"
    },
    "accelerator": "GPU",
    "widgets": {
      "application/vnd.jupyter.widget-state+json": {
        "0066dc4ce3974941971770e06e43d4e8": {
          "model_module": "@jupyter-widgets/controls",
          "model_name": "HBoxModel",
          "state": {
            "_view_name": "HBoxView",
            "_dom_classes": [],
            "_model_name": "HBoxModel",
            "_view_module": "@jupyter-widgets/controls",
            "_model_module_version": "1.5.0",
            "_view_count": null,
            "_view_module_version": "1.5.0",
            "box_style": "",
            "layout": "IPY_MODEL_169b588c1b784e81b8d0b88b422d3ac7",
            "_model_module": "@jupyter-widgets/controls",
            "children": [
              "IPY_MODEL_e4bc6fc31a504f8d9b2fe4b31ba98302",
              "IPY_MODEL_647fd36026ac407380b8b40309f61d2e"
            ]
          }
        },
        "169b588c1b784e81b8d0b88b422d3ac7": {
          "model_module": "@jupyter-widgets/base",
          "model_name": "LayoutModel",
          "state": {
            "_view_name": "LayoutView",
            "grid_template_rows": null,
            "right": null,
            "justify_content": null,
            "_view_module": "@jupyter-widgets/base",
            "overflow": null,
            "_model_module_version": "1.2.0",
            "_view_count": null,
            "flex_flow": null,
            "width": null,
            "min_width": null,
            "border": null,
            "align_items": null,
            "bottom": null,
            "_model_module": "@jupyter-widgets/base",
            "top": null,
            "grid_column": null,
            "overflow_y": null,
            "overflow_x": null,
            "grid_auto_flow": null,
            "grid_area": null,
            "grid_template_columns": null,
            "flex": null,
            "_model_name": "LayoutModel",
            "justify_items": null,
            "grid_row": null,
            "max_height": null,
            "align_content": null,
            "visibility": null,
            "align_self": null,
            "height": null,
            "min_height": null,
            "padding": null,
            "grid_auto_rows": null,
            "grid_gap": null,
            "max_width": null,
            "order": null,
            "_view_module_version": "1.2.0",
            "grid_template_areas": null,
            "object_position": null,
            "object_fit": null,
            "grid_auto_columns": null,
            "margin": null,
            "display": null,
            "left": null
          }
        },
        "e4bc6fc31a504f8d9b2fe4b31ba98302": {
          "model_module": "@jupyter-widgets/controls",
          "model_name": "FloatProgressModel",
          "state": {
            "_view_name": "ProgressView",
            "style": "IPY_MODEL_df94977ee0e648049ae9939526f75066",
            "_dom_classes": [],
            "description": "Downloading: 100%",
            "_model_name": "FloatProgressModel",
            "bar_style": "success",
            "max": 433,
            "_view_module": "@jupyter-widgets/controls",
            "_model_module_version": "1.5.0",
            "value": 433,
            "_view_count": null,
            "_view_module_version": "1.5.0",
            "orientation": "horizontal",
            "min": 0,
            "description_tooltip": null,
            "_model_module": "@jupyter-widgets/controls",
            "layout": "IPY_MODEL_5d754000ef8f472981857cd649da7176"
          }
        },
        "647fd36026ac407380b8b40309f61d2e": {
          "model_module": "@jupyter-widgets/controls",
          "model_name": "HTMLModel",
          "state": {
            "_view_name": "HTMLView",
            "style": "IPY_MODEL_1fe8e302c6a14e8ab9305d3ac0a6e528",
            "_dom_classes": [],
            "description": "",
            "_model_name": "HTMLModel",
            "placeholder": "​",
            "_view_module": "@jupyter-widgets/controls",
            "_model_module_version": "1.5.0",
            "value": " 433/433 [00:14&lt;00:00, 28.9B/s]",
            "_view_count": null,
            "_view_module_version": "1.5.0",
            "description_tooltip": null,
            "_model_module": "@jupyter-widgets/controls",
            "layout": "IPY_MODEL_03947d64364d4308a78f9a06344956db"
          }
        },
        "df94977ee0e648049ae9939526f75066": {
          "model_module": "@jupyter-widgets/controls",
          "model_name": "ProgressStyleModel",
          "state": {
            "_view_name": "StyleView",
            "_model_name": "ProgressStyleModel",
            "description_width": "initial",
            "_view_module": "@jupyter-widgets/base",
            "_model_module_version": "1.5.0",
            "_view_count": null,
            "_view_module_version": "1.2.0",
            "bar_color": null,
            "_model_module": "@jupyter-widgets/controls"
          }
        },
        "5d754000ef8f472981857cd649da7176": {
          "model_module": "@jupyter-widgets/base",
          "model_name": "LayoutModel",
          "state": {
            "_view_name": "LayoutView",
            "grid_template_rows": null,
            "right": null,
            "justify_content": null,
            "_view_module": "@jupyter-widgets/base",
            "overflow": null,
            "_model_module_version": "1.2.0",
            "_view_count": null,
            "flex_flow": null,
            "width": null,
            "min_width": null,
            "border": null,
            "align_items": null,
            "bottom": null,
            "_model_module": "@jupyter-widgets/base",
            "top": null,
            "grid_column": null,
            "overflow_y": null,
            "overflow_x": null,
            "grid_auto_flow": null,
            "grid_area": null,
            "grid_template_columns": null,
            "flex": null,
            "_model_name": "LayoutModel",
            "justify_items": null,
            "grid_row": null,
            "max_height": null,
            "align_content": null,
            "visibility": null,
            "align_self": null,
            "height": null,
            "min_height": null,
            "padding": null,
            "grid_auto_rows": null,
            "grid_gap": null,
            "max_width": null,
            "order": null,
            "_view_module_version": "1.2.0",
            "grid_template_areas": null,
            "object_position": null,
            "object_fit": null,
            "grid_auto_columns": null,
            "margin": null,
            "display": null,
            "left": null
          }
        },
        "1fe8e302c6a14e8ab9305d3ac0a6e528": {
          "model_module": "@jupyter-widgets/controls",
          "model_name": "DescriptionStyleModel",
          "state": {
            "_view_name": "StyleView",
            "_model_name": "DescriptionStyleModel",
            "description_width": "",
            "_view_module": "@jupyter-widgets/base",
            "_model_module_version": "1.5.0",
            "_view_count": null,
            "_view_module_version": "1.2.0",
            "_model_module": "@jupyter-widgets/controls"
          }
        },
        "03947d64364d4308a78f9a06344956db": {
          "model_module": "@jupyter-widgets/base",
          "model_name": "LayoutModel",
          "state": {
            "_view_name": "LayoutView",
            "grid_template_rows": null,
            "right": null,
            "justify_content": null,
            "_view_module": "@jupyter-widgets/base",
            "overflow": null,
            "_model_module_version": "1.2.0",
            "_view_count": null,
            "flex_flow": null,
            "width": null,
            "min_width": null,
            "border": null,
            "align_items": null,
            "bottom": null,
            "_model_module": "@jupyter-widgets/base",
            "top": null,
            "grid_column": null,
            "overflow_y": null,
            "overflow_x": null,
            "grid_auto_flow": null,
            "grid_area": null,
            "grid_template_columns": null,
            "flex": null,
            "_model_name": "LayoutModel",
            "justify_items": null,
            "grid_row": null,
            "max_height": null,
            "align_content": null,
            "visibility": null,
            "align_self": null,
            "height": null,
            "min_height": null,
            "padding": null,
            "grid_auto_rows": null,
            "grid_gap": null,
            "max_width": null,
            "order": null,
            "_view_module_version": "1.2.0",
            "grid_template_areas": null,
            "object_position": null,
            "object_fit": null,
            "grid_auto_columns": null,
            "margin": null,
            "display": null,
            "left": null
          }
        },
        "c3eb7841f1154c97b67f5fb52cd48946": {
          "model_module": "@jupyter-widgets/controls",
          "model_name": "HBoxModel",
          "state": {
            "_view_name": "HBoxView",
            "_dom_classes": [],
            "_model_name": "HBoxModel",
            "_view_module": "@jupyter-widgets/controls",
            "_model_module_version": "1.5.0",
            "_view_count": null,
            "_view_module_version": "1.5.0",
            "box_style": "",
            "layout": "IPY_MODEL_cfb78238d7e7425ab7207abbb4b95199",
            "_model_module": "@jupyter-widgets/controls",
            "children": [
              "IPY_MODEL_bf094ff6338249a8a6cdc4726935905f",
              "IPY_MODEL_ee816ff9d8ee46de896224d4dfe5fbbd"
            ]
          }
        },
        "cfb78238d7e7425ab7207abbb4b95199": {
          "model_module": "@jupyter-widgets/base",
          "model_name": "LayoutModel",
          "state": {
            "_view_name": "LayoutView",
            "grid_template_rows": null,
            "right": null,
            "justify_content": null,
            "_view_module": "@jupyter-widgets/base",
            "overflow": null,
            "_model_module_version": "1.2.0",
            "_view_count": null,
            "flex_flow": null,
            "width": null,
            "min_width": null,
            "border": null,
            "align_items": null,
            "bottom": null,
            "_model_module": "@jupyter-widgets/base",
            "top": null,
            "grid_column": null,
            "overflow_y": null,
            "overflow_x": null,
            "grid_auto_flow": null,
            "grid_area": null,
            "grid_template_columns": null,
            "flex": null,
            "_model_name": "LayoutModel",
            "justify_items": null,
            "grid_row": null,
            "max_height": null,
            "align_content": null,
            "visibility": null,
            "align_self": null,
            "height": null,
            "min_height": null,
            "padding": null,
            "grid_auto_rows": null,
            "grid_gap": null,
            "max_width": null,
            "order": null,
            "_view_module_version": "1.2.0",
            "grid_template_areas": null,
            "object_position": null,
            "object_fit": null,
            "grid_auto_columns": null,
            "margin": null,
            "display": null,
            "left": null
          }
        },
        "bf094ff6338249a8a6cdc4726935905f": {
          "model_module": "@jupyter-widgets/controls",
          "model_name": "FloatProgressModel",
          "state": {
            "_view_name": "ProgressView",
            "style": "IPY_MODEL_5ae357c626bb49419830a3f46ee9f4bb",
            "_dom_classes": [],
            "description": "Downloading: 100%",
            "_model_name": "FloatProgressModel",
            "bar_style": "success",
            "max": 231508,
            "_view_module": "@jupyter-widgets/controls",
            "_model_module_version": "1.5.0",
            "value": 231508,
            "_view_count": null,
            "_view_module_version": "1.5.0",
            "orientation": "horizontal",
            "min": 0,
            "description_tooltip": null,
            "_model_module": "@jupyter-widgets/controls",
            "layout": "IPY_MODEL_f82a5a9a27404c5da664a21a1fb3e8dd"
          }
        },
        "ee816ff9d8ee46de896224d4dfe5fbbd": {
          "model_module": "@jupyter-widgets/controls",
          "model_name": "HTMLModel",
          "state": {
            "_view_name": "HTMLView",
            "style": "IPY_MODEL_ccc13390987842bca8422e970c1659aa",
            "_dom_classes": [],
            "description": "",
            "_model_name": "HTMLModel",
            "placeholder": "​",
            "_view_module": "@jupyter-widgets/controls",
            "_model_module_version": "1.5.0",
            "value": " 232k/232k [00:00&lt;00:00, 2.08MB/s]",
            "_view_count": null,
            "_view_module_version": "1.5.0",
            "description_tooltip": null,
            "_model_module": "@jupyter-widgets/controls",
            "layout": "IPY_MODEL_80fa0da1769441f5a983d37df42a268b"
          }
        },
        "5ae357c626bb49419830a3f46ee9f4bb": {
          "model_module": "@jupyter-widgets/controls",
          "model_name": "ProgressStyleModel",
          "state": {
            "_view_name": "StyleView",
            "_model_name": "ProgressStyleModel",
            "description_width": "initial",
            "_view_module": "@jupyter-widgets/base",
            "_model_module_version": "1.5.0",
            "_view_count": null,
            "_view_module_version": "1.2.0",
            "bar_color": null,
            "_model_module": "@jupyter-widgets/controls"
          }
        },
        "f82a5a9a27404c5da664a21a1fb3e8dd": {
          "model_module": "@jupyter-widgets/base",
          "model_name": "LayoutModel",
          "state": {
            "_view_name": "LayoutView",
            "grid_template_rows": null,
            "right": null,
            "justify_content": null,
            "_view_module": "@jupyter-widgets/base",
            "overflow": null,
            "_model_module_version": "1.2.0",
            "_view_count": null,
            "flex_flow": null,
            "width": null,
            "min_width": null,
            "border": null,
            "align_items": null,
            "bottom": null,
            "_model_module": "@jupyter-widgets/base",
            "top": null,
            "grid_column": null,
            "overflow_y": null,
            "overflow_x": null,
            "grid_auto_flow": null,
            "grid_area": null,
            "grid_template_columns": null,
            "flex": null,
            "_model_name": "LayoutModel",
            "justify_items": null,
            "grid_row": null,
            "max_height": null,
            "align_content": null,
            "visibility": null,
            "align_self": null,
            "height": null,
            "min_height": null,
            "padding": null,
            "grid_auto_rows": null,
            "grid_gap": null,
            "max_width": null,
            "order": null,
            "_view_module_version": "1.2.0",
            "grid_template_areas": null,
            "object_position": null,
            "object_fit": null,
            "grid_auto_columns": null,
            "margin": null,
            "display": null,
            "left": null
          }
        },
        "ccc13390987842bca8422e970c1659aa": {
          "model_module": "@jupyter-widgets/controls",
          "model_name": "DescriptionStyleModel",
          "state": {
            "_view_name": "StyleView",
            "_model_name": "DescriptionStyleModel",
            "description_width": "",
            "_view_module": "@jupyter-widgets/base",
            "_model_module_version": "1.5.0",
            "_view_count": null,
            "_view_module_version": "1.2.0",
            "_model_module": "@jupyter-widgets/controls"
          }
        },
        "80fa0da1769441f5a983d37df42a268b": {
          "model_module": "@jupyter-widgets/base",
          "model_name": "LayoutModel",
          "state": {
            "_view_name": "LayoutView",
            "grid_template_rows": null,
            "right": null,
            "justify_content": null,
            "_view_module": "@jupyter-widgets/base",
            "overflow": null,
            "_model_module_version": "1.2.0",
            "_view_count": null,
            "flex_flow": null,
            "width": null,
            "min_width": null,
            "border": null,
            "align_items": null,
            "bottom": null,
            "_model_module": "@jupyter-widgets/base",
            "top": null,
            "grid_column": null,
            "overflow_y": null,
            "overflow_x": null,
            "grid_auto_flow": null,
            "grid_area": null,
            "grid_template_columns": null,
            "flex": null,
            "_model_name": "LayoutModel",
            "justify_items": null,
            "grid_row": null,
            "max_height": null,
            "align_content": null,
            "visibility": null,
            "align_self": null,
            "height": null,
            "min_height": null,
            "padding": null,
            "grid_auto_rows": null,
            "grid_gap": null,
            "max_width": null,
            "order": null,
            "_view_module_version": "1.2.0",
            "grid_template_areas": null,
            "object_position": null,
            "object_fit": null,
            "grid_auto_columns": null,
            "margin": null,
            "display": null,
            "left": null
          }
        },
        "c5dc51984328404d9be5452db06f4407": {
          "model_module": "@jupyter-widgets/controls",
          "model_name": "HBoxModel",
          "state": {
            "_view_name": "HBoxView",
            "_dom_classes": [],
            "_model_name": "HBoxModel",
            "_view_module": "@jupyter-widgets/controls",
            "_model_module_version": "1.5.0",
            "_view_count": null,
            "_view_module_version": "1.5.0",
            "box_style": "",
            "layout": "IPY_MODEL_3776b95af3884719a0d998a58c34c2e8",
            "_model_module": "@jupyter-widgets/controls",
            "children": [
              "IPY_MODEL_667fe794723241cea044153abe3e5405",
              "IPY_MODEL_d2d57af503b2469ebf959db6d78442c5"
            ]
          }
        },
        "3776b95af3884719a0d998a58c34c2e8": {
          "model_module": "@jupyter-widgets/base",
          "model_name": "LayoutModel",
          "state": {
            "_view_name": "LayoutView",
            "grid_template_rows": null,
            "right": null,
            "justify_content": null,
            "_view_module": "@jupyter-widgets/base",
            "overflow": null,
            "_model_module_version": "1.2.0",
            "_view_count": null,
            "flex_flow": null,
            "width": null,
            "min_width": null,
            "border": null,
            "align_items": null,
            "bottom": null,
            "_model_module": "@jupyter-widgets/base",
            "top": null,
            "grid_column": null,
            "overflow_y": null,
            "overflow_x": null,
            "grid_auto_flow": null,
            "grid_area": null,
            "grid_template_columns": null,
            "flex": null,
            "_model_name": "LayoutModel",
            "justify_items": null,
            "grid_row": null,
            "max_height": null,
            "align_content": null,
            "visibility": null,
            "align_self": null,
            "height": null,
            "min_height": null,
            "padding": null,
            "grid_auto_rows": null,
            "grid_gap": null,
            "max_width": null,
            "order": null,
            "_view_module_version": "1.2.0",
            "grid_template_areas": null,
            "object_position": null,
            "object_fit": null,
            "grid_auto_columns": null,
            "margin": null,
            "display": null,
            "left": null
          }
        },
        "667fe794723241cea044153abe3e5405": {
          "model_module": "@jupyter-widgets/controls",
          "model_name": "FloatProgressModel",
          "state": {
            "_view_name": "ProgressView",
            "style": "IPY_MODEL_4108c698917444d79eab542c03241b5b",
            "_dom_classes": [],
            "description": "Downloading: 100%",
            "_model_name": "FloatProgressModel",
            "bar_style": "success",
            "max": 466062,
            "_view_module": "@jupyter-widgets/controls",
            "_model_module_version": "1.5.0",
            "value": 466062,
            "_view_count": null,
            "_view_module_version": "1.5.0",
            "orientation": "horizontal",
            "min": 0,
            "description_tooltip": null,
            "_model_module": "@jupyter-widgets/controls",
            "layout": "IPY_MODEL_4d43c3ba4b834037bccac45447c78037"
          }
        },
        "d2d57af503b2469ebf959db6d78442c5": {
          "model_module": "@jupyter-widgets/controls",
          "model_name": "HTMLModel",
          "state": {
            "_view_name": "HTMLView",
            "style": "IPY_MODEL_d04fdcbf2c2a413a92f9675940344d95",
            "_dom_classes": [],
            "description": "",
            "_model_name": "HTMLModel",
            "placeholder": "​",
            "_view_module": "@jupyter-widgets/controls",
            "_model_module_version": "1.5.0",
            "value": " 466k/466k [00:14&lt;00:00, 31.5kB/s]",
            "_view_count": null,
            "_view_module_version": "1.5.0",
            "description_tooltip": null,
            "_model_module": "@jupyter-widgets/controls",
            "layout": "IPY_MODEL_3fbd30eb90424e89b6c834922a91e05a"
          }
        },
        "4108c698917444d79eab542c03241b5b": {
          "model_module": "@jupyter-widgets/controls",
          "model_name": "ProgressStyleModel",
          "state": {
            "_view_name": "StyleView",
            "_model_name": "ProgressStyleModel",
            "description_width": "initial",
            "_view_module": "@jupyter-widgets/base",
            "_model_module_version": "1.5.0",
            "_view_count": null,
            "_view_module_version": "1.2.0",
            "bar_color": null,
            "_model_module": "@jupyter-widgets/controls"
          }
        },
        "4d43c3ba4b834037bccac45447c78037": {
          "model_module": "@jupyter-widgets/base",
          "model_name": "LayoutModel",
          "state": {
            "_view_name": "LayoutView",
            "grid_template_rows": null,
            "right": null,
            "justify_content": null,
            "_view_module": "@jupyter-widgets/base",
            "overflow": null,
            "_model_module_version": "1.2.0",
            "_view_count": null,
            "flex_flow": null,
            "width": null,
            "min_width": null,
            "border": null,
            "align_items": null,
            "bottom": null,
            "_model_module": "@jupyter-widgets/base",
            "top": null,
            "grid_column": null,
            "overflow_y": null,
            "overflow_x": null,
            "grid_auto_flow": null,
            "grid_area": null,
            "grid_template_columns": null,
            "flex": null,
            "_model_name": "LayoutModel",
            "justify_items": null,
            "grid_row": null,
            "max_height": null,
            "align_content": null,
            "visibility": null,
            "align_self": null,
            "height": null,
            "min_height": null,
            "padding": null,
            "grid_auto_rows": null,
            "grid_gap": null,
            "max_width": null,
            "order": null,
            "_view_module_version": "1.2.0",
            "grid_template_areas": null,
            "object_position": null,
            "object_fit": null,
            "grid_auto_columns": null,
            "margin": null,
            "display": null,
            "left": null
          }
        },
        "d04fdcbf2c2a413a92f9675940344d95": {
          "model_module": "@jupyter-widgets/controls",
          "model_name": "DescriptionStyleModel",
          "state": {
            "_view_name": "StyleView",
            "_model_name": "DescriptionStyleModel",
            "description_width": "",
            "_view_module": "@jupyter-widgets/base",
            "_model_module_version": "1.5.0",
            "_view_count": null,
            "_view_module_version": "1.2.0",
            "_model_module": "@jupyter-widgets/controls"
          }
        },
        "3fbd30eb90424e89b6c834922a91e05a": {
          "model_module": "@jupyter-widgets/base",
          "model_name": "LayoutModel",
          "state": {
            "_view_name": "LayoutView",
            "grid_template_rows": null,
            "right": null,
            "justify_content": null,
            "_view_module": "@jupyter-widgets/base",
            "overflow": null,
            "_model_module_version": "1.2.0",
            "_view_count": null,
            "flex_flow": null,
            "width": null,
            "min_width": null,
            "border": null,
            "align_items": null,
            "bottom": null,
            "_model_module": "@jupyter-widgets/base",
            "top": null,
            "grid_column": null,
            "overflow_y": null,
            "overflow_x": null,
            "grid_auto_flow": null,
            "grid_area": null,
            "grid_template_columns": null,
            "flex": null,
            "_model_name": "LayoutModel",
            "justify_items": null,
            "grid_row": null,
            "max_height": null,
            "align_content": null,
            "visibility": null,
            "align_self": null,
            "height": null,
            "min_height": null,
            "padding": null,
            "grid_auto_rows": null,
            "grid_gap": null,
            "max_width": null,
            "order": null,
            "_view_module_version": "1.2.0",
            "grid_template_areas": null,
            "object_position": null,
            "object_fit": null,
            "grid_auto_columns": null,
            "margin": null,
            "display": null,
            "left": null
          }
        },
        "b5e3f4b03aa54bd285c4877a5dabe6f6": {
          "model_module": "@jupyter-widgets/controls",
          "model_name": "HBoxModel",
          "state": {
            "_view_name": "HBoxView",
            "_dom_classes": [],
            "_model_name": "HBoxModel",
            "_view_module": "@jupyter-widgets/controls",
            "_model_module_version": "1.5.0",
            "_view_count": null,
            "_view_module_version": "1.5.0",
            "box_style": "",
            "layout": "IPY_MODEL_f1d8396e54c14b9a857a32641c98a156",
            "_model_module": "@jupyter-widgets/controls",
            "children": [
              "IPY_MODEL_84e5d941776e474eb33c7c04d382eaa3",
              "IPY_MODEL_74e9690a36b94999b164a3f504f896b5"
            ]
          }
        },
        "f1d8396e54c14b9a857a32641c98a156": {
          "model_module": "@jupyter-widgets/base",
          "model_name": "LayoutModel",
          "state": {
            "_view_name": "LayoutView",
            "grid_template_rows": null,
            "right": null,
            "justify_content": null,
            "_view_module": "@jupyter-widgets/base",
            "overflow": null,
            "_model_module_version": "1.2.0",
            "_view_count": null,
            "flex_flow": null,
            "width": null,
            "min_width": null,
            "border": null,
            "align_items": null,
            "bottom": null,
            "_model_module": "@jupyter-widgets/base",
            "top": null,
            "grid_column": null,
            "overflow_y": null,
            "overflow_x": null,
            "grid_auto_flow": null,
            "grid_area": null,
            "grid_template_columns": null,
            "flex": null,
            "_model_name": "LayoutModel",
            "justify_items": null,
            "grid_row": null,
            "max_height": null,
            "align_content": null,
            "visibility": null,
            "align_self": null,
            "height": null,
            "min_height": null,
            "padding": null,
            "grid_auto_rows": null,
            "grid_gap": null,
            "max_width": null,
            "order": null,
            "_view_module_version": "1.2.0",
            "grid_template_areas": null,
            "object_position": null,
            "object_fit": null,
            "grid_auto_columns": null,
            "margin": null,
            "display": null,
            "left": null
          }
        },
        "84e5d941776e474eb33c7c04d382eaa3": {
          "model_module": "@jupyter-widgets/controls",
          "model_name": "FloatProgressModel",
          "state": {
            "_view_name": "ProgressView",
            "style": "IPY_MODEL_1275d0c104de45f7a8d7e9df64957e32",
            "_dom_classes": [],
            "description": "Downloading: 100%",
            "_model_name": "FloatProgressModel",
            "bar_style": "success",
            "max": 536063208,
            "_view_module": "@jupyter-widgets/controls",
            "_model_module_version": "1.5.0",
            "value": 536063208,
            "_view_count": null,
            "_view_module_version": "1.5.0",
            "orientation": "horizontal",
            "min": 0,
            "description_tooltip": null,
            "_model_module": "@jupyter-widgets/controls",
            "layout": "IPY_MODEL_fd73292121e749bd809048a7ffdb9ffe"
          }
        },
        "74e9690a36b94999b164a3f504f896b5": {
          "model_module": "@jupyter-widgets/controls",
          "model_name": "HTMLModel",
          "state": {
            "_view_name": "HTMLView",
            "style": "IPY_MODEL_a02b282ca2424d44a6edb1e10aa7e91d",
            "_dom_classes": [],
            "description": "",
            "_model_name": "HTMLModel",
            "placeholder": "​",
            "_view_module": "@jupyter-widgets/controls",
            "_model_module_version": "1.5.0",
            "value": " 536M/536M [00:09&lt;00:00, 56.5MB/s]",
            "_view_count": null,
            "_view_module_version": "1.5.0",
            "description_tooltip": null,
            "_model_module": "@jupyter-widgets/controls",
            "layout": "IPY_MODEL_8ae710b19f024228b85994a8a077230b"
          }
        },
        "1275d0c104de45f7a8d7e9df64957e32": {
          "model_module": "@jupyter-widgets/controls",
          "model_name": "ProgressStyleModel",
          "state": {
            "_view_name": "StyleView",
            "_model_name": "ProgressStyleModel",
            "description_width": "initial",
            "_view_module": "@jupyter-widgets/base",
            "_model_module_version": "1.5.0",
            "_view_count": null,
            "_view_module_version": "1.2.0",
            "bar_color": null,
            "_model_module": "@jupyter-widgets/controls"
          }
        },
        "fd73292121e749bd809048a7ffdb9ffe": {
          "model_module": "@jupyter-widgets/base",
          "model_name": "LayoutModel",
          "state": {
            "_view_name": "LayoutView",
            "grid_template_rows": null,
            "right": null,
            "justify_content": null,
            "_view_module": "@jupyter-widgets/base",
            "overflow": null,
            "_model_module_version": "1.2.0",
            "_view_count": null,
            "flex_flow": null,
            "width": null,
            "min_width": null,
            "border": null,
            "align_items": null,
            "bottom": null,
            "_model_module": "@jupyter-widgets/base",
            "top": null,
            "grid_column": null,
            "overflow_y": null,
            "overflow_x": null,
            "grid_auto_flow": null,
            "grid_area": null,
            "grid_template_columns": null,
            "flex": null,
            "_model_name": "LayoutModel",
            "justify_items": null,
            "grid_row": null,
            "max_height": null,
            "align_content": null,
            "visibility": null,
            "align_self": null,
            "height": null,
            "min_height": null,
            "padding": null,
            "grid_auto_rows": null,
            "grid_gap": null,
            "max_width": null,
            "order": null,
            "_view_module_version": "1.2.0",
            "grid_template_areas": null,
            "object_position": null,
            "object_fit": null,
            "grid_auto_columns": null,
            "margin": null,
            "display": null,
            "left": null
          }
        },
        "a02b282ca2424d44a6edb1e10aa7e91d": {
          "model_module": "@jupyter-widgets/controls",
          "model_name": "DescriptionStyleModel",
          "state": {
            "_view_name": "StyleView",
            "_model_name": "DescriptionStyleModel",
            "description_width": "",
            "_view_module": "@jupyter-widgets/base",
            "_model_module_version": "1.5.0",
            "_view_count": null,
            "_view_module_version": "1.2.0",
            "_model_module": "@jupyter-widgets/controls"
          }
        },
        "8ae710b19f024228b85994a8a077230b": {
          "model_module": "@jupyter-widgets/base",
          "model_name": "LayoutModel",
          "state": {
            "_view_name": "LayoutView",
            "grid_template_rows": null,
            "right": null,
            "justify_content": null,
            "_view_module": "@jupyter-widgets/base",
            "overflow": null,
            "_model_module_version": "1.2.0",
            "_view_count": null,
            "flex_flow": null,
            "width": null,
            "min_width": null,
            "border": null,
            "align_items": null,
            "bottom": null,
            "_model_module": "@jupyter-widgets/base",
            "top": null,
            "grid_column": null,
            "overflow_y": null,
            "overflow_x": null,
            "grid_auto_flow": null,
            "grid_area": null,
            "grid_template_columns": null,
            "flex": null,
            "_model_name": "LayoutModel",
            "justify_items": null,
            "grid_row": null,
            "max_height": null,
            "align_content": null,
            "visibility": null,
            "align_self": null,
            "height": null,
            "min_height": null,
            "padding": null,
            "grid_auto_rows": null,
            "grid_gap": null,
            "max_width": null,
            "order": null,
            "_view_module_version": "1.2.0",
            "grid_template_areas": null,
            "object_position": null,
            "object_fit": null,
            "grid_auto_columns": null,
            "margin": null,
            "display": null,
            "left": null
          }
        }
      }
    }
  },
  "cells": [
    {
      "cell_type": "markdown",
      "metadata": {
        "id": "view-in-github",
        "colab_type": "text"
      },
      "source": [
        "<a href=\"https://colab.research.google.com/github/Jefffish09/MachineLearning/blob/dev/Classification/multiclass/bert_multiclass_tf2.ipynb\" target=\"_parent\"><img src=\"https://colab.research.google.com/assets/colab-badge.svg\" alt=\"Open In Colab\"/></a>"
      ]
    },
    {
      "cell_type": "markdown",
      "metadata": {
        "id": "qxzWQqvupAxH"
      },
      "source": [
        "References:\r\n",
        "\r\n",
        "* https://towardsdatascience.com/multi-label-multi-class-text-classification-with-bert-transformer-and-keras-c6355eccb63a\r\n",
        "\r\n",
        "Data Source:\r\n",
        "\r\n",
        "* https://www.kaggle.com/cfpb/us-consumer-finance-complaints\r\n"
      ]
    },
    {
      "cell_type": "code",
      "metadata": {
        "colab": {
          "base_uri": "https://localhost:8080/"
        },
        "id": "7KnPyn8-tPzI",
        "outputId": "84bd9342-c591-419f-bc92-efdef0c8c7de"
      },
      "source": [
        "!pip install -U -q transformers"
      ],
      "execution_count": 1,
      "outputs": [
        {
          "output_type": "stream",
          "text": [
            "\u001b[K     |████████████████████████████████| 1.9MB 16.5MB/s \n",
            "\u001b[K     |████████████████████████████████| 890kB 54.2MB/s \n",
            "\u001b[K     |████████████████████████████████| 3.2MB 56.0MB/s \n",
            "\u001b[?25h  Building wheel for sacremoses (setup.py) ... \u001b[?25l\u001b[?25hdone\n"
          ],
          "name": "stdout"
        }
      ]
    },
    {
      "cell_type": "code",
      "metadata": {
        "id": "e_u-e3Goowy6"
      },
      "source": [
        "import pandas as pd\r\n",
        "import numpy as np\r\n",
        "import matplotlib.pyplot as plt\r\n",
        "from sklearn.model_selection import train_test_split\r\n",
        "from sklearn.metrics import classification_report, f1_score\r\n",
        "from transformers import TFBertModel, BertConfig, BertTokenizerFast\r\n",
        "from tensorflow.keras.layers import Input, Dropout, Dense\r\n",
        "from tensorflow.keras.models import Model\r\n",
        "from tensorflow.keras.optimizers import Adam\r\n",
        "from tensorflow.keras.callbacks import EarlyStopping\r\n",
        "from tensorflow.keras.initializers import TruncatedNormal\r\n",
        "from tensorflow.keras.losses import CategoricalCrossentropy\r\n",
        "from tensorflow.keras.metrics import CategoricalAccuracy\r\n",
        "from tensorflow.keras.utils import to_categorical"
      ],
      "execution_count": 2,
      "outputs": []
    },
    {
      "cell_type": "code",
      "metadata": {
        "id": "hWZrDGeFsplG"
      },
      "source": [
        "seed = 2021\r\n",
        "max_len = 100\r\n",
        "learning_rate=5e-05\r\n",
        "epsilon = 1e-08\r\n",
        "decay = 0.01\r\n",
        "clipnorm = 1.0\r\n",
        "batch_size = 64\r\n",
        "epochs = 10\r\n",
        "earlystopping_patience = 3\r\n",
        "model_name = \"bert-base-uncased\""
      ],
      "execution_count": 3,
      "outputs": []
    },
    {
      "cell_type": "code",
      "metadata": {
        "colab": {
          "base_uri": "https://localhost:8080/",
          "height": 197
        },
        "id": "0xYuYZzcprJ0",
        "outputId": "e833a334-632d-46f7-b60e-9c33c04e4ef2"
      },
      "source": [
        "# Import data from csv\r\n",
        "df = pd.read_csv(\"/content/drive/MyDrive/consumer_complaints.csv\", \r\n",
        "                usecols=(\"product\", \"consumer_complaint_narrative\"),\r\n",
        "                dtype={\"consumer_complaint_narrative\": object})\r\n",
        "\r\n",
        "# Only interested in data with consumer complaints\r\n",
        "df = df[df[\"consumer_complaint_narrative\"].notnull()]\r\n",
        "df = df[df[\"product\"].notnull()]\r\n",
        "df.reset_index(drop=True, inplace=True)\r\n",
        "df = df.dropna()\r\n",
        "\r\n",
        "df.head()"
      ],
      "execution_count": 4,
      "outputs": [
        {
          "output_type": "execute_result",
          "data": {
            "text/html": [
              "<div>\n",
              "<style scoped>\n",
              "    .dataframe tbody tr th:only-of-type {\n",
              "        vertical-align: middle;\n",
              "    }\n",
              "\n",
              "    .dataframe tbody tr th {\n",
              "        vertical-align: top;\n",
              "    }\n",
              "\n",
              "    .dataframe thead th {\n",
              "        text-align: right;\n",
              "    }\n",
              "</style>\n",
              "<table border=\"1\" class=\"dataframe\">\n",
              "  <thead>\n",
              "    <tr style=\"text-align: right;\">\n",
              "      <th></th>\n",
              "      <th>product</th>\n",
              "      <th>consumer_complaint_narrative</th>\n",
              "    </tr>\n",
              "  </thead>\n",
              "  <tbody>\n",
              "    <tr>\n",
              "      <th>0</th>\n",
              "      <td>Debt collection</td>\n",
              "      <td>XXXX has claimed I owe them {$27.00} for XXXX ...</td>\n",
              "    </tr>\n",
              "    <tr>\n",
              "      <th>1</th>\n",
              "      <td>Consumer Loan</td>\n",
              "      <td>Due to inconsistencies in the amount owed that...</td>\n",
              "    </tr>\n",
              "    <tr>\n",
              "      <th>2</th>\n",
              "      <td>Mortgage</td>\n",
              "      <td>In XX/XX/XXXX my wages that I earned at my job...</td>\n",
              "    </tr>\n",
              "    <tr>\n",
              "      <th>3</th>\n",
              "      <td>Mortgage</td>\n",
              "      <td>I have an open and current mortgage with Chase...</td>\n",
              "    </tr>\n",
              "    <tr>\n",
              "      <th>4</th>\n",
              "      <td>Mortgage</td>\n",
              "      <td>XXXX was submitted XX/XX/XXXX. At the time I s...</td>\n",
              "    </tr>\n",
              "  </tbody>\n",
              "</table>\n",
              "</div>"
            ],
            "text/plain": [
              "           product                       consumer_complaint_narrative\n",
              "0  Debt collection  XXXX has claimed I owe them {$27.00} for XXXX ...\n",
              "1    Consumer Loan  Due to inconsistencies in the amount owed that...\n",
              "2         Mortgage  In XX/XX/XXXX my wages that I earned at my job...\n",
              "3         Mortgage  I have an open and current mortgage with Chase...\n",
              "4         Mortgage  XXXX was submitted XX/XX/XXXX. At the time I s..."
            ]
          },
          "metadata": {
            "tags": []
          },
          "execution_count": 4
        }
      ]
    },
    {
      "cell_type": "code",
      "metadata": {
        "colab": {
          "base_uri": "https://localhost:8080/",
          "height": 197
        },
        "id": "ruNo--4fquJZ",
        "outputId": "17349a61-d8b0-48dd-b530-92f52e0b5c94"
      },
      "source": [
        "# Set your model output as categorical and save in new label col\r\n",
        "df[\"product_label\"] = pd.Categorical(df[\"product\"])\r\n",
        "df[\"product\"] = df[\"product_label\"].cat.codes\r\n",
        "df.head()"
      ],
      "execution_count": 5,
      "outputs": [
        {
          "output_type": "execute_result",
          "data": {
            "text/html": [
              "<div>\n",
              "<style scoped>\n",
              "    .dataframe tbody tr th:only-of-type {\n",
              "        vertical-align: middle;\n",
              "    }\n",
              "\n",
              "    .dataframe tbody tr th {\n",
              "        vertical-align: top;\n",
              "    }\n",
              "\n",
              "    .dataframe thead th {\n",
              "        text-align: right;\n",
              "    }\n",
              "</style>\n",
              "<table border=\"1\" class=\"dataframe\">\n",
              "  <thead>\n",
              "    <tr style=\"text-align: right;\">\n",
              "      <th></th>\n",
              "      <th>product</th>\n",
              "      <th>consumer_complaint_narrative</th>\n",
              "      <th>product_label</th>\n",
              "    </tr>\n",
              "  </thead>\n",
              "  <tbody>\n",
              "    <tr>\n",
              "      <th>0</th>\n",
              "      <td>4</td>\n",
              "      <td>XXXX has claimed I owe them {$27.00} for XXXX ...</td>\n",
              "      <td>Debt collection</td>\n",
              "    </tr>\n",
              "    <tr>\n",
              "      <th>1</th>\n",
              "      <td>1</td>\n",
              "      <td>Due to inconsistencies in the amount owed that...</td>\n",
              "      <td>Consumer Loan</td>\n",
              "    </tr>\n",
              "    <tr>\n",
              "      <th>2</th>\n",
              "      <td>6</td>\n",
              "      <td>In XX/XX/XXXX my wages that I earned at my job...</td>\n",
              "      <td>Mortgage</td>\n",
              "    </tr>\n",
              "    <tr>\n",
              "      <th>3</th>\n",
              "      <td>6</td>\n",
              "      <td>I have an open and current mortgage with Chase...</td>\n",
              "      <td>Mortgage</td>\n",
              "    </tr>\n",
              "    <tr>\n",
              "      <th>4</th>\n",
              "      <td>6</td>\n",
              "      <td>XXXX was submitted XX/XX/XXXX. At the time I s...</td>\n",
              "      <td>Mortgage</td>\n",
              "    </tr>\n",
              "  </tbody>\n",
              "</table>\n",
              "</div>"
            ],
            "text/plain": [
              "   product                       consumer_complaint_narrative    product_label\n",
              "0        4  XXXX has claimed I owe them {$27.00} for XXXX ...  Debt collection\n",
              "1        1  Due to inconsistencies in the amount owed that...    Consumer Loan\n",
              "2        6  In XX/XX/XXXX my wages that I earned at my job...         Mortgage\n",
              "3        6  I have an open and current mortgage with Chase...         Mortgage\n",
              "4        6  XXXX was submitted XX/XX/XXXX. At the time I s...         Mortgage"
            ]
          },
          "metadata": {
            "tags": []
          },
          "execution_count": 5
        }
      ]
    },
    {
      "cell_type": "code",
      "metadata": {
        "colab": {
          "base_uri": "https://localhost:8080/"
        },
        "id": "2K-PN3exGAEe",
        "outputId": "8729ac30-47f4-4c3c-873e-fa9ce611f748"
      },
      "source": [
        "labels_names_dict = dict(enumerate(df[\"product_label\"].cat.categories))\r\n",
        "labels = []\r\n",
        "label_names = []\r\n",
        "for i in labels_names_dict:\r\n",
        "  labels.append(i)\r\n",
        "  label_names.append(labels_names_dict[i])\r\n",
        "print(labels_names_dict)"
      ],
      "execution_count": 6,
      "outputs": [
        {
          "output_type": "stream",
          "text": [
            "{0: 'Bank account or service', 1: 'Consumer Loan', 2: 'Credit card', 3: 'Credit reporting', 4: 'Debt collection', 5: 'Money transfers', 6: 'Mortgage', 7: 'Other financial service', 8: 'Payday loan', 9: 'Prepaid card', 10: 'Student loan'}\n"
          ],
          "name": "stdout"
        }
      ]
    },
    {
      "cell_type": "code",
      "metadata": {
        "colab": {
          "base_uri": "https://localhost:8080/",
          "height": 197
        },
        "id": "B-mH32yvq6Bv",
        "outputId": "ad77a25d-b0a6-430e-ca2b-33dc80f3d1a2"
      },
      "source": [
        "# Split into train and test - stratify over Issue\r\n",
        "df_train, df_test = train_test_split(df, test_size=0.2, random_state=seed, stratify=df[\"product_label\"])\r\n",
        "\r\n",
        "df_train.head()"
      ],
      "execution_count": 7,
      "outputs": [
        {
          "output_type": "execute_result",
          "data": {
            "text/html": [
              "<div>\n",
              "<style scoped>\n",
              "    .dataframe tbody tr th:only-of-type {\n",
              "        vertical-align: middle;\n",
              "    }\n",
              "\n",
              "    .dataframe tbody tr th {\n",
              "        vertical-align: top;\n",
              "    }\n",
              "\n",
              "    .dataframe thead th {\n",
              "        text-align: right;\n",
              "    }\n",
              "</style>\n",
              "<table border=\"1\" class=\"dataframe\">\n",
              "  <thead>\n",
              "    <tr style=\"text-align: right;\">\n",
              "      <th></th>\n",
              "      <th>product</th>\n",
              "      <th>consumer_complaint_narrative</th>\n",
              "      <th>product_label</th>\n",
              "    </tr>\n",
              "  </thead>\n",
              "  <tbody>\n",
              "    <tr>\n",
              "      <th>55881</th>\n",
              "      <td>1</td>\n",
              "      <td>I was in a car accident and was dealing with b...</td>\n",
              "      <td>Consumer Loan</td>\n",
              "    </tr>\n",
              "    <tr>\n",
              "      <th>53666</th>\n",
              "      <td>3</td>\n",
              "      <td>I have already done a fraud alert I need my re...</td>\n",
              "      <td>Credit reporting</td>\n",
              "    </tr>\n",
              "    <tr>\n",
              "      <th>27439</th>\n",
              "      <td>6</td>\n",
              "      <td>I signed a modification offer submitted to me ...</td>\n",
              "      <td>Mortgage</td>\n",
              "    </tr>\n",
              "    <tr>\n",
              "      <th>61579</th>\n",
              "      <td>1</td>\n",
              "      <td>I believe that I was misled by PNC bank regard...</td>\n",
              "      <td>Consumer Loan</td>\n",
              "    </tr>\n",
              "    <tr>\n",
              "      <th>40505</th>\n",
              "      <td>3</td>\n",
              "      <td>Equifax does not respond to me in writing to p...</td>\n",
              "      <td>Credit reporting</td>\n",
              "    </tr>\n",
              "  </tbody>\n",
              "</table>\n",
              "</div>"
            ],
            "text/plain": [
              "       product  ...     product_label\n",
              "55881        1  ...     Consumer Loan\n",
              "53666        3  ...  Credit reporting\n",
              "27439        6  ...          Mortgage\n",
              "61579        1  ...     Consumer Loan\n",
              "40505        3  ...  Credit reporting\n",
              "\n",
              "[5 rows x 3 columns]"
            ]
          },
          "metadata": {
            "tags": []
          },
          "execution_count": 7
        }
      ]
    },
    {
      "cell_type": "code",
      "metadata": {
        "id": "AFeNEfG945jY"
      },
      "source": [
        "def plot_perf(history):\r\n",
        "  # Create a plot of accuracy and loss over time\r\n",
        "  history_dict = history.history\r\n",
        "  history_dict.keys()\r\n",
        "\r\n",
        "  acc = history_dict[\"accuracy\"]\r\n",
        "  val_acc = history_dict[\"val_accuracy\"]\r\n",
        "  loss = history_dict[\"loss\"]\r\n",
        "  val_loss = history_dict[\"val_loss\"]\r\n",
        "\r\n",
        "  epochs = range(1, len(acc) + 1)\r\n",
        "\r\n",
        "  # Training and validation loss\r\n",
        "  plt.plot(epochs, loss, \"r\", label=\"Training loss\")\r\n",
        "  # b is for \"solid blue line\"\r\n",
        "  plt.plot(epochs, val_loss, \"b\", label=\"Validation loss\")\r\n",
        "  plt.title(\"Training and validation loss\")\r\n",
        "  plt.xlabel(\"Epochs\")\r\n",
        "  plt.ylabel(\"Loss\")\r\n",
        "  plt.legend()\r\n",
        "  plt.show()\r\n",
        "\r\n",
        "  # Training and validation accuracy\r\n",
        "  plt.plot(epochs, acc, \"r\", label=\"Training acc\")\r\n",
        "  plt.plot(epochs, val_acc, \"b\", label=\"Validation acc\")\r\n",
        "  plt.title(\"Training and validation accuracy\")\r\n",
        "  plt.xlabel(\"Epochs\")\r\n",
        "  plt.ylabel(\"Accuracy\")\r\n",
        "  plt.legend(loc=\"lower right\")\r\n",
        "  plt.show()"
      ],
      "execution_count": 8,
      "outputs": []
    },
    {
      "cell_type": "code",
      "metadata": {
        "colab": {
          "base_uri": "https://localhost:8080/",
          "height": 318,
          "referenced_widgets": [
            "0066dc4ce3974941971770e06e43d4e8",
            "169b588c1b784e81b8d0b88b422d3ac7",
            "e4bc6fc31a504f8d9b2fe4b31ba98302",
            "647fd36026ac407380b8b40309f61d2e",
            "df94977ee0e648049ae9939526f75066",
            "5d754000ef8f472981857cd649da7176",
            "1fe8e302c6a14e8ab9305d3ac0a6e528",
            "03947d64364d4308a78f9a06344956db",
            "c3eb7841f1154c97b67f5fb52cd48946",
            "cfb78238d7e7425ab7207abbb4b95199",
            "bf094ff6338249a8a6cdc4726935905f",
            "ee816ff9d8ee46de896224d4dfe5fbbd",
            "5ae357c626bb49419830a3f46ee9f4bb",
            "f82a5a9a27404c5da664a21a1fb3e8dd",
            "ccc13390987842bca8422e970c1659aa",
            "80fa0da1769441f5a983d37df42a268b",
            "c5dc51984328404d9be5452db06f4407",
            "3776b95af3884719a0d998a58c34c2e8",
            "667fe794723241cea044153abe3e5405",
            "d2d57af503b2469ebf959db6d78442c5",
            "4108c698917444d79eab542c03241b5b",
            "4d43c3ba4b834037bccac45447c78037",
            "d04fdcbf2c2a413a92f9675940344d95",
            "3fbd30eb90424e89b6c834922a91e05a",
            "b5e3f4b03aa54bd285c4877a5dabe6f6",
            "f1d8396e54c14b9a857a32641c98a156",
            "84e5d941776e474eb33c7c04d382eaa3",
            "74e9690a36b94999b164a3f504f896b5",
            "1275d0c104de45f7a8d7e9df64957e32",
            "fd73292121e749bd809048a7ffdb9ffe",
            "a02b282ca2424d44a6edb1e10aa7e91d",
            "8ae710b19f024228b85994a8a077230b"
          ]
        },
        "id": "Kp_9AHQEs7iO",
        "outputId": "7007c2d0-605e-483a-dc6c-eaa41bcd3b5a"
      },
      "source": [
        "# Load transformers config and set output_hidden_states to False\r\n",
        "config = BertConfig.from_pretrained(model_name)\r\n",
        "config.output_hidden_states = False\r\n",
        "\r\n",
        "# Load BERT tokenizer\r\n",
        "tokenizer = BertTokenizerFast.from_pretrained(pretrained_model_name_or_path=model_name, config=config)\r\n",
        "\r\n",
        "# Load the Transformers BERT model\r\n",
        "transformer_model = TFBertModel.from_pretrained(model_name, config=config)"
      ],
      "execution_count": 9,
      "outputs": [
        {
          "output_type": "display_data",
          "data": {
            "application/vnd.jupyter.widget-view+json": {
              "model_id": "0066dc4ce3974941971770e06e43d4e8",
              "version_minor": 0,
              "version_major": 2
            },
            "text/plain": [
              "HBox(children=(FloatProgress(value=0.0, description='Downloading', max=433.0, style=ProgressStyle(description_…"
            ]
          },
          "metadata": {
            "tags": []
          }
        },
        {
          "output_type": "stream",
          "text": [
            "\n"
          ],
          "name": "stdout"
        },
        {
          "output_type": "display_data",
          "data": {
            "application/vnd.jupyter.widget-view+json": {
              "model_id": "c3eb7841f1154c97b67f5fb52cd48946",
              "version_minor": 0,
              "version_major": 2
            },
            "text/plain": [
              "HBox(children=(FloatProgress(value=0.0, description='Downloading', max=231508.0, style=ProgressStyle(descripti…"
            ]
          },
          "metadata": {
            "tags": []
          }
        },
        {
          "output_type": "stream",
          "text": [
            "\n"
          ],
          "name": "stdout"
        },
        {
          "output_type": "display_data",
          "data": {
            "application/vnd.jupyter.widget-view+json": {
              "model_id": "c5dc51984328404d9be5452db06f4407",
              "version_minor": 0,
              "version_major": 2
            },
            "text/plain": [
              "HBox(children=(FloatProgress(value=0.0, description='Downloading', max=466062.0, style=ProgressStyle(descripti…"
            ]
          },
          "metadata": {
            "tags": []
          }
        },
        {
          "output_type": "stream",
          "text": [
            "\n"
          ],
          "name": "stdout"
        },
        {
          "output_type": "display_data",
          "data": {
            "application/vnd.jupyter.widget-view+json": {
              "model_id": "b5e3f4b03aa54bd285c4877a5dabe6f6",
              "version_minor": 0,
              "version_major": 2
            },
            "text/plain": [
              "HBox(children=(FloatProgress(value=0.0, description='Downloading', max=536063208.0, style=ProgressStyle(descri…"
            ]
          },
          "metadata": {
            "tags": []
          }
        },
        {
          "output_type": "stream",
          "text": [
            "\n"
          ],
          "name": "stdout"
        },
        {
          "output_type": "stream",
          "text": [
            "Some layers from the model checkpoint at bert-base-uncased were not used when initializing TFBertModel: ['nsp___cls', 'mlm___cls']\n",
            "- This IS expected if you are initializing TFBertModel from the checkpoint of a model trained on another task or with another architecture (e.g. initializing a BertForSequenceClassification model from a BertForPreTraining model).\n",
            "- This IS NOT expected if you are initializing TFBertModel from the checkpoint of a model that you expect to be exactly identical (initializing a BertForSequenceClassification model from a BertForSequenceClassification model).\n",
            "All the layers of TFBertModel were initialized from the model checkpoint at bert-base-uncased.\n",
            "If your task is similar to the task the model of the checkpoint was trained on, you can already use TFBertModel for predictions without further training.\n"
          ],
          "name": "stderr"
        }
      ]
    },
    {
      "cell_type": "code",
      "metadata": {
        "colab": {
          "base_uri": "https://localhost:8080/",
          "height": 1000
        },
        "id": "4EXLpxVpuVvZ",
        "outputId": "734beca6-29a9-4daf-f686-587735bbf662"
      },
      "source": [
        "#######################################\r\n",
        "### ------- Train the model ------- ###\r\n",
        "\r\n",
        "earlystop_callback = EarlyStopping(\r\n",
        "  monitor=\"val_loss\",\r\n",
        "  min_delta=0.0001,\r\n",
        "  patience=earlystopping_patience,\r\n",
        "  restore_best_weights=True)\r\n",
        "\r\n",
        "# Load the MainLayer\r\n",
        "bert = transformer_model.layers[0]\r\n",
        "\r\n",
        "# Build your model input\r\n",
        "input_ids = Input(shape=(max_len,), name=\"input_ids\", dtype=\"int32\")\r\n",
        "inputs = {\"input_ids\": input_ids}\r\n",
        "\r\n",
        "# Load the Transformers BERT model as a layer in a Keras model\r\n",
        "bert_model = bert(inputs)[1]\r\n",
        "dropout = Dropout(config.hidden_dropout_prob, name=\"pooled_output\")\r\n",
        "pooled_output = dropout(bert_model, training=False)\r\n",
        "\r\n",
        "# Then build your model output\r\n",
        "product = Dense(units=len(df_train[\"product_label\"].value_counts()), kernel_initializer=TruncatedNormal(stddev=config.initializer_range), name=\"product\")(pooled_output)\r\n",
        "outputs = {\"product\": product}\r\n",
        "\r\n",
        "# And combine it all in a model object\r\n",
        "model = Model(inputs=inputs, outputs=outputs, name=\"BERT_MultiClass\")\r\n",
        "\r\n",
        "# Take a look at the model\r\n",
        "# model.summary()\r\n",
        "\r\n",
        "# Set an optimizer\r\n",
        "optimizer = Adam(\r\n",
        "    learning_rate=learning_rate,\r\n",
        "    epsilon=epsilon,\r\n",
        "    decay=decay,\r\n",
        "    clipnorm=clipnorm)\r\n",
        "\r\n",
        "# Set loss and metrics\r\n",
        "loss = {\"product\": CategoricalCrossentropy(from_logits=True)}\r\n",
        "metric = {\"product\": CategoricalAccuracy(\"accuracy\")}\r\n",
        "\r\n",
        "# Compile the model\r\n",
        "model.compile(\r\n",
        "    optimizer=optimizer,\r\n",
        "    loss=loss, \r\n",
        "    metrics=metric)\r\n",
        "\r\n",
        "# Ready output data for the model\r\n",
        "y_product = to_categorical(df_train[\"product\"])\r\n",
        "\r\n",
        "# Tokenize the input (takes some time)\r\n",
        "x = tokenizer(\r\n",
        "    text=df_train[\"consumer_complaint_narrative\"].to_list(),\r\n",
        "    add_special_tokens=True,\r\n",
        "    max_length=max_len,\r\n",
        "    truncation=True,\r\n",
        "    padding=True, \r\n",
        "    return_tensors=\"tf\",\r\n",
        "    return_token_type_ids=False,\r\n",
        "    return_attention_mask=False,\r\n",
        "    verbose=True)\r\n",
        "\r\n",
        "# Fit the model\r\n",
        "history = model.fit(\r\n",
        "    x={\"input_ids\": x[\"input_ids\"]},\r\n",
        "    y={\"product\": y_product},\r\n",
        "    validation_split=0.2,\r\n",
        "    batch_size=batch_size,\r\n",
        "    epochs=epochs,\r\n",
        "    verbose=1,\r\n",
        "    callbacks=[earlystop_callback])\r\n",
        "\r\n",
        "plot_perf(history)\r\n",
        "\r\n",
        "#######################################\r\n",
        "### ----- Evaluate the model ------ ###\r\n",
        "\r\n",
        "# Ready test data\r\n",
        "test_y_product = to_categorical(df_test[\"product\"])\r\n",
        "test_x = tokenizer(\r\n",
        "    text=df_test[\"consumer_complaint_narrative\"].to_list(),\r\n",
        "    add_special_tokens=True,\r\n",
        "    max_length=max_len,\r\n",
        "    truncation=True,\r\n",
        "    padding=True, \r\n",
        "    return_tensors=\"tf\",\r\n",
        "    return_token_type_ids=False,\r\n",
        "    return_attention_mask=False,\r\n",
        "    verbose=True)\r\n",
        "\r\n",
        "# Run evaluation\r\n",
        "loss, acc = model.evaluate(\r\n",
        "    x={\"input_ids\": test_x[\"input_ids\"]},\r\n",
        "    y={\"product\": test_y_product}\r\n",
        ")\r\n",
        "\r\n",
        "y_preds = []\r\n",
        "predictions = model.predict(x={\"input_ids\": test_x[\"input_ids\"]})\r\n",
        "for prediction in predictions[\"product\"]:\r\n",
        "      y_preds.append(np.argmax(prediction))\r\n",
        "\r\n",
        "y_true = np.argmax(test_y_product, axis=1)\r\n",
        "report = classification_report(y_true=y_true, y_pred=y_preds, labels=labels, target_names=label_names, digits=3, output_dict=False)\r\n",
        "print(report)"
      ],
      "execution_count": 10,
      "outputs": [
        {
          "output_type": "stream",
          "text": [
            "Epoch 1/10\n",
            "669/669 [==============================] - 943s 1s/step - loss: 0.9797 - accuracy: 0.7026 - val_loss: 0.4911 - val_accuracy: 0.8529\n",
            "Epoch 2/10\n",
            "669/669 [==============================] - 928s 1s/step - loss: 0.4644 - accuracy: 0.8638 - val_loss: 0.4682 - val_accuracy: 0.8585\n",
            "Epoch 3/10\n",
            "669/669 [==============================] - 927s 1s/step - loss: 0.4016 - accuracy: 0.8828 - val_loss: 0.4634 - val_accuracy: 0.8601\n",
            "Epoch 4/10\n",
            "669/669 [==============================] - 927s 1s/step - loss: 0.3712 - accuracy: 0.8929 - val_loss: 0.4581 - val_accuracy: 0.8625\n",
            "Epoch 5/10\n",
            "669/669 [==============================] - 927s 1s/step - loss: 0.3542 - accuracy: 0.9007 - val_loss: 0.4599 - val_accuracy: 0.8622\n",
            "Epoch 6/10\n",
            "669/669 [==============================] - 928s 1s/step - loss: 0.3456 - accuracy: 0.9014 - val_loss: 0.4604 - val_accuracy: 0.8635\n",
            "Epoch 7/10\n",
            "669/669 [==============================] - 927s 1s/step - loss: 0.3241 - accuracy: 0.9082 - val_loss: 0.4617 - val_accuracy: 0.8628\n"
          ],
          "name": "stdout"
        },
        {
          "output_type": "display_data",
          "data": {
            "image/png": "[encoded data removed]",
            "text/plain": [
              "<Figure size 432x288 with 1 Axes>"
            ]
          },
          "metadata": {
            "tags": [],
            "needs_background": "light"
          }
        },
        {
          "output_type": "display_data",
          "data": {
            "image/png": "[encoded data removed]",
            "text/plain": [
              "<Figure size 432x288 with 1 Axes>"
            ]
          },
          "metadata": {
            "tags": [],
            "needs_background": "light"
          }
        },
        {
          "output_type": "stream",
          "text": [
            "418/418 [==============================] - 90s 214ms/step - loss: 0.4564 - accuracy: 0.8622\n",
            "                         precision    recall  f1-score   support\n",
            "\n",
            "Bank account or service      0.850     0.770     0.808      1142\n",
            "          Consumer Loan      0.757     0.701     0.728       736\n",
            "            Credit card      0.812     0.845     0.828      1586\n",
            "       Credit reporting      0.886     0.888     0.887      2505\n",
            "        Debt collection      0.854     0.872     0.863      3511\n",
            "        Money transfers      0.716     0.586     0.645       133\n",
            "               Mortgage      0.928     0.956     0.942      2984\n",
            "Other financial service      0.000     0.000     0.000        22\n",
            "            Payday loan      0.632     0.414     0.500       145\n",
            "           Prepaid card      0.771     0.785     0.778       172\n",
            "           Student loan      0.840     0.878     0.859       426\n",
            "\n",
            "               accuracy                          0.862     13362\n",
            "              macro avg      0.731     0.700     0.712     13362\n",
            "           weighted avg      0.859     0.862     0.860     13362\n",
            "\n"
          ],
          "name": "stdout"
        },
        {
          "output_type": "stream",
          "text": [
            "/usr/local/lib/python3.7/dist-packages/sklearn/metrics/_classification.py:1272: UndefinedMetricWarning: Precision and F-score are ill-defined and being set to 0.0 in labels with no predicted samples. Use `zero_division` parameter to control this behavior.\n",
            "  _warn_prf(average, modifier, msg_start, len(result))\n"
          ],
          "name": "stderr"
        }
      ]
    }
  ]
}