{
  "nbformat": 4,
  "nbformat_minor": 0,
  "metadata": {
    "colab": {
      "name": "lstm_tf2.ipynb",
      "provenance": [],
      "collapsed_sections": [],
      "authorship_tag": "ABX9TyNFcCHlu6evwHFQ5Z8j6LmV",
      "include_colab_link": true
    },
    "kernelspec": {
      "name": "python3",
      "display_name": "Python 3"
    },
    "accelerator": "GPU"
  },
  "cells": [
    {
      "cell_type": "markdown",
      "metadata": {
        "id": "view-in-github",
        "colab_type": "text"
      },
      "source": [
        "<a href=\"https://colab.research.google.com/github/Jefffish09/MachineLearning/blob/dev/NER/lstm/lstm_tf2.ipynb\" target=\"_parent\"><img src=\"https://colab.research.google.com/assets/colab-badge.svg\" alt=\"Open In Colab\"/></a>"
      ]
    },
    {
      "cell_type": "markdown",
      "metadata": {
        "id": "_Zy4FuH_q_w3"
      },
      "source": [
        "References:\r\n",
        "\r\n",
        "* https://towardsdatascience.com/named-entity-recognition-ner-using-keras-bidirectional-lstm-28cd3f301f54\r\n",
        "* https://github.com/snehalnair/Named-Entity-Recognition\r\n"
      ]
    },
    {
      "cell_type": "code",
      "metadata": {
        "colab": {
          "base_uri": "https://localhost:8080/",
          "height": 352
        },
        "id": "-ulJYcmCG3UY",
        "outputId": "6de83f04-cc57-4972-db3e-bedb5538a707"
      },
      "source": [
        "# Get the raw dataset\r\n",
        "\r\n",
        "!curl -s -LO https://github.com/MahmooudTaha/NLP-2019/raw/master/ner_dataset.csv.zip\r\n",
        "!unzip -o ner_dataset.csv.zip\r\n",
        "!rm -f ner_dataset.csv.zip\r\n",
        "\r\n",
        "\r\n",
        "import pandas as pd\r\n",
        "from itertools import chain\r\n",
        "\r\n",
        "\r\n",
        "def get_dict_map(data, token_or_tag):\r\n",
        "    tok2idx = {}\r\n",
        "    idx2tok = {}\r\n",
        "    if token_or_tag == \"token\":\r\n",
        "        vocab = list(set(data[\"Word\"].to_list()))\r\n",
        "    else:\r\n",
        "        vocab = list(set(data[\"Tag\"].to_list()))\r\n",
        "    idx2tok = {idx: tok for idx, tok in enumerate(vocab)}\r\n",
        "    tok2idx = {tok: idx for idx, tok in enumerate(vocab)}\r\n",
        "    return tok2idx, idx2tok\r\n",
        "\r\n",
        "\r\n",
        "data = pd.read_csv(\"/content/ner_dataset.csv\", encoding=\"Windows-1252\")\r\n",
        "token2idx, idx2token = get_dict_map(data, \"token\")\r\n",
        "tag2idx, idx2tag = get_dict_map(data, \"tag\")\r\n",
        "\r\n",
        "data[\"Word_idx\"] = data[\"Word\"].map(token2idx)\r\n",
        "data[\"Tag_idx\"] = data[\"Tag\"].map(tag2idx)\r\n",
        "\r\n",
        "# Fill na\r\n",
        "data_fillna = data.fillna(method=\"ffill\", axis=0)\r\n",
        "\r\n",
        "# Groupby and collect columns\r\n",
        "data_group = data_fillna.groupby([\"Sentence #\"], as_index=False)[\"Word\", \"POS\", \"Tag\", \"Word_idx\", \"Tag_idx\"].agg(lambda x: list(x))\r\n",
        "\r\n",
        "# Visualise data\r\n",
        "data_group.head()"
      ],
      "execution_count": 1,
      "outputs": [
        {
          "output_type": "stream",
          "text": [
            "Archive:  ner_dataset.csv.zip\n",
            "  inflating: ner_dataset.csv         \n"
          ],
          "name": "stdout"
        },
        {
          "output_type": "stream",
          "text": [
            "/usr/local/lib/python3.7/dist-packages/ipykernel_launcher.py:35: FutureWarning: Indexing with multiple keys (implicitly converted to a tuple of keys) will be deprecated, use a list instead.\n"
          ],
          "name": "stderr"
        },
        {
          "output_type": "execute_result",
          "data": {
            "text/html": [
              "<div>\n",
              "<style scoped>\n",
              "    .dataframe tbody tr th:only-of-type {\n",
              "        vertical-align: middle;\n",
              "    }\n",
              "\n",
              "    .dataframe tbody tr th {\n",
              "        vertical-align: top;\n",
              "    }\n",
              "\n",
              "    .dataframe thead th {\n",
              "        text-align: right;\n",
              "    }\n",
              "</style>\n",
              "<table border=\"1\" class=\"dataframe\">\n",
              "  <thead>\n",
              "    <tr style=\"text-align: right;\">\n",
              "      <th></th>\n",
              "      <th>Sentence #</th>\n",
              "      <th>Word</th>\n",
              "      <th>POS</th>\n",
              "      <th>Tag</th>\n",
              "      <th>Word_idx</th>\n",
              "      <th>Tag_idx</th>\n",
              "    </tr>\n",
              "  </thead>\n",
              "  <tbody>\n",
              "    <tr>\n",
              "      <th>0</th>\n",
              "      <td>Sentence: 1</td>\n",
              "      <td>[Thousands, of, demonstrators, have, marched, ...</td>\n",
              "      <td>[NNS, IN, NNS, VBP, VBN, IN, NNP, TO, VB, DT, ...</td>\n",
              "      <td>[O, O, O, O, O, O, B-geo, O, O, O, O, O, B-geo...</td>\n",
              "      <td>[29453, 24431, 972, 19273, 19658, 25560, 16911...</td>\n",
              "      <td>[3, 3, 3, 3, 3, 3, 5, 3, 3, 3, 3, 3, 5, 3, 3, ...</td>\n",
              "    </tr>\n",
              "    <tr>\n",
              "      <th>1</th>\n",
              "      <td>Sentence: 10</td>\n",
              "      <td>[Iranian, officials, say, they, expect, to, ge...</td>\n",
              "      <td>[JJ, NNS, VBP, PRP, VBP, TO, VB, NN, TO, JJ, J...</td>\n",
              "      <td>[B-gpe, O, O, O, O, O, O, O, O, O, O, O, O, O,...</td>\n",
              "      <td>[2928, 25956, 18753, 23841, 33605, 10079, 1050...</td>\n",
              "      <td>[0, 3, 3, 3, 3, 3, 3, 3, 3, 3, 3, 3, 3, 3, 3, ...</td>\n",
              "    </tr>\n",
              "    <tr>\n",
              "      <th>2</th>\n",
              "      <td>Sentence: 100</td>\n",
              "      <td>[Helicopter, gunships, Saturday, pounded, mili...</td>\n",
              "      <td>[NN, NNS, NNP, VBD, JJ, NNS, IN, DT, NNP, JJ, ...</td>\n",
              "      <td>[O, O, B-tim, O, O, O, O, O, B-geo, O, O, O, O...</td>\n",
              "      <td>[11750, 25537, 22242, 28605, 4287, 33319, 1730...</td>\n",
              "      <td>[3, 3, 13, 3, 3, 3, 3, 3, 5, 3, 3, 3, 3, 3, 15...</td>\n",
              "    </tr>\n",
              "    <tr>\n",
              "      <th>3</th>\n",
              "      <td>Sentence: 1000</td>\n",
              "      <td>[They, left, after, a, tense, hour-long, stand...</td>\n",
              "      <td>[PRP, VBD, IN, DT, NN, JJ, NN, IN, NN, NNS, .]</td>\n",
              "      <td>[O, O, O, O, O, O, O, O, O, O, O]</td>\n",
              "      <td>[26972, 23959, 15738, 23407, 7888, 27521, 1347...</td>\n",
              "      <td>[3, 3, 3, 3, 3, 3, 3, 3, 3, 3, 3]</td>\n",
              "    </tr>\n",
              "    <tr>\n",
              "      <th>4</th>\n",
              "      <td>Sentence: 10000</td>\n",
              "      <td>[U.N., relief, coordinator, Jan, Egeland, said...</td>\n",
              "      <td>[NNP, NN, NN, NNP, NNP, VBD, NNP, ,, NNP, ,, J...</td>\n",
              "      <td>[B-geo, O, O, B-per, I-per, O, B-tim, O, B-geo...</td>\n",
              "      <td>[5753, 34147, 11510, 2580, 2140, 24732, 25928,...</td>\n",
              "      <td>[5, 3, 3, 10, 2, 3, 13, 3, 5, 3, 0, 3, 0, 3, 3...</td>\n",
              "    </tr>\n",
              "  </tbody>\n",
              "</table>\n",
              "</div>"
            ],
            "text/plain": [
              "        Sentence #  ...                                            Tag_idx\n",
              "0      Sentence: 1  ...  [3, 3, 3, 3, 3, 3, 5, 3, 3, 3, 3, 3, 5, 3, 3, ...\n",
              "1     Sentence: 10  ...  [0, 3, 3, 3, 3, 3, 3, 3, 3, 3, 3, 3, 3, 3, 3, ...\n",
              "2    Sentence: 100  ...  [3, 3, 13, 3, 3, 3, 3, 3, 5, 3, 3, 3, 3, 3, 15...\n",
              "3   Sentence: 1000  ...                  [3, 3, 3, 3, 3, 3, 3, 3, 3, 3, 3]\n",
              "4  Sentence: 10000  ...  [5, 3, 3, 10, 2, 3, 13, 3, 5, 3, 0, 3, 0, 3, 3...\n",
              "\n",
              "[5 rows x 6 columns]"
            ]
          },
          "metadata": {
            "tags": []
          },
          "execution_count": 1
        }
      ]
    },
    {
      "cell_type": "code",
      "metadata": {
        "colab": {
          "base_uri": "https://localhost:8080/"
        },
        "id": "B2RTuGAECJKt",
        "outputId": "b4db855f-0e11-4b0d-ba9f-9e613af3ea5d"
      },
      "source": [
        "from sklearn.model_selection import train_test_split\r\n",
        "from tensorflow.keras.preprocessing.sequence import pad_sequences\r\n",
        "from tensorflow.keras.utils import to_categorical\r\n",
        "\r\n",
        "\r\n",
        "def get_pad_train_test_val(data_group, data):\r\n",
        "\r\n",
        "    # Get max token and tag length\r\n",
        "    n_token = len(list(set(data[\"Word\"].to_list())))\r\n",
        "    n_tag = len(list(set(data[\"Tag\"].to_list())))\r\n",
        "\r\n",
        "    # Pad tokens (X var)    \r\n",
        "    tokens = data_group[\"Word_idx\"].tolist()\r\n",
        "    maxlen = max([len(s) for s in tokens])\r\n",
        "    pad_tokens = pad_sequences(tokens, maxlen=maxlen, dtype=\"int32\", padding=\"post\", value= n_token - 1)\r\n",
        "\r\n",
        "    # Pad Tags (y var) and convert it into one hot encoding\r\n",
        "    tags = data_group[\"Tag_idx\"].tolist()\r\n",
        "    pad_tags = pad_sequences(tags, maxlen=maxlen, dtype=\"int32\", padding=\"post\", value= tag2idx[\"O\"])\r\n",
        "    n_tags = len(tag2idx)\r\n",
        "    pad_tags = [to_categorical(i, num_classes=n_tags) for i in pad_tags]\r\n",
        "    \r\n",
        "    # Split train, test and validation set\r\n",
        "    tokens_, test_tokens, tags_, test_tags = train_test_split(pad_tokens, pad_tags, test_size=0.1, train_size=0.9, random_state=2020)\r\n",
        "    train_tokens, val_tokens, train_tags, val_tags = train_test_split(tokens_,tags_,test_size=0.25,train_size=0.75, random_state=2020)\r\n",
        "\r\n",
        "    print(\r\n",
        "        \"train_tokens length:\", len(train_tokens),\r\n",
        "        \"\\ntrain_tokens length:\", len(train_tokens),\r\n",
        "        \"\\ntest_tokens length:\", len(test_tokens),\r\n",
        "        \"\\ntest_tags:\", len(test_tags),\r\n",
        "        \"\\nval_tokens:\", len(val_tokens),\r\n",
        "        \"\\nval_tags:\", len(val_tags),\r\n",
        "    )\r\n",
        "    return train_tokens, val_tokens, test_tokens, train_tags, val_tags, test_tags\r\n",
        "\r\n",
        "train_tokens, val_tokens, test_tokens, train_tags, val_tags, test_tags = get_pad_train_test_val(data_group, data)"
      ],
      "execution_count": 2,
      "outputs": [
        {
          "output_type": "stream",
          "text": [
            "train_tokens length: 32372 \n",
            "train_tokens length: 32372 \n",
            "test_tokens length: 4796 \n",
            "test_tags: 4796 \n",
            "val_tokens: 10791 \n",
            "val_tags: 10791\n"
          ],
          "name": "stdout"
        }
      ]
    },
    {
      "cell_type": "code",
      "metadata": {
        "id": "IK_GhcLarY62"
      },
      "source": [
        "from numpy.random import seed\r\n",
        "from numpy import array\r\n",
        "from tensorflow.random import set_seed\r\n",
        "from tensorflow.keras import Sequential, Model, Input\r\n",
        "from tensorflow.keras.layers import LSTM, Embedding, Dense, TimeDistributed, Dropout, Bidirectional\r\n",
        "from tensorflow.keras.utils import plot_model\r\n",
        "import matplotlib.pyplot as plt\r\n",
        "\r\n",
        "# It's always best to set seed for reproducibility.\r\n",
        "seed(1)\r\n",
        "set_seed(2)\r\n",
        "\r\n",
        "\r\n",
        "class LSTMModel:\r\n",
        "  def __init__(self, input_dim, output_dim, input_length, n_tags, batch_size=1000, verbose=1, epochs=1, validation_split=0.2):\r\n",
        "    self.input_dim = input_dim\r\n",
        "    self.output_dim = output_dim\r\n",
        "    self.input_length = input_length\r\n",
        "    self.n_tags = n_tags\r\n",
        "    self.batch_size = batch_size\r\n",
        "    self.verbose = verbose\r\n",
        "    self.epochs = epochs\r\n",
        "    self.validation_split = validation_split\r\n",
        "\r\n",
        "  def build_model(self):\r\n",
        "    model = Sequential()\r\n",
        "\r\n",
        "    # Add Embedding layer\r\n",
        "    model.add(Embedding(input_dim=self.input_dim, output_dim=self.output_dim, input_length=self.input_length))\r\n",
        "\r\n",
        "    # Add bidirectional LSTM\r\n",
        "    model.add(Bidirectional(LSTM(units=self.output_dim, return_sequences=True, dropout=0.2, recurrent_dropout=0.2), merge_mode=\"concat\"))\r\n",
        "\r\n",
        "    # Add LSTM\r\n",
        "    model.add(LSTM(units=self.output_dim, return_sequences=True, dropout=0.5, recurrent_dropout=0.5))\r\n",
        "\r\n",
        "    # Add timeDistributed Layer\r\n",
        "    model.add(TimeDistributed(Dense(self.n_tags, activation=\"relu\")))\r\n",
        "\r\n",
        "    #Optimiser \r\n",
        "    # adam = k.optimizers.Adam(lr=0.0005, beta_1=0.9, beta_2=0.999)\r\n",
        "\r\n",
        "    # Compile model\r\n",
        "    model.compile(loss=\"categorical_crossentropy\", optimizer=\"adam\", metrics=[\"accuracy\"])\r\n",
        "    model.summary()\r\n",
        "    \r\n",
        "    return model\r\n",
        "\r\n",
        "  def train(self, X, y, loss_chart=True):\r\n",
        "    loss = []\r\n",
        "    model = self.build_model()\r\n",
        "    for i in range(25):\r\n",
        "        # fit model for one epoch on this sequence\r\n",
        "        hist = model.fit(X, y, batch_size=self.batch_size, verbose=self.verbose, epochs=self.epochs, validation_split=self.validation_split)\r\n",
        "        loss.append(hist.history[\"loss\"][0])\r\n",
        "    if loss_chart:\r\n",
        "      results = pd.DataFrame()\r\n",
        "      results[\"with_add_lstm\"] = loss\r\n",
        "      plt.plot(results['with_add_lstm'])\r\n",
        "      plt.xlabel('Epochs')\r\n",
        "      plt.ylabel('Loss')\r\n",
        "    return loss"
      ],
      "execution_count": 3,
      "outputs": []
    },
    {
      "cell_type": "code",
      "metadata": {
        "colab": {
          "base_uri": "https://localhost:8080/",
          "height": 1000
        },
        "id": "uJQfqZLVGC1R",
        "outputId": "1c902427-e39d-4e8f-d06a-c0d2b9b73652"
      },
      "source": [
        "input_dim = len(list(set(data['Word'].to_list())))+1\r\n",
        "output_dim = 64\r\n",
        "input_length = max([len(s) for s in data_group[\"Word_idx\"].tolist()])\r\n",
        "n_tags = len(tag2idx)\r\n",
        "print(\"input_dim: \", input_dim, \"\\noutput_dim: \", output_dim, \"\\ninput_length: \", input_length, \"\\nn_tags: \", n_tags)\r\n",
        "\r\n",
        "model = LSTMModel(input_dim, output_dim, input_length, n_tags, batch_size=1000, verbose=1, epochs=1, validation_split=0.2)\r\n",
        "loss = model.train(train_tokens, array(train_tags), loss_chart=True)\r\n",
        "# plot_model(model)\r\n"
      ],
      "execution_count": 4,
      "outputs": [
        {
          "output_type": "stream",
          "text": [
            "input_dim:  35179 \n",
            "output_dim:  64 \n",
            "input_length:  104 \n",
            "n_tags:  17\n",
            "WARNING:tensorflow:Layer lstm will not use cuDNN kernel since it doesn't meet the cuDNN kernel criteria. It will use generic GPU kernel as fallback when running on GPU\n",
            "WARNING:tensorflow:Layer lstm will not use cuDNN kernel since it doesn't meet the cuDNN kernel criteria. It will use generic GPU kernel as fallback when running on GPU\n",
            "WARNING:tensorflow:Layer lstm will not use cuDNN kernel since it doesn't meet the cuDNN kernel criteria. It will use generic GPU kernel as fallback when running on GPU\n",
            "WARNING:tensorflow:Layer lstm_1 will not use cuDNN kernel since it doesn't meet the cuDNN kernel criteria. It will use generic GPU kernel as fallback when running on GPU\n",
            "Model: \"sequential\"\n",
            "_________________________________________________________________\n",
            "Layer (type)                 Output Shape              Param #   \n",
            "=================================================================\n",
            "embedding (Embedding)        (None, 104, 64)           2251456   \n",
            "_________________________________________________________________\n",
            "bidirectional (Bidirectional (None, 104, 128)          66048     \n",
            "_________________________________________________________________\n",
            "lstm_1 (LSTM)                (None, 104, 64)           49408     \n",
            "_________________________________________________________________\n",
            "time_distributed (TimeDistri (None, 104, 17)           1105      \n",
            "=================================================================\n",
            "Total params: 2,368,017\n",
            "Trainable params: 2,368,017\n",
            "Non-trainable params: 0\n",
            "_________________________________________________________________\n",
            "26/26 [==============================] - 37s 1s/step - loss: 1.1744 - accuracy: 0.8312 - val_loss: 0.3234 - val_accuracy: 0.9681\n",
            "26/26 [==============================] - 29s 1s/step - loss: 0.3350 - accuracy: 0.9677 - val_loss: 0.3078 - val_accuracy: 0.9681\n",
            "26/26 [==============================] - 28s 1s/step - loss: 0.3139 - accuracy: 0.9677 - val_loss: 0.2943 - val_accuracy: 0.9681\n",
            "26/26 [==============================] - 29s 1s/step - loss: 0.3024 - accuracy: 0.9677 - val_loss: 0.2884 - val_accuracy: 0.9681\n",
            "26/26 [==============================] - 28s 1s/step - loss: 0.2951 - accuracy: 0.9677 - val_loss: 0.2848 - val_accuracy: 0.9681\n",
            "26/26 [==============================] - 27s 1s/step - loss: 0.2868 - accuracy: 0.9678 - val_loss: 0.2821 - val_accuracy: 0.9682\n",
            "26/26 [==============================] - 28s 1s/step - loss: 0.2792 - accuracy: 0.9678 - val_loss: 0.2653 - val_accuracy: 0.9682\n",
            "26/26 [==============================] - 28s 1s/step - loss: 0.2555 - accuracy: 0.9679 - val_loss: 0.2521 - val_accuracy: 0.9683\n",
            "26/26 [==============================] - 28s 1s/step - loss: 0.2458 - accuracy: 0.9680 - val_loss: 0.2383 - val_accuracy: 0.9684\n",
            "26/26 [==============================] - 29s 1s/step - loss: 0.2353 - accuracy: 0.9682 - val_loss: 0.2341 - val_accuracy: 0.9685\n",
            "26/26 [==============================] - 28s 1s/step - loss: 0.1993 - accuracy: 0.9685 - val_loss: 0.1939 - val_accuracy: 0.9689\n",
            "26/26 [==============================] - 30s 1s/step - loss: 0.1621 - accuracy: 0.9690 - val_loss: 0.1481 - val_accuracy: 0.9695\n",
            "26/26 [==============================] - 28s 1s/step - loss: 0.1416 - accuracy: 0.9692 - val_loss: 0.1427 - val_accuracy: 0.9697\n",
            "26/26 [==============================] - 29s 1s/step - loss: 0.1346 - accuracy: 0.9695 - val_loss: 0.1417 - val_accuracy: 0.9698\n",
            "26/26 [==============================] - 29s 1s/step - loss: 0.1305 - accuracy: 0.9697 - val_loss: 0.1379 - val_accuracy: 0.9696\n",
            "26/26 [==============================] - 28s 1s/step - loss: 0.1269 - accuracy: 0.9697 - val_loss: 0.1350 - val_accuracy: 0.9702\n",
            "26/26 [==============================] - 28s 1s/step - loss: 0.1232 - accuracy: 0.9703 - val_loss: 0.1329 - val_accuracy: 0.9708\n",
            "26/26 [==============================] - 28s 1s/step - loss: 0.1205 - accuracy: 0.9711 - val_loss: 0.1342 - val_accuracy: 0.9712\n",
            "26/26 [==============================] - 30s 1s/step - loss: 0.1174 - accuracy: 0.9717 - val_loss: 0.1306 - val_accuracy: 0.9722\n",
            "26/26 [==============================] - 28s 1s/step - loss: 0.1241 - accuracy: 0.9720 - val_loss: 0.1378 - val_accuracy: 0.9715\n",
            "26/26 [==============================] - 29s 1s/step - loss: 0.1211 - accuracy: 0.9716 - val_loss: 0.1307 - val_accuracy: 0.9723\n",
            "26/26 [==============================] - 28s 1s/step - loss: 0.1156 - accuracy: 0.9730 - val_loss: 0.1288 - val_accuracy: 0.9721\n",
            "26/26 [==============================] - 28s 1s/step - loss: 0.1131 - accuracy: 0.9730 - val_loss: 0.1275 - val_accuracy: 0.9733\n",
            "26/26 [==============================] - 28s 1s/step - loss: 0.1104 - accuracy: 0.9740 - val_loss: 0.1304 - val_accuracy: 0.9732\n",
            "26/26 [==============================] - 30s 1s/step - loss: 0.0975 - accuracy: 0.9749 - val_loss: 0.1058 - val_accuracy: 0.9748\n"
          ],
          "name": "stdout"
        },
        {
          "output_type": "display_data",
          "data": {
            "image/png": "[encoded data removed]",
            "text/plain": [
              "<Figure size 432x288 with 1 Axes>"
            ]
          },
          "metadata": {
            "tags": [],
            "needs_background": "light"
          }
        }
      ]
    }
  ]
}