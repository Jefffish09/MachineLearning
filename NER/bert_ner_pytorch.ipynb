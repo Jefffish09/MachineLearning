{
  "nbformat": 4,
  "nbformat_minor": 0,
  "metadata": {
    "accelerator": "GPU",
    "colab": {
      "name": "bert_ner_pytorch.ipynb",
      "provenance": [],
      "collapsed_sections": [],
      "authorship_tag": "ABX9TyP00T75mMtfVL9CeLrr6Ve1",
      "include_colab_link": true
    },
    "kernelspec": {
      "display_name": "Python 3",
      "name": "python3"
    },
    "widgets": {
      "application/vnd.jupyter.widget-state+json": {
        "e84228415c6945b78457e44cfdb9f632": {
          "model_module": "@jupyter-widgets/controls",
          "model_name": "HBoxModel",
          "state": {
            "_view_name": "HBoxView",
            "_dom_classes": [],
            "_model_name": "HBoxModel",
            "_view_module": "@jupyter-widgets/controls",
            "_model_module_version": "1.5.0",
            "_view_count": null,
            "_view_module_version": "1.5.0",
            "box_style": "",
            "layout": "IPY_MODEL_12d7b73a668e4d6c89206b10c92d3855",
            "_model_module": "@jupyter-widgets/controls",
            "children": [
              "IPY_MODEL_d76cfd467d22417dbf51a2f73234968d",
              "IPY_MODEL_74229f1b449a47aa8a1885d3a7f24a9d"
            ]
          }
        },
        "12d7b73a668e4d6c89206b10c92d3855": {
          "model_module": "@jupyter-widgets/base",
          "model_name": "LayoutModel",
          "state": {
            "_view_name": "LayoutView",
            "grid_template_rows": null,
            "right": null,
            "justify_content": null,
            "_view_module": "@jupyter-widgets/base",
            "overflow": null,
            "_model_module_version": "1.2.0",
            "_view_count": null,
            "flex_flow": null,
            "width": null,
            "min_width": null,
            "border": null,
            "align_items": null,
            "bottom": null,
            "_model_module": "@jupyter-widgets/base",
            "top": null,
            "grid_column": null,
            "overflow_y": null,
            "overflow_x": null,
            "grid_auto_flow": null,
            "grid_area": null,
            "grid_template_columns": null,
            "flex": null,
            "_model_name": "LayoutModel",
            "justify_items": null,
            "grid_row": null,
            "max_height": null,
            "align_content": null,
            "visibility": null,
            "align_self": null,
            "height": null,
            "min_height": null,
            "padding": null,
            "grid_auto_rows": null,
            "grid_gap": null,
            "max_width": null,
            "order": null,
            "_view_module_version": "1.2.0",
            "grid_template_areas": null,
            "object_position": null,
            "object_fit": null,
            "grid_auto_columns": null,
            "margin": null,
            "display": null,
            "left": null
          }
        },
        "d76cfd467d22417dbf51a2f73234968d": {
          "model_module": "@jupyter-widgets/controls",
          "model_name": "FloatProgressModel",
          "state": {
            "_view_name": "ProgressView",
            "style": "IPY_MODEL_68017d1758fb4566bb84383a81ca8524",
            "_dom_classes": [],
            "description": "Downloading: 100%",
            "_model_name": "FloatProgressModel",
            "bar_style": "success",
            "max": 213450,
            "_view_module": "@jupyter-widgets/controls",
            "_model_module_version": "1.5.0",
            "value": 213450,
            "_view_count": null,
            "_view_module_version": "1.5.0",
            "orientation": "horizontal",
            "min": 0,
            "description_tooltip": null,
            "_model_module": "@jupyter-widgets/controls",
            "layout": "IPY_MODEL_ef9e598cb3464ed4889b5fdbd879fb6a"
          }
        },
        "74229f1b449a47aa8a1885d3a7f24a9d": {
          "model_module": "@jupyter-widgets/controls",
          "model_name": "HTMLModel",
          "state": {
            "_view_name": "HTMLView",
            "style": "IPY_MODEL_4c838825d2af41d9912645335a02a6d4",
            "_dom_classes": [],
            "description": "",
            "_model_name": "HTMLModel",
            "placeholder": "​",
            "_view_module": "@jupyter-widgets/controls",
            "_model_module_version": "1.5.0",
            "value": " 213k/213k [00:00&lt;00:00, 588kB/s]",
            "_view_count": null,
            "_view_module_version": "1.5.0",
            "description_tooltip": null,
            "_model_module": "@jupyter-widgets/controls",
            "layout": "IPY_MODEL_8898cc327dc1427990ac04f580d2c571"
          }
        },
        "68017d1758fb4566bb84383a81ca8524": {
          "model_module": "@jupyter-widgets/controls",
          "model_name": "ProgressStyleModel",
          "state": {
            "_view_name": "StyleView",
            "_model_name": "ProgressStyleModel",
            "description_width": "initial",
            "_view_module": "@jupyter-widgets/base",
            "_model_module_version": "1.5.0",
            "_view_count": null,
            "_view_module_version": "1.2.0",
            "bar_color": null,
            "_model_module": "@jupyter-widgets/controls"
          }
        },
        "ef9e598cb3464ed4889b5fdbd879fb6a": {
          "model_module": "@jupyter-widgets/base",
          "model_name": "LayoutModel",
          "state": {
            "_view_name": "LayoutView",
            "grid_template_rows": null,
            "right": null,
            "justify_content": null,
            "_view_module": "@jupyter-widgets/base",
            "overflow": null,
            "_model_module_version": "1.2.0",
            "_view_count": null,
            "flex_flow": null,
            "width": null,
            "min_width": null,
            "border": null,
            "align_items": null,
            "bottom": null,
            "_model_module": "@jupyter-widgets/base",
            "top": null,
            "grid_column": null,
            "overflow_y": null,
            "overflow_x": null,
            "grid_auto_flow": null,
            "grid_area": null,
            "grid_template_columns": null,
            "flex": null,
            "_model_name": "LayoutModel",
            "justify_items": null,
            "grid_row": null,
            "max_height": null,
            "align_content": null,
            "visibility": null,
            "align_self": null,
            "height": null,
            "min_height": null,
            "padding": null,
            "grid_auto_rows": null,
            "grid_gap": null,
            "max_width": null,
            "order": null,
            "_view_module_version": "1.2.0",
            "grid_template_areas": null,
            "object_position": null,
            "object_fit": null,
            "grid_auto_columns": null,
            "margin": null,
            "display": null,
            "left": null
          }
        },
        "4c838825d2af41d9912645335a02a6d4": {
          "model_module": "@jupyter-widgets/controls",
          "model_name": "DescriptionStyleModel",
          "state": {
            "_view_name": "StyleView",
            "_model_name": "DescriptionStyleModel",
            "description_width": "",
            "_view_module": "@jupyter-widgets/base",
            "_model_module_version": "1.5.0",
            "_view_count": null,
            "_view_module_version": "1.2.0",
            "_model_module": "@jupyter-widgets/controls"
          }
        },
        "8898cc327dc1427990ac04f580d2c571": {
          "model_module": "@jupyter-widgets/base",
          "model_name": "LayoutModel",
          "state": {
            "_view_name": "LayoutView",
            "grid_template_rows": null,
            "right": null,
            "justify_content": null,
            "_view_module": "@jupyter-widgets/base",
            "overflow": null,
            "_model_module_version": "1.2.0",
            "_view_count": null,
            "flex_flow": null,
            "width": null,
            "min_width": null,
            "border": null,
            "align_items": null,
            "bottom": null,
            "_model_module": "@jupyter-widgets/base",
            "top": null,
            "grid_column": null,
            "overflow_y": null,
            "overflow_x": null,
            "grid_auto_flow": null,
            "grid_area": null,
            "grid_template_columns": null,
            "flex": null,
            "_model_name": "LayoutModel",
            "justify_items": null,
            "grid_row": null,
            "max_height": null,
            "align_content": null,
            "visibility": null,
            "align_self": null,
            "height": null,
            "min_height": null,
            "padding": null,
            "grid_auto_rows": null,
            "grid_gap": null,
            "max_width": null,
            "order": null,
            "_view_module_version": "1.2.0",
            "grid_template_areas": null,
            "object_position": null,
            "object_fit": null,
            "grid_auto_columns": null,
            "margin": null,
            "display": null,
            "left": null
          }
        },
        "aabaeaf8538a4a219f67ec5bb643b987": {
          "model_module": "@jupyter-widgets/controls",
          "model_name": "HBoxModel",
          "state": {
            "_view_name": "HBoxView",
            "_dom_classes": [],
            "_model_name": "HBoxModel",
            "_view_module": "@jupyter-widgets/controls",
            "_model_module_version": "1.5.0",
            "_view_count": null,
            "_view_module_version": "1.5.0",
            "box_style": "",
            "layout": "IPY_MODEL_2f8c3cbf17b64f5e841f364a5f0be2a0",
            "_model_module": "@jupyter-widgets/controls",
            "children": [
              "IPY_MODEL_8bf39ecbe38b4314b5c5a036f2ef5ed4",
              "IPY_MODEL_aa4ac62faa0a4b5daa6e748acb16054c"
            ]
          }
        },
        "2f8c3cbf17b64f5e841f364a5f0be2a0": {
          "model_module": "@jupyter-widgets/base",
          "model_name": "LayoutModel",
          "state": {
            "_view_name": "LayoutView",
            "grid_template_rows": null,
            "right": null,
            "justify_content": null,
            "_view_module": "@jupyter-widgets/base",
            "overflow": null,
            "_model_module_version": "1.2.0",
            "_view_count": null,
            "flex_flow": null,
            "width": null,
            "min_width": null,
            "border": null,
            "align_items": null,
            "bottom": null,
            "_model_module": "@jupyter-widgets/base",
            "top": null,
            "grid_column": null,
            "overflow_y": null,
            "overflow_x": null,
            "grid_auto_flow": null,
            "grid_area": null,
            "grid_template_columns": null,
            "flex": null,
            "_model_name": "LayoutModel",
            "justify_items": null,
            "grid_row": null,
            "max_height": null,
            "align_content": null,
            "visibility": null,
            "align_self": null,
            "height": null,
            "min_height": null,
            "padding": null,
            "grid_auto_rows": null,
            "grid_gap": null,
            "max_width": null,
            "order": null,
            "_view_module_version": "1.2.0",
            "grid_template_areas": null,
            "object_position": null,
            "object_fit": null,
            "grid_auto_columns": null,
            "margin": null,
            "display": null,
            "left": null
          }
        },
        "8bf39ecbe38b4314b5c5a036f2ef5ed4": {
          "model_module": "@jupyter-widgets/controls",
          "model_name": "FloatProgressModel",
          "state": {
            "_view_name": "ProgressView",
            "style": "IPY_MODEL_a9474b4ed9bd4eaa869fb2cd700049b1",
            "_dom_classes": [],
            "description": "Downloading: 100%",
            "_model_name": "FloatProgressModel",
            "bar_style": "success",
            "max": 433,
            "_view_module": "@jupyter-widgets/controls",
            "_model_module_version": "1.5.0",
            "value": 433,
            "_view_count": null,
            "_view_module_version": "1.5.0",
            "orientation": "horizontal",
            "min": 0,
            "description_tooltip": null,
            "_model_module": "@jupyter-widgets/controls",
            "layout": "IPY_MODEL_29a1fbec30984d90895b80a268101dc7"
          }
        },
        "aa4ac62faa0a4b5daa6e748acb16054c": {
          "model_module": "@jupyter-widgets/controls",
          "model_name": "HTMLModel",
          "state": {
            "_view_name": "HTMLView",
            "style": "IPY_MODEL_b0cd03feb4224cd3836076680d3463fe",
            "_dom_classes": [],
            "description": "",
            "_model_name": "HTMLModel",
            "placeholder": "​",
            "_view_module": "@jupyter-widgets/controls",
            "_model_module_version": "1.5.0",
            "value": " 433/433 [00:12&lt;00:00, 35.5B/s]",
            "_view_count": null,
            "_view_module_version": "1.5.0",
            "description_tooltip": null,
            "_model_module": "@jupyter-widgets/controls",
            "layout": "IPY_MODEL_b4c277abe2fc4b3ab5d21790272f7e3f"
          }
        },
        "a9474b4ed9bd4eaa869fb2cd700049b1": {
          "model_module": "@jupyter-widgets/controls",
          "model_name": "ProgressStyleModel",
          "state": {
            "_view_name": "StyleView",
            "_model_name": "ProgressStyleModel",
            "description_width": "initial",
            "_view_module": "@jupyter-widgets/base",
            "_model_module_version": "1.5.0",
            "_view_count": null,
            "_view_module_version": "1.2.0",
            "bar_color": null,
            "_model_module": "@jupyter-widgets/controls"
          }
        },
        "29a1fbec30984d90895b80a268101dc7": {
          "model_module": "@jupyter-widgets/base",
          "model_name": "LayoutModel",
          "state": {
            "_view_name": "LayoutView",
            "grid_template_rows": null,
            "right": null,
            "justify_content": null,
            "_view_module": "@jupyter-widgets/base",
            "overflow": null,
            "_model_module_version": "1.2.0",
            "_view_count": null,
            "flex_flow": null,
            "width": null,
            "min_width": null,
            "border": null,
            "align_items": null,
            "bottom": null,
            "_model_module": "@jupyter-widgets/base",
            "top": null,
            "grid_column": null,
            "overflow_y": null,
            "overflow_x": null,
            "grid_auto_flow": null,
            "grid_area": null,
            "grid_template_columns": null,
            "flex": null,
            "_model_name": "LayoutModel",
            "justify_items": null,
            "grid_row": null,
            "max_height": null,
            "align_content": null,
            "visibility": null,
            "align_self": null,
            "height": null,
            "min_height": null,
            "padding": null,
            "grid_auto_rows": null,
            "grid_gap": null,
            "max_width": null,
            "order": null,
            "_view_module_version": "1.2.0",
            "grid_template_areas": null,
            "object_position": null,
            "object_fit": null,
            "grid_auto_columns": null,
            "margin": null,
            "display": null,
            "left": null
          }
        },
        "b0cd03feb4224cd3836076680d3463fe": {
          "model_module": "@jupyter-widgets/controls",
          "model_name": "DescriptionStyleModel",
          "state": {
            "_view_name": "StyleView",
            "_model_name": "DescriptionStyleModel",
            "description_width": "",
            "_view_module": "@jupyter-widgets/base",
            "_model_module_version": "1.5.0",
            "_view_count": null,
            "_view_module_version": "1.2.0",
            "_model_module": "@jupyter-widgets/controls"
          }
        },
        "b4c277abe2fc4b3ab5d21790272f7e3f": {
          "model_module": "@jupyter-widgets/base",
          "model_name": "LayoutModel",
          "state": {
            "_view_name": "LayoutView",
            "grid_template_rows": null,
            "right": null,
            "justify_content": null,
            "_view_module": "@jupyter-widgets/base",
            "overflow": null,
            "_model_module_version": "1.2.0",
            "_view_count": null,
            "flex_flow": null,
            "width": null,
            "min_width": null,
            "border": null,
            "align_items": null,
            "bottom": null,
            "_model_module": "@jupyter-widgets/base",
            "top": null,
            "grid_column": null,
            "overflow_y": null,
            "overflow_x": null,
            "grid_auto_flow": null,
            "grid_area": null,
            "grid_template_columns": null,
            "flex": null,
            "_model_name": "LayoutModel",
            "justify_items": null,
            "grid_row": null,
            "max_height": null,
            "align_content": null,
            "visibility": null,
            "align_self": null,
            "height": null,
            "min_height": null,
            "padding": null,
            "grid_auto_rows": null,
            "grid_gap": null,
            "max_width": null,
            "order": null,
            "_view_module_version": "1.2.0",
            "grid_template_areas": null,
            "object_position": null,
            "object_fit": null,
            "grid_auto_columns": null,
            "margin": null,
            "display": null,
            "left": null
          }
        },
        "b3da409c851d4b4ebc49496083cc1d81": {
          "model_module": "@jupyter-widgets/controls",
          "model_name": "HBoxModel",
          "state": {
            "_view_name": "HBoxView",
            "_dom_classes": [],
            "_model_name": "HBoxModel",
            "_view_module": "@jupyter-widgets/controls",
            "_model_module_version": "1.5.0",
            "_view_count": null,
            "_view_module_version": "1.5.0",
            "box_style": "",
            "layout": "IPY_MODEL_3c946af4800245e99d38a23ae7f8b977",
            "_model_module": "@jupyter-widgets/controls",
            "children": [
              "IPY_MODEL_852b174a86f544cda810a1bc898c9ae5",
              "IPY_MODEL_beb8eee1d3244d0fa21f8362a964e7d3"
            ]
          }
        },
        "3c946af4800245e99d38a23ae7f8b977": {
          "model_module": "@jupyter-widgets/base",
          "model_name": "LayoutModel",
          "state": {
            "_view_name": "LayoutView",
            "grid_template_rows": null,
            "right": null,
            "justify_content": null,
            "_view_module": "@jupyter-widgets/base",
            "overflow": null,
            "_model_module_version": "1.2.0",
            "_view_count": null,
            "flex_flow": null,
            "width": null,
            "min_width": null,
            "border": null,
            "align_items": null,
            "bottom": null,
            "_model_module": "@jupyter-widgets/base",
            "top": null,
            "grid_column": null,
            "overflow_y": null,
            "overflow_x": null,
            "grid_auto_flow": null,
            "grid_area": null,
            "grid_template_columns": null,
            "flex": null,
            "_model_name": "LayoutModel",
            "justify_items": null,
            "grid_row": null,
            "max_height": null,
            "align_content": null,
            "visibility": null,
            "align_self": null,
            "height": null,
            "min_height": null,
            "padding": null,
            "grid_auto_rows": null,
            "grid_gap": null,
            "max_width": null,
            "order": null,
            "_view_module_version": "1.2.0",
            "grid_template_areas": null,
            "object_position": null,
            "object_fit": null,
            "grid_auto_columns": null,
            "margin": null,
            "display": null,
            "left": null
          }
        },
        "852b174a86f544cda810a1bc898c9ae5": {
          "model_module": "@jupyter-widgets/controls",
          "model_name": "FloatProgressModel",
          "state": {
            "_view_name": "ProgressView",
            "style": "IPY_MODEL_bdbf0f21bf124564ae37758ade520224",
            "_dom_classes": [],
            "description": "Downloading: 100%",
            "_model_name": "FloatProgressModel",
            "bar_style": "success",
            "max": 435779157,
            "_view_module": "@jupyter-widgets/controls",
            "_model_module_version": "1.5.0",
            "value": 435779157,
            "_view_count": null,
            "_view_module_version": "1.5.0",
            "orientation": "horizontal",
            "min": 0,
            "description_tooltip": null,
            "_model_module": "@jupyter-widgets/controls",
            "layout": "IPY_MODEL_71a0470bb94941d78d7406bd2bd774f9"
          }
        },
        "beb8eee1d3244d0fa21f8362a964e7d3": {
          "model_module": "@jupyter-widgets/controls",
          "model_name": "HTMLModel",
          "state": {
            "_view_name": "HTMLView",
            "style": "IPY_MODEL_6065523b088a4341b0ddfc77bf5ad8ec",
            "_dom_classes": [],
            "description": "",
            "_model_name": "HTMLModel",
            "placeholder": "​",
            "_view_module": "@jupyter-widgets/controls",
            "_model_module_version": "1.5.0",
            "value": " 436M/436M [00:11&lt;00:00, 37.7MB/s]",
            "_view_count": null,
            "_view_module_version": "1.5.0",
            "description_tooltip": null,
            "_model_module": "@jupyter-widgets/controls",
            "layout": "IPY_MODEL_9d405b0be8b645ff949ad441d7a7277b"
          }
        },
        "bdbf0f21bf124564ae37758ade520224": {
          "model_module": "@jupyter-widgets/controls",
          "model_name": "ProgressStyleModel",
          "state": {
            "_view_name": "StyleView",
            "_model_name": "ProgressStyleModel",
            "description_width": "initial",
            "_view_module": "@jupyter-widgets/base",
            "_model_module_version": "1.5.0",
            "_view_count": null,
            "_view_module_version": "1.2.0",
            "bar_color": null,
            "_model_module": "@jupyter-widgets/controls"
          }
        },
        "71a0470bb94941d78d7406bd2bd774f9": {
          "model_module": "@jupyter-widgets/base",
          "model_name": "LayoutModel",
          "state": {
            "_view_name": "LayoutView",
            "grid_template_rows": null,
            "right": null,
            "justify_content": null,
            "_view_module": "@jupyter-widgets/base",
            "overflow": null,
            "_model_module_version": "1.2.0",
            "_view_count": null,
            "flex_flow": null,
            "width": null,
            "min_width": null,
            "border": null,
            "align_items": null,
            "bottom": null,
            "_model_module": "@jupyter-widgets/base",
            "top": null,
            "grid_column": null,
            "overflow_y": null,
            "overflow_x": null,
            "grid_auto_flow": null,
            "grid_area": null,
            "grid_template_columns": null,
            "flex": null,
            "_model_name": "LayoutModel",
            "justify_items": null,
            "grid_row": null,
            "max_height": null,
            "align_content": null,
            "visibility": null,
            "align_self": null,
            "height": null,
            "min_height": null,
            "padding": null,
            "grid_auto_rows": null,
            "grid_gap": null,
            "max_width": null,
            "order": null,
            "_view_module_version": "1.2.0",
            "grid_template_areas": null,
            "object_position": null,
            "object_fit": null,
            "grid_auto_columns": null,
            "margin": null,
            "display": null,
            "left": null
          }
        },
        "6065523b088a4341b0ddfc77bf5ad8ec": {
          "model_module": "@jupyter-widgets/controls",
          "model_name": "DescriptionStyleModel",
          "state": {
            "_view_name": "StyleView",
            "_model_name": "DescriptionStyleModel",
            "description_width": "",
            "_view_module": "@jupyter-widgets/base",
            "_model_module_version": "1.5.0",
            "_view_count": null,
            "_view_module_version": "1.2.0",
            "_model_module": "@jupyter-widgets/controls"
          }
        },
        "9d405b0be8b645ff949ad441d7a7277b": {
          "model_module": "@jupyter-widgets/base",
          "model_name": "LayoutModel",
          "state": {
            "_view_name": "LayoutView",
            "grid_template_rows": null,
            "right": null,
            "justify_content": null,
            "_view_module": "@jupyter-widgets/base",
            "overflow": null,
            "_model_module_version": "1.2.0",
            "_view_count": null,
            "flex_flow": null,
            "width": null,
            "min_width": null,
            "border": null,
            "align_items": null,
            "bottom": null,
            "_model_module": "@jupyter-widgets/base",
            "top": null,
            "grid_column": null,
            "overflow_y": null,
            "overflow_x": null,
            "grid_auto_flow": null,
            "grid_area": null,
            "grid_template_columns": null,
            "flex": null,
            "_model_name": "LayoutModel",
            "justify_items": null,
            "grid_row": null,
            "max_height": null,
            "align_content": null,
            "visibility": null,
            "align_self": null,
            "height": null,
            "min_height": null,
            "padding": null,
            "grid_auto_rows": null,
            "grid_gap": null,
            "max_width": null,
            "order": null,
            "_view_module_version": "1.2.0",
            "grid_template_areas": null,
            "object_position": null,
            "object_fit": null,
            "grid_auto_columns": null,
            "margin": null,
            "display": null,
            "left": null
          }
        }
      }
    }
  },
  "cells": [
    {
      "cell_type": "markdown",
      "metadata": {
        "id": "view-in-github",
        "colab_type": "text"
      },
      "source": [
        "<a href=\"https://colab.research.google.com/github/Jefffish09/MachineLearning/blob/dev/NER/bert_ner_pytorch.ipynb\" target=\"_parent\"><img src=\"https://colab.research.google.com/assets/colab-badge.svg\" alt=\"Open In Colab\"/></a>"
      ]
    },
    {
      "cell_type": "markdown",
      "metadata": {
        "id": "4XCBW1pqTTXr"
      },
      "source": [
        "References:\r\n",
        "\r\n",
        "* https://www.depends-on-the-definition.com/named-entity-recognition-with-bert/\r\n",
        "* https://www.kaggle.com/vishakha10/ner-using-bert-model\r\n",
        "\r\n",
        "Data Source:\r\n",
        "\r\n",
        "* https://www.kaggle.com/abhinavwalia95/entity-annotated-corpus\r\n"
      ]
    },
    {
      "cell_type": "code",
      "metadata": {
        "colab": {
          "base_uri": "https://localhost:8080/"
        },
        "id": "UJAK5-gMbXPd",
        "outputId": "a8b96ce9-0172-499a-efaa-674e16de9f85"
      },
      "source": [
        "!pip install -U -q transformers\r\n",
        "!pip install -U -q seqeval"
      ],
      "execution_count": 1,
      "outputs": [
        {
          "output_type": "stream",
          "text": [
            "\u001b[K     |████████████████████████████████| 1.9MB 11.4MB/s \n",
            "\u001b[K     |████████████████████████████████| 890kB 41.6MB/s \n",
            "\u001b[K     |████████████████████████████████| 3.2MB 39.9MB/s \n",
            "\u001b[?25h  Building wheel for sacremoses (setup.py) ... \u001b[?25l\u001b[?25hdone\n",
            "\u001b[K     |████████████████████████████████| 51kB 4.6MB/s \n",
            "\u001b[?25h  Building wheel for seqeval (setup.py) ... \u001b[?25l\u001b[?25hdone\n"
          ],
          "name": "stdout"
        }
      ]
    },
    {
      "cell_type": "code",
      "metadata": {
        "id": "5JaI2qHHUcMI"
      },
      "source": [
        "import pandas as pd\r\n",
        "import numpy as np\r\n",
        "from tqdm import trange\r\n",
        "import matplotlib.pyplot as plt\r\n",
        "import seaborn as sns\r\n",
        "from tensorflow.keras.preprocessing.sequence import pad_sequences\r\n",
        "from sklearn.model_selection import train_test_split\r\n",
        "import torch\r\n",
        "from torch.utils.data import TensorDataset, DataLoader, RandomSampler, SequentialSampler\r\n",
        "import transformers\r\n",
        "from transformers import BertTokenizer, BertConfig, BertForTokenClassification, AdamW, get_linear_schedule_with_warmup\r\n",
        "from seqeval.metrics import f1_score, accuracy_score, classification_report"
      ],
      "execution_count": 2,
      "outputs": []
    },
    {
      "cell_type": "code",
      "metadata": {
        "id": "XPHihOZPaHWj"
      },
      "source": [
        "seed = 2021\r\n",
        "max_len = 75\r\n",
        "batch_size = 32\r\n",
        "learning_rate = 3e-5\r\n",
        "epochs = 100\r\n",
        "max_grad_norm = 1.0\r\n",
        "test_size = 0.1\r\n",
        "earlystopping_patience = 3\r\n",
        "model_name = \"bert-base-cased\"\r\n",
        "checkpoint_path = \"checkpoint.cpt\"\r\n",
        "device = torch.device(\"cuda\" if torch.cuda.is_available() else \"cpu\")"
      ],
      "execution_count": 3,
      "outputs": []
    },
    {
      "cell_type": "code",
      "metadata": {
        "colab": {
          "base_uri": "https://localhost:8080/",
          "height": 231
        },
        "id": "Qb7jKpqdTLDd",
        "outputId": "caf2119b-267b-4ef6-d321-b29876bcaadf"
      },
      "source": [
        "# Get the raw dataset\r\n",
        "\r\n",
        "!curl -s -LO https://github.com/MahmooudTaha/NLP-2019/raw/master/ner_dataset.csv.zip\r\n",
        "!unzip -o ner_dataset.csv.zip\r\n",
        "!rm -f ner_dataset.csv.zip\r\n",
        "\r\n",
        "df = pd.read_csv(\"ner_dataset.csv\", encoding=\"Windows-1252\").fillna(method=\"ffill\")\r\n",
        "df.head()"
      ],
      "execution_count": 4,
      "outputs": [
        {
          "output_type": "stream",
          "text": [
            "Archive:  ner_dataset.csv.zip\n",
            "  inflating: ner_dataset.csv         \n"
          ],
          "name": "stdout"
        },
        {
          "output_type": "execute_result",
          "data": {
            "text/html": [
              "<div>\n",
              "<style scoped>\n",
              "    .dataframe tbody tr th:only-of-type {\n",
              "        vertical-align: middle;\n",
              "    }\n",
              "\n",
              "    .dataframe tbody tr th {\n",
              "        vertical-align: top;\n",
              "    }\n",
              "\n",
              "    .dataframe thead th {\n",
              "        text-align: right;\n",
              "    }\n",
              "</style>\n",
              "<table border=\"1\" class=\"dataframe\">\n",
              "  <thead>\n",
              "    <tr style=\"text-align: right;\">\n",
              "      <th></th>\n",
              "      <th>Sentence #</th>\n",
              "      <th>Word</th>\n",
              "      <th>POS</th>\n",
              "      <th>Tag</th>\n",
              "    </tr>\n",
              "  </thead>\n",
              "  <tbody>\n",
              "    <tr>\n",
              "      <th>0</th>\n",
              "      <td>Sentence: 1</td>\n",
              "      <td>Thousands</td>\n",
              "      <td>NNS</td>\n",
              "      <td>O</td>\n",
              "    </tr>\n",
              "    <tr>\n",
              "      <th>1</th>\n",
              "      <td>Sentence: 1</td>\n",
              "      <td>of</td>\n",
              "      <td>IN</td>\n",
              "      <td>O</td>\n",
              "    </tr>\n",
              "    <tr>\n",
              "      <th>2</th>\n",
              "      <td>Sentence: 1</td>\n",
              "      <td>demonstrators</td>\n",
              "      <td>NNS</td>\n",
              "      <td>O</td>\n",
              "    </tr>\n",
              "    <tr>\n",
              "      <th>3</th>\n",
              "      <td>Sentence: 1</td>\n",
              "      <td>have</td>\n",
              "      <td>VBP</td>\n",
              "      <td>O</td>\n",
              "    </tr>\n",
              "    <tr>\n",
              "      <th>4</th>\n",
              "      <td>Sentence: 1</td>\n",
              "      <td>marched</td>\n",
              "      <td>VBN</td>\n",
              "      <td>O</td>\n",
              "    </tr>\n",
              "  </tbody>\n",
              "</table>\n",
              "</div>"
            ],
            "text/plain": [
              "    Sentence #           Word  POS Tag\n",
              "0  Sentence: 1      Thousands  NNS   O\n",
              "1  Sentence: 1             of   IN   O\n",
              "2  Sentence: 1  demonstrators  NNS   O\n",
              "3  Sentence: 1           have  VBP   O\n",
              "4  Sentence: 1        marched  VBN   O"
            ]
          },
          "metadata": {
            "tags": []
          },
          "execution_count": 4
        }
      ]
    },
    {
      "cell_type": "code",
      "metadata": {
        "id": "JfP2-cNbUvaP"
      },
      "source": [
        "class SentenceGetter(object):\r\n",
        "\r\n",
        "  def __init__(self, data):\r\n",
        "    self.n_sent = 1\r\n",
        "    self.data = data\r\n",
        "    self.empty = False\r\n",
        "    agg_func = lambda s: [(w, p, t) for w, p, t in zip(s[\"Word\"].values.tolist(),\r\n",
        "                                                        s[\"POS\"].values.tolist(),\r\n",
        "                                                        s[\"Tag\"].values.tolist())]\r\n",
        "    self.grouped = self.data.groupby(\"Sentence #\").apply(agg_func)\r\n",
        "    self.sentences = [s for s in self.grouped]\r\n",
        "\r\n",
        "  def get_next(self):\r\n",
        "    try:\r\n",
        "      s = self.grouped[\"Sentence: {}\".format(self.n_sent)]\r\n",
        "      self.n_sent += 1\r\n",
        "      return s\r\n",
        "    except:\r\n",
        "      return None\r\n",
        "\r\n",
        "\r\n",
        "getter = SentenceGetter(df)\r\n",
        "sentences = [[word[0] for word in sentence] for sentence in getter.sentences]\r\n",
        "labels = [[s[2] for s in sentence] for sentence in getter.sentences]"
      ],
      "execution_count": 5,
      "outputs": []
    },
    {
      "cell_type": "code",
      "metadata": {
        "colab": {
          "base_uri": "https://localhost:8080/"
        },
        "id": "1CxZdtNgdU4Y",
        "outputId": "ba17059d-fc7a-44f9-eaf0-53779e5eb86b"
      },
      "source": [
        "tag_values = list(set(df[\"Tag\"].values))\r\n",
        "tag_values.append(\"PAD\")\r\n",
        "tag2idx = {t: i for i, t in enumerate(tag_values)}\r\n",
        "print(tag_values)\r\n",
        "print(tag2idx)"
      ],
      "execution_count": 6,
      "outputs": [
        {
          "output_type": "stream",
          "text": [
            "['B-eve', 'B-art', 'I-gpe', 'I-nat', 'B-nat', 'I-org', 'B-tim', 'B-org', 'I-eve', 'I-geo', 'O', 'B-per', 'I-per', 'B-gpe', 'I-art', 'I-tim', 'B-geo', 'PAD']\n",
            "{'B-eve': 0, 'B-art': 1, 'I-gpe': 2, 'I-nat': 3, 'B-nat': 4, 'I-org': 5, 'B-tim': 6, 'B-org': 7, 'I-eve': 8, 'I-geo': 9, 'O': 10, 'B-per': 11, 'I-per': 12, 'B-gpe': 13, 'I-art': 14, 'I-tim': 15, 'B-geo': 16, 'PAD': 17}\n"
          ],
          "name": "stdout"
        }
      ]
    },
    {
      "cell_type": "code",
      "metadata": {
        "colab": {
          "base_uri": "https://localhost:8080/",
          "height": 66,
          "referenced_widgets": [
            "e84228415c6945b78457e44cfdb9f632",
            "12d7b73a668e4d6c89206b10c92d3855",
            "d76cfd467d22417dbf51a2f73234968d",
            "74229f1b449a47aa8a1885d3a7f24a9d",
            "68017d1758fb4566bb84383a81ca8524",
            "ef9e598cb3464ed4889b5fdbd879fb6a",
            "4c838825d2af41d9912645335a02a6d4",
            "8898cc327dc1427990ac04f580d2c571"
          ]
        },
        "id": "hdehSrAXeXf1",
        "outputId": "12d2a546-7c38-4537-d032-33162a4bc690"
      },
      "source": [
        "\r\n",
        "tokenizer = BertTokenizer.from_pretrained(model_name, do_lower_case=False)\r\n",
        "\r\n",
        "\r\n",
        "def tokenize_and_preserve_labels(sentence, text_labels):\r\n",
        "  tokenized_sentence = []\r\n",
        "  labels = []\r\n",
        "  for word, label in zip(sentence, text_labels):\r\n",
        "    # Tokenize the word and count # of subwords the word is broken into\r\n",
        "    tokenized_word = tokenizer.tokenize(word)\r\n",
        "    n_subwords = len(tokenized_word)\r\n",
        "    # Add the tokenized word to the final tokenized word list\r\n",
        "    tokenized_sentence.extend(tokenized_word)\r\n",
        "    # Add the same label to the new list of labels `n_subwords` times\r\n",
        "    labels.extend([label] * n_subwords)\r\n",
        "  return tokenized_sentence, labels\r\n",
        "\r\n",
        "\r\n",
        "tokenized_texts_and_labels = [\r\n",
        "    tokenize_and_preserve_labels(sent, labs)\r\n",
        "    for sent, labs in zip(sentences, labels)\r\n",
        "]\r\n",
        "\r\n",
        "tokenized_texts = [token_label_pair[0] for token_label_pair in tokenized_texts_and_labels]\r\n",
        "labels = [token_label_pair[1] for token_label_pair in tokenized_texts_and_labels]"
      ],
      "execution_count": 7,
      "outputs": [
        {
          "output_type": "display_data",
          "data": {
            "application/vnd.jupyter.widget-view+json": {
              "model_id": "e84228415c6945b78457e44cfdb9f632",
              "version_minor": 0,
              "version_major": 2
            },
            "text/plain": [
              "HBox(children=(FloatProgress(value=0.0, description='Downloading', max=213450.0, style=ProgressStyle(descripti…"
            ]
          },
          "metadata": {
            "tags": []
          }
        },
        {
          "output_type": "stream",
          "text": [
            "\n"
          ],
          "name": "stdout"
        }
      ]
    },
    {
      "cell_type": "code",
      "metadata": {
        "id": "xnfwx3_2dWqd"
      },
      "source": [
        "input_ids = pad_sequences(sequences=[tokenizer.convert_tokens_to_ids(txt) for txt in tokenized_texts],\r\n",
        "                          maxlen=max_len, dtype=\"long\", value=0.0,\r\n",
        "                          truncating=\"post\", padding=\"post\")\r\n",
        "\r\n",
        "tags = pad_sequences(sequences=[[tag2idx.get(l) for l in lab] for lab in labels],\r\n",
        "                     maxlen=max_len, value=tag2idx[\"PAD\"], padding=\"post\",\r\n",
        "                     dtype=\"long\", truncating=\"post\")\r\n",
        "\r\n",
        "attention_masks = [[float(i != 0.0) for i in ii] for ii in input_ids]"
      ],
      "execution_count": 8,
      "outputs": []
    },
    {
      "cell_type": "code",
      "metadata": {
        "id": "H-IeLwTXjEt6"
      },
      "source": [
        "tr_inputs, val_inputs, tr_tags, val_tags = train_test_split(input_ids, tags, random_state=seed, test_size=test_size)\r\n",
        "tr_masks, val_masks, _, _ = train_test_split(attention_masks, input_ids, random_state=seed, test_size=test_size)\r\n",
        "\r\n",
        "tr_inputs = torch.tensor(tr_inputs)\r\n",
        "val_inputs = torch.tensor(val_inputs)\r\n",
        "tr_tags = torch.tensor(tr_tags)\r\n",
        "val_tags = torch.tensor(val_tags)\r\n",
        "tr_masks = torch.tensor(tr_masks)\r\n",
        "val_masks = torch.tensor(val_masks)\r\n",
        "\r\n",
        "train_data = TensorDataset(tr_inputs, tr_masks, tr_tags)\r\n",
        "valid_data = TensorDataset(val_inputs, val_masks, val_tags)\r\n",
        "train_sampler = RandomSampler(train_data)\r\n",
        "valid_sampler = SequentialSampler(valid_data)\r\n",
        "train_dataloader = DataLoader(train_data, sampler=train_sampler, batch_size=batch_size)\r\n",
        "valid_dataloader = DataLoader(valid_data, sampler=valid_sampler, batch_size=batch_size)"
      ],
      "execution_count": 9,
      "outputs": []
    },
    {
      "cell_type": "code",
      "metadata": {
        "colab": {
          "base_uri": "https://localhost:8080/",
          "height": 219,
          "referenced_widgets": [
            "aabaeaf8538a4a219f67ec5bb643b987",
            "2f8c3cbf17b64f5e841f364a5f0be2a0",
            "8bf39ecbe38b4314b5c5a036f2ef5ed4",
            "aa4ac62faa0a4b5daa6e748acb16054c",
            "a9474b4ed9bd4eaa869fb2cd700049b1",
            "29a1fbec30984d90895b80a268101dc7",
            "b0cd03feb4224cd3836076680d3463fe",
            "b4c277abe2fc4b3ab5d21790272f7e3f",
            "b3da409c851d4b4ebc49496083cc1d81",
            "3c946af4800245e99d38a23ae7f8b977",
            "852b174a86f544cda810a1bc898c9ae5",
            "beb8eee1d3244d0fa21f8362a964e7d3",
            "bdbf0f21bf124564ae37758ade520224",
            "71a0470bb94941d78d7406bd2bd774f9",
            "6065523b088a4341b0ddfc77bf5ad8ec",
            "9d405b0be8b645ff949ad441d7a7277b"
          ]
        },
        "id": "kAWulFbekfWX",
        "outputId": "72769d43-5d94-45ff-d359-cf0e8061ef39"
      },
      "source": [
        "model = BertForTokenClassification.from_pretrained(\r\n",
        "    model_name,\r\n",
        "    num_labels=len(tag2idx),\r\n",
        "    output_attentions=False,\r\n",
        "    output_hidden_states=False\r\n",
        ")\r\n",
        "\r\n",
        "model.cuda()\r\n",
        "\r\n",
        "FULL_FINETUNING = True\r\n",
        "if FULL_FINETUNING:\r\n",
        "  param_optimizer = list(model.named_parameters())\r\n",
        "  no_decay = [\"bias\", \"gamma\", \"beta\"]\r\n",
        "  optimizer_grouped_parameters = [\r\n",
        "    {\"params\": [p for n, p in param_optimizer if not any(nd in n for nd in no_decay)],\r\n",
        "     \"weight_decay_rate\": 0.01},\r\n",
        "    {\"params\": [p for n, p in param_optimizer if any(nd in n for nd in no_decay)],\r\n",
        "     \"weight_decay_rate\": 0.0}\r\n",
        "  ]\r\n",
        "else:\r\n",
        "  param_optimizer = list(model.classifier.named_parameters())\r\n",
        "  optimizer_grouped_parameters = [{\"params\": [p for n, p in param_optimizer]}]\r\n",
        "\r\n",
        "optimizer = AdamW(\r\n",
        "    optimizer_grouped_parameters,\r\n",
        "    lr=learning_rate,\r\n",
        "    eps=1e-8\r\n",
        ")\r\n",
        "\r\n",
        "# Total number of training steps is number of batches * number of epochs.\r\n",
        "total_steps = len(train_dataloader) * epochs\r\n",
        "\r\n",
        "# Create the learning rate scheduler.\r\n",
        "scheduler = get_linear_schedule_with_warmup(\r\n",
        "    optimizer,\r\n",
        "    num_warmup_steps=0,\r\n",
        "    num_training_steps=total_steps\r\n",
        ")"
      ],
      "execution_count": 10,
      "outputs": [
        {
          "output_type": "display_data",
          "data": {
            "application/vnd.jupyter.widget-view+json": {
              "model_id": "aabaeaf8538a4a219f67ec5bb643b987",
              "version_minor": 0,
              "version_major": 2
            },
            "text/plain": [
              "HBox(children=(FloatProgress(value=0.0, description='Downloading', max=433.0, style=ProgressStyle(description_…"
            ]
          },
          "metadata": {
            "tags": []
          }
        },
        {
          "output_type": "stream",
          "text": [
            "\n"
          ],
          "name": "stdout"
        },
        {
          "output_type": "display_data",
          "data": {
            "application/vnd.jupyter.widget-view+json": {
              "model_id": "b3da409c851d4b4ebc49496083cc1d81",
              "version_minor": 0,
              "version_major": 2
            },
            "text/plain": [
              "HBox(children=(FloatProgress(value=0.0, description='Downloading', max=435779157.0, style=ProgressStyle(descri…"
            ]
          },
          "metadata": {
            "tags": []
          }
        },
        {
          "output_type": "stream",
          "text": [
            "\n"
          ],
          "name": "stdout"
        },
        {
          "output_type": "stream",
          "text": [
            "Some weights of the model checkpoint at bert-base-cased were not used when initializing BertForTokenClassification: ['cls.predictions.bias', 'cls.predictions.transform.dense.weight', 'cls.predictions.transform.dense.bias', 'cls.predictions.decoder.weight', 'cls.seq_relationship.weight', 'cls.seq_relationship.bias', 'cls.predictions.transform.LayerNorm.weight', 'cls.predictions.transform.LayerNorm.bias']\n",
            "- This IS expected if you are initializing BertForTokenClassification from the checkpoint of a model trained on another task or with another architecture (e.g. initializing a BertForSequenceClassification model from a BertForPreTraining model).\n",
            "- This IS NOT expected if you are initializing BertForTokenClassification from the checkpoint of a model that you expect to be exactly identical (initializing a BertForSequenceClassification model from a BertForSequenceClassification model).\n",
            "Some weights of BertForTokenClassification were not initialized from the model checkpoint at bert-base-cased and are newly initialized: ['classifier.weight', 'classifier.bias']\n",
            "You should probably TRAIN this model on a down-stream task to be able to use it for predictions and inference.\n"
          ],
          "name": "stderr"
        }
      ]
    },
    {
      "cell_type": "code",
      "metadata": {
        "id": "iioOL8HIrp-a"
      },
      "source": [
        "def plot_perf(training_loss_values, validation_loss_values):\r\n",
        "  # Use plot styling from seaborn.\r\n",
        "  sns.set(style=\"darkgrid\")\r\n",
        "  # Increase the plot size and font size.\r\n",
        "  sns.set(font_scale=1.5)\r\n",
        "  plt.rcParams[\"figure.figsize\"] = (12, 6)\r\n",
        "\r\n",
        "  # Create a plot of loss over time\r\n",
        "  loss = training_loss_values\r\n",
        "  val_loss = validation_loss_values\r\n",
        "\r\n",
        "  epochs = range(1, len(loss) + 1)\r\n",
        "\r\n",
        "  # Training and validation loss\r\n",
        "  plt.plot(epochs, loss, \"r\", label=\"Training loss\")\r\n",
        "  # b is for \"solid blue line\"\r\n",
        "  plt.plot(epochs, val_loss, \"b\", label=\"Validation loss\")\r\n",
        "  plt.title(\"Training and validation loss\")\r\n",
        "  plt.xlabel(\"Epochs\")\r\n",
        "  plt.ylabel(\"Loss\")\r\n",
        "  plt.legend()\r\n",
        "  plt.show()\r\n"
      ],
      "execution_count": 11,
      "outputs": []
    },
    {
      "cell_type": "code",
      "metadata": {
        "id": "0A4tS6sjxSyR"
      },
      "source": [
        "class EarlyStopping:\r\n",
        "  \"\"\"Early stops the training if validation loss doesn't improve after a given patience.\"\"\"\r\n",
        "  def __init__(self, patience=7, verbose=False, delta=0, path='/content/drive/MyDrive/NER/Model/checkpoint.pt', trace_func=print):\r\n",
        "    \"\"\"\r\n",
        "    Args:\r\n",
        "        patience (int): How long to wait after last time validation loss improved.\r\n",
        "                        Default: 7\r\n",
        "        verbose (bool): If True, prints a message for each validation loss improvement. \r\n",
        "                        Default: False\r\n",
        "        delta (float): Minimum change in the monitored quantity to qualify as an improvement.\r\n",
        "                        Default: 0\r\n",
        "        path (str): Path for the checkpoint to be saved to.\r\n",
        "                        Default: 'checkpoint.pt'\r\n",
        "        trace_func (function): trace print function.\r\n",
        "                        Default: print            \r\n",
        "    \"\"\"\r\n",
        "    self.patience = patience\r\n",
        "    self.verbose = verbose\r\n",
        "    self.counter = 0\r\n",
        "    self.best_score = None\r\n",
        "    self.early_stop = False\r\n",
        "    self.val_loss_min = np.Inf\r\n",
        "    self.delta = delta\r\n",
        "    self.path = path\r\n",
        "    self.trace_func = trace_func\r\n",
        "\r\n",
        "  def __call__(self, val_loss, model):\r\n",
        "    score = -val_loss\r\n",
        "\r\n",
        "    if self.best_score is None:\r\n",
        "      self.best_score = score\r\n",
        "      self.save_checkpoint(val_loss, model)\r\n",
        "    elif score < self.best_score + self.delta:\r\n",
        "      self.counter += 1\r\n",
        "      self.trace_func(f'EarlyStopping counter: {self.counter} out of {self.patience}')\r\n",
        "      if self.counter >= self.patience:\r\n",
        "        self.early_stop = True\r\n",
        "    else:\r\n",
        "      self.best_score = score\r\n",
        "      self.save_checkpoint(val_loss, model)\r\n",
        "      self.counter = 0\r\n",
        "\r\n",
        "  def save_checkpoint(self, val_loss, model):\r\n",
        "    '''Saves model when validation loss decrease.'''\r\n",
        "    if self.verbose:\r\n",
        "      self.trace_func(f'Validation loss decreased ({self.val_loss_min:.6f} --> {val_loss:.6f}).  Saving model ...')\r\n",
        "    torch.save(model.state_dict(), self.path)\r\n",
        "    self.val_loss_min = val_loss\r\n"
      ],
      "execution_count": 12,
      "outputs": []
    },
    {
      "cell_type": "code",
      "metadata": {
        "id": "BZhB8RQZoq_T"
      },
      "source": [
        "\r\n",
        "def train_model(model, train_dataloader):\r\n",
        "  # ========================================\r\n",
        "  #               Training\r\n",
        "  # ========================================\r\n",
        "  # Perform one full pass over the training set.\r\n",
        "\r\n",
        "  # Put the model into training mode.\r\n",
        "  model.train()\r\n",
        "  # Reset the total loss for this epoch.\r\n",
        "  total_loss = 0\r\n",
        "\r\n",
        "  # Training loop\r\n",
        "  for step, batch in enumerate(train_dataloader):\r\n",
        "    # add batch to gpu\r\n",
        "    batch = tuple(t.to(device) for t in batch)\r\n",
        "    b_input_ids, b_input_mask, b_labels = batch\r\n",
        "    # Always clear any previously calculated gradients before performing a backward pass.\r\n",
        "    model.zero_grad()\r\n",
        "    # forward pass\r\n",
        "    # This will return the loss (rather than the model output)\r\n",
        "    # because we have provided the `labels`.\r\n",
        "    outputs = model(b_input_ids, token_type_ids=None,\r\n",
        "                    attention_mask=b_input_mask, labels=b_labels)\r\n",
        "    # get the loss\r\n",
        "    loss = outputs[0]\r\n",
        "    # Perform a backward pass to calculate the gradients.\r\n",
        "    loss.backward()\r\n",
        "    # track train loss\r\n",
        "    total_loss += loss.item()\r\n",
        "    # Clip the norm of the gradient\r\n",
        "    # This is to help prevent the \"exploding gradients\" problem.\r\n",
        "    torch.nn.utils.clip_grad_norm_(parameters=model.parameters(), max_norm=max_grad_norm)\r\n",
        "    # update parameters\r\n",
        "    optimizer.step()\r\n",
        "    # Update the learning rate.\r\n",
        "    scheduler.step()\r\n",
        "\r\n",
        "  # Calculate the average loss over the training data.\r\n",
        "  avg_train_loss = total_loss / len(train_dataloader)\r\n",
        "  print(\"\\nAverage train loss: {}\".format(avg_train_loss))\r\n",
        "  return model, avg_train_loss\r\n",
        "\r\n",
        "\r\n",
        "def validate_model(model, valid_dataloader):\r\n",
        "  # ========================================\r\n",
        "  #               Validation\r\n",
        "  # ========================================\r\n",
        "  # After the completion of each training epoch, measure our performance on\r\n",
        "  # our validation set.\r\n",
        "\r\n",
        "  # Put the model into evaluation mode\r\n",
        "  model.eval()\r\n",
        "  # Reset the validation loss for this epoch.\r\n",
        "  eval_loss, eval_accuracy = 0, 0\r\n",
        "  nb_eval_steps, nb_eval_examples = 0, 0\r\n",
        "  predictions , true_labels = [], []\r\n",
        "  for batch in valid_dataloader:\r\n",
        "    batch = tuple(t.to(device) for t in batch)\r\n",
        "    b_input_ids, b_input_mask, b_labels = batch\r\n",
        "\r\n",
        "    # Telling the model not to compute or store gradients,\r\n",
        "    # saving memory and speeding up validation\r\n",
        "    with torch.no_grad():\r\n",
        "        # Forward pass, calculate logit predictions.\r\n",
        "        # This will return the logits rather than the loss because we have not provided labels.\r\n",
        "        outputs = model(b_input_ids, token_type_ids=None,\r\n",
        "                        attention_mask=b_input_mask, labels=b_labels)\r\n",
        "    # Move logits and labels to CPU\r\n",
        "    logits = outputs[1].detach().cpu().numpy()\r\n",
        "    label_ids = b_labels.to('cpu').numpy()\r\n",
        "\r\n",
        "    # Calculate the accuracy for this batch of test sentences.\r\n",
        "    eval_loss += outputs[0].mean().item()\r\n",
        "    predictions.extend([list(p) for p in np.argmax(logits, axis=2)])\r\n",
        "    true_labels.extend(label_ids)\r\n",
        "\r\n",
        "  eval_loss = eval_loss / len(valid_dataloader)\r\n",
        "  print(\"Validation loss: {}\".format(eval_loss))\r\n",
        "  \r\n",
        "  pred_tags = []\r\n",
        "  for p, l in zip(predictions, true_labels):\r\n",
        "    per_doc_pred_tags = []\r\n",
        "    for p_i, l_i in zip(p, l):\r\n",
        "      if tag_values[l_i] != \"PAD\":\r\n",
        "        per_doc_pred_tags.append(tag_values[p_i])\r\n",
        "    pred_tags.append(per_doc_pred_tags)\r\n",
        "\r\n",
        "  valid_tags = []\r\n",
        "  for l in true_labels:\r\n",
        "    per_doc_valid_tags = []\r\n",
        "    for l_i in l:\r\n",
        "      if tag_values[l_i] != \"PAD\":\r\n",
        "        per_doc_valid_tags.append(tag_values[l_i])\r\n",
        "    valid_tags.append(per_doc_valid_tags)\r\n",
        "\r\n",
        "  print(\"Validation Accuracy: {}\".format(accuracy_score(valid_tags, pred_tags)))\r\n",
        "  print(\"Validation F1-Score: {}\".format(f1_score(valid_tags, pred_tags)))\r\n",
        "  print(\"\")\r\n",
        "  print(classification_report(valid_tags, pred_tags))\r\n",
        "  print(\"\")\r\n",
        "  return model, eval_loss\r\n"
      ],
      "execution_count": 13,
      "outputs": []
    },
    {
      "cell_type": "code",
      "metadata": {
        "colab": {
          "base_uri": "https://localhost:8080/",
          "height": 1000
        },
        "id": "JY4YrTJaploH",
        "outputId": "db755805-ef79-476e-8062-7b7e302b32df"
      },
      "source": [
        "\r\n",
        "training_loss_values, validation_loss_values = [], []\r\n",
        "# Initialize the early_stopping object\r\n",
        "early_stopping = EarlyStopping(patience=earlystopping_patience, path=checkpoint_path, verbose=True)\r\n",
        "\r\n",
        "for _ in trange(epochs, desc=\"Epoch\"):\r\n",
        "  # Training\r\n",
        "  model, train_loss = train_model(model, train_dataloader)\r\n",
        "  training_loss_values.append(train_loss)\r\n",
        "\r\n",
        "  # Validation\r\n",
        "  model, val_loss = validate_model(model, valid_dataloader)\r\n",
        "  validation_loss_values.append(val_loss)\r\n",
        "\r\n",
        "  # Early_stopping needs the validation loss to check if it has decresed, and if it has, it will make a checkpoint of the current model\r\n",
        "  early_stopping(val_loss, model)\r\n",
        "  \r\n",
        "  if early_stopping.early_stop:\r\n",
        "    print(\"Early stopping\")\r\n",
        "    break\r\n",
        "\r\n",
        "# load the last checkpoint with the best model\r\n",
        "model.load_state_dict(torch.load(checkpoint_path))\r\n",
        "\r\n",
        "# Save entire model\r\n",
        "torch.save(model, checkpoint_path)\r\n",
        "\r\n",
        "plot_perf(training_loss_values, validation_loss_values)"
      ],
      "execution_count": 14,
      "outputs": [
        {
          "output_type": "stream",
          "text": [
            "\rEpoch:   0%|          | 0/100 [00:00<?, ?it/s]"
          ],
          "name": "stderr"
        },
        {
          "output_type": "stream",
          "text": [
            "\n",
            "Average train loss: 0.1908250608770736\n",
            "Validation loss: 0.1321287426352501\n",
            "Validation Accuracy: 0.9579151403649983\n",
            "Validation F1-Score: 0.8039498169157813\n",
            "\n",
            "              precision    recall  f1-score   support\n",
            "\n",
            "         art       0.75      0.03      0.06        95\n",
            "         eve       0.39      0.24      0.30        37\n",
            "         geo       0.82      0.90      0.86      5885\n",
            "         gpe       0.94      0.91      0.92      1870\n",
            "         nat       0.88      0.23      0.37        30\n",
            "         org       0.66      0.71      0.68      3561\n",
            "         per       0.78      0.74      0.76      2799\n",
            "         tim       0.86      0.83      0.85      2169\n",
            "\n",
            "   micro avg       0.79      0.81      0.80     16446\n",
            "   macro avg       0.76      0.57      0.60     16446\n",
            "weighted avg       0.80      0.81      0.80     16446\n",
            "\n",
            "\n",
            "Validation loss decreased (inf --> 0.132129).  Saving model ...\n"
          ],
          "name": "stdout"
        },
        {
          "output_type": "stream",
          "text": [
            "\rEpoch:   1%|          | 1/100 [19:28<32:07:52, 1168.40s/it]"
          ],
          "name": "stderr"
        },
        {
          "output_type": "stream",
          "text": [
            "\n",
            "Average train loss: 0.11147119986201279\n",
            "Validation loss: 0.1279536418368419\n",
            "Validation Accuracy: 0.9607158697044861\n",
            "Validation F1-Score: 0.815221281164261\n",
            "\n",
            "              precision    recall  f1-score   support\n",
            "\n",
            "         art       0.33      0.07      0.12        95\n",
            "         eve       0.30      0.32      0.31        37\n",
            "         geo       0.84      0.90      0.86      5885\n",
            "         gpe       0.94      0.91      0.93      1870\n",
            "         nat       0.42      0.47      0.44        30\n",
            "         org       0.68      0.71      0.69      3561\n",
            "         per       0.76      0.81      0.79      2799\n",
            "         tim       0.85      0.86      0.85      2169\n",
            "\n",
            "   micro avg       0.80      0.83      0.82     16446\n",
            "   macro avg       0.64      0.63      0.63     16446\n",
            "weighted avg       0.80      0.83      0.81     16446\n",
            "\n",
            "\n",
            "Validation loss decreased (0.132129 --> 0.127954).  Saving model ...\n"
          ],
          "name": "stdout"
        },
        {
          "output_type": "stream",
          "text": [
            "\rEpoch:   2%|▏         | 2/100 [38:54<31:47:27, 1167.83s/it]"
          ],
          "name": "stderr"
        },
        {
          "output_type": "stream",
          "text": [
            "\n",
            "Average train loss: 0.08231213276693562\n",
            "Validation loss: 0.12759499743580818\n",
            "Validation Accuracy: 0.9625967114016788\n",
            "Validation F1-Score: 0.8263357045557742\n",
            "\n",
            "              precision    recall  f1-score   support\n",
            "\n",
            "         art       0.34      0.35      0.35        95\n",
            "         eve       0.26      0.38      0.31        37\n",
            "         geo       0.83      0.90      0.87      5885\n",
            "         gpe       0.96      0.91      0.94      1870\n",
            "         nat       0.50      0.43      0.46        30\n",
            "         org       0.76      0.69      0.72      3561\n",
            "         per       0.80      0.81      0.80      2799\n",
            "         tim       0.85      0.86      0.85      2169\n",
            "\n",
            "   micro avg       0.82      0.83      0.83     16446\n",
            "   macro avg       0.66      0.67      0.66     16446\n",
            "weighted avg       0.82      0.83      0.83     16446\n",
            "\n",
            "\n",
            "Validation loss decreased (0.127954 --> 0.127595).  Saving model ...\n"
          ],
          "name": "stdout"
        },
        {
          "output_type": "stream",
          "text": [
            "\rEpoch:   3%|▎         | 3/100 [58:20<31:27:06, 1167.28s/it]"
          ],
          "name": "stderr"
        },
        {
          "output_type": "stream",
          "text": [
            "\n",
            "Average train loss: 0.06090999081567913\n",
            "Validation loss: 0.13707026855399213\n",
            "Validation Accuracy: 0.9631141482004698\n",
            "Validation F1-Score: 0.830254572190056\n",
            "\n"
          ],
          "name": "stdout"
        },
        {
          "output_type": "stream",
          "text": [
            "\rEpoch:   4%|▍         | 4/100 [1:17:45<31:06:29, 1166.56s/it]"
          ],
          "name": "stderr"
        },
        {
          "output_type": "stream",
          "text": [
            "              precision    recall  f1-score   support\n",
            "\n",
            "         art       0.43      0.24      0.31        95\n",
            "         eve       0.29      0.38      0.33        37\n",
            "         geo       0.85      0.89      0.87      5885\n",
            "         gpe       0.96      0.91      0.94      1870\n",
            "         nat       0.61      0.47      0.53        30\n",
            "         org       0.79      0.67      0.72      3561\n",
            "         per       0.78      0.83      0.80      2799\n",
            "         tim       0.87      0.85      0.86      2169\n",
            "\n",
            "   micro avg       0.84      0.82      0.83     16446\n",
            "   macro avg       0.70      0.65      0.67     16446\n",
            "weighted avg       0.84      0.82      0.83     16446\n",
            "\n",
            "\n",
            "EarlyStopping counter: 1 out of 3\n",
            "\n",
            "Average train loss: 0.04567345713553129\n",
            "Validation loss: 0.1620881758381923\n",
            "Validation Accuracy: 0.9630812950703879\n",
            "Validation F1-Score: 0.8319090052005718\n",
            "\n"
          ],
          "name": "stdout"
        },
        {
          "output_type": "stream",
          "text": [
            "\rEpoch:   5%|▌         | 5/100 [1:37:09<30:45:55, 1165.85s/it]"
          ],
          "name": "stderr"
        },
        {
          "output_type": "stream",
          "text": [
            "              precision    recall  f1-score   support\n",
            "\n",
            "         art       0.41      0.23      0.30        95\n",
            "         eve       0.29      0.41      0.34        37\n",
            "         geo       0.87      0.88      0.87      5885\n",
            "         gpe       0.95      0.92      0.93      1870\n",
            "         nat       0.39      0.47      0.42        30\n",
            "         org       0.76      0.72      0.74      3561\n",
            "         per       0.78      0.84      0.81      2799\n",
            "         tim       0.85      0.86      0.85      2169\n",
            "\n",
            "   micro avg       0.83      0.83      0.83     16446\n",
            "   macro avg       0.66      0.66      0.66     16446\n",
            "weighted avg       0.83      0.83      0.83     16446\n",
            "\n",
            "\n",
            "EarlyStopping counter: 2 out of 3\n",
            "\n",
            "Average train loss: 0.035357175083876514\n",
            "Validation loss: 0.16768602651854356\n",
            "Validation Accuracy: 0.9621285542980107\n",
            "Validation F1-Score: 0.8289863842662631\n",
            "\n",
            "              precision    recall  f1-score   support\n",
            "\n",
            "         art       0.50      0.14      0.21        95\n",
            "         eve       0.30      0.41      0.34        37\n",
            "         geo       0.86      0.89      0.87      5885\n",
            "         gpe       0.97      0.91      0.94      1870\n",
            "         nat       0.61      0.47      0.53        30\n",
            "         org       0.75      0.72      0.73      3561\n",
            "         per       0.78      0.82      0.80      2799\n",
            "         tim       0.81      0.87      0.84      2169\n",
            "\n",
            "   micro avg       0.83      0.83      0.83     16446\n",
            "   macro avg       0.70      0.65      0.66     16446\n",
            "weighted avg       0.82      0.83      0.83     16446\n",
            "\n",
            "\n",
            "EarlyStopping counter: 3 out of 3\n",
            "Early stopping\n"
          ],
          "name": "stdout"
        },
        {
          "output_type": "display_data",
          "data": {
            "image/png": "[encoded data removed]",
            "text/plain": [
              "<Figure size 864x432 with 1 Axes>"
            ]
          },
          "metadata": {
            "tags": []
          }
        }
      ]
    }
  ]
}