{
  "nbformat": 4,
  "nbformat_minor": 0,
  "metadata": {
    "colab": {
      "name": "bilstm_ner_tf2.ipynb",
      "provenance": [],
      "collapsed_sections": [],
      "authorship_tag": "ABX9TyOwYclA3KyhgwD1pLwuZaTB",
      "include_colab_link": true
    },
    "kernelspec": {
      "name": "python3",
      "display_name": "Python 3"
    },
    "accelerator": "GPU"
  },
  "cells": [
    {
      "cell_type": "markdown",
      "metadata": {
        "id": "view-in-github",
        "colab_type": "text"
      },
      "source": [
        "<a href=\"https://colab.research.google.com/github/Jefffish09/MachineLearning/blob/dev/NER/bilstm_ner_tf2.ipynb\" target=\"_parent\"><img src=\"https://colab.research.google.com/assets/colab-badge.svg\" alt=\"Open In Colab\"/></a>"
      ]
    },
    {
      "cell_type": "markdown",
      "metadata": {
        "id": "MirlMDGWWyxB"
      },
      "source": [
        "References:\r\n",
        "\r\n",
        "* http://kaggle.com/shashaalam/ner-using-lstm-with-keras\r\n",
        "\r\n",
        "Data Source:\r\n",
        "\r\n",
        "* https://www.kaggle.com/abhinavwalia95/entity-annotated-corpus\r\n"
      ]
    },
    {
      "cell_type": "code",
      "metadata": {
        "colab": {
          "base_uri": "https://localhost:8080/"
        },
        "id": "tuAp5lAwfcjB",
        "outputId": "e4218d1f-3257-4c2c-a9c7-13e0919bebb1"
      },
      "source": [
        "!pip install -U -q seqeval"
      ],
      "execution_count": 1,
      "outputs": [
        {
          "output_type": "stream",
          "text": [
            "\u001b[?25l\r\u001b[K     |███████▌                        | 10kB 23.2MB/s eta 0:00:01\r\u001b[K     |███████████████                 | 20kB 28.7MB/s eta 0:00:01\r\u001b[K     |██████████████████████▌         | 30kB 31.5MB/s eta 0:00:01\r\u001b[K     |██████████████████████████████  | 40kB 33.9MB/s eta 0:00:01\r\u001b[K     |████████████████████████████████| 51kB 2.6MB/s \n",
            "\u001b[?25h  Building wheel for seqeval (setup.py) ... \u001b[?25l\u001b[?25hdone\n"
          ],
          "name": "stdout"
        }
      ]
    },
    {
      "cell_type": "code",
      "metadata": {
        "id": "os53SWwgXRke"
      },
      "source": [
        "import pandas as pd\r\n",
        "import numpy as np\r\n",
        "import matplotlib.pyplot as plt\r\n",
        "import tensorflow as tf\r\n",
        "from tensorflow.keras.preprocessing.sequence import pad_sequences\r\n",
        "from tensorflow.keras.utils import to_categorical\r\n",
        "from tensorflow.keras import Model, Input\r\n",
        "from tensorflow.keras.layers import LSTM, Embedding, Dense, TimeDistributed, SpatialDropout1D, Bidirectional\r\n",
        "from tensorflow.keras.callbacks import EarlyStopping\r\n",
        "from sklearn.model_selection import train_test_split\r\n",
        "from seqeval.metrics import f1_score, accuracy_score, classification_report"
      ],
      "execution_count": 2,
      "outputs": []
    },
    {
      "cell_type": "code",
      "metadata": {
        "id": "7Gt-FwOnZwu9"
      },
      "source": [
        "seed = 2021\r\n",
        "max_len = 250\r\n",
        "batch_size = 128\r\n",
        "epochs = 100\r\n",
        "earlystopping_patience = 10"
      ],
      "execution_count": 3,
      "outputs": []
    },
    {
      "cell_type": "code",
      "metadata": {
        "colab": {
          "base_uri": "https://localhost:8080/",
          "height": 231
        },
        "id": "TSPv1adEWqej",
        "outputId": "4257b575-3a20-4e12-ae9c-1ed7dfe5a14f"
      },
      "source": [
        "# Get the raw dataset\r\n",
        "\r\n",
        "!curl -s -LO https://github.com/MahmooudTaha/NLP-2019/raw/master/ner_dataset.csv.zip\r\n",
        "!unzip -o ner_dataset.csv.zip\r\n",
        "!rm -f ner_dataset.csv.zip\r\n",
        "\r\n",
        "df = pd.read_csv(\"ner_dataset.csv\", encoding=\"Windows-1252\").fillna(method='ffill')\r\n",
        "df.head()"
      ],
      "execution_count": 4,
      "outputs": [
        {
          "output_type": "stream",
          "text": [
            "Archive:  ner_dataset.csv.zip\n",
            "  inflating: ner_dataset.csv         \n"
          ],
          "name": "stdout"
        },
        {
          "output_type": "execute_result",
          "data": {
            "text/html": [
              "<div>\n",
              "<style scoped>\n",
              "    .dataframe tbody tr th:only-of-type {\n",
              "        vertical-align: middle;\n",
              "    }\n",
              "\n",
              "    .dataframe tbody tr th {\n",
              "        vertical-align: top;\n",
              "    }\n",
              "\n",
              "    .dataframe thead th {\n",
              "        text-align: right;\n",
              "    }\n",
              "</style>\n",
              "<table border=\"1\" class=\"dataframe\">\n",
              "  <thead>\n",
              "    <tr style=\"text-align: right;\">\n",
              "      <th></th>\n",
              "      <th>Sentence #</th>\n",
              "      <th>Word</th>\n",
              "      <th>POS</th>\n",
              "      <th>Tag</th>\n",
              "    </tr>\n",
              "  </thead>\n",
              "  <tbody>\n",
              "    <tr>\n",
              "      <th>0</th>\n",
              "      <td>Sentence: 1</td>\n",
              "      <td>Thousands</td>\n",
              "      <td>NNS</td>\n",
              "      <td>O</td>\n",
              "    </tr>\n",
              "    <tr>\n",
              "      <th>1</th>\n",
              "      <td>Sentence: 1</td>\n",
              "      <td>of</td>\n",
              "      <td>IN</td>\n",
              "      <td>O</td>\n",
              "    </tr>\n",
              "    <tr>\n",
              "      <th>2</th>\n",
              "      <td>Sentence: 1</td>\n",
              "      <td>demonstrators</td>\n",
              "      <td>NNS</td>\n",
              "      <td>O</td>\n",
              "    </tr>\n",
              "    <tr>\n",
              "      <th>3</th>\n",
              "      <td>Sentence: 1</td>\n",
              "      <td>have</td>\n",
              "      <td>VBP</td>\n",
              "      <td>O</td>\n",
              "    </tr>\n",
              "    <tr>\n",
              "      <th>4</th>\n",
              "      <td>Sentence: 1</td>\n",
              "      <td>marched</td>\n",
              "      <td>VBN</td>\n",
              "      <td>O</td>\n",
              "    </tr>\n",
              "  </tbody>\n",
              "</table>\n",
              "</div>"
            ],
            "text/plain": [
              "    Sentence #           Word  POS Tag\n",
              "0  Sentence: 1      Thousands  NNS   O\n",
              "1  Sentence: 1             of   IN   O\n",
              "2  Sentence: 1  demonstrators  NNS   O\n",
              "3  Sentence: 1           have  VBP   O\n",
              "4  Sentence: 1        marched  VBN   O"
            ]
          },
          "metadata": {
            "tags": []
          },
          "execution_count": 4
        }
      ]
    },
    {
      "cell_type": "code",
      "metadata": {
        "colab": {
          "base_uri": "https://localhost:8080/"
        },
        "id": "UbB2Thd_YqW7",
        "outputId": "312f476a-7a7d-467b-f88d-858be864aa2e"
      },
      "source": [
        "\r\n",
        "class SentenceGetter(object):\r\n",
        "    def __init__(self, data):\r\n",
        "        self.n_sent = 1\r\n",
        "        self.data = data\r\n",
        "        agg_func = lambda s:[(w,p,t) for w, p, t in zip(s[\"Word\"].values.tolist(),\r\n",
        "                                                       s[\"POS\"].values.tolist(),\r\n",
        "                                                       s[\"Tag\"].values.tolist())]\r\n",
        "        \r\n",
        "        self.grouped = self.data.groupby(\"Sentence #\").apply(agg_func)\r\n",
        "        self.sentences = [s for s in self.grouped]\r\n",
        "\r\n",
        "\r\n",
        "getter = SentenceGetter(df)\r\n",
        "sentences = getter.sentences\r\n",
        "\r\n",
        "words = list(set(df[\"Word\"].values))\r\n",
        "words.append(\"ENDPAD\")\r\n",
        "num_words = len(words)\r\n",
        "\r\n",
        "tags = list(set(df[\"Tag\"].values))\r\n",
        "num_tags = len(tags)\r\n",
        "\r\n",
        "word2idx = {w: i+1 for i, w in enumerate(words)}\r\n",
        "tag2idx = {t: i for i,t, in enumerate(tags)}\r\n",
        "\r\n",
        "# print(\"word2idx: {}\".format(word2idx))\r\n",
        "print(\"tag2idx: {}\".format(tag2idx))"
      ],
      "execution_count": 5,
      "outputs": [
        {
          "output_type": "stream",
          "text": [
            "tag2idx: {'B-per': 0, 'I-org': 1, 'B-gpe': 2, 'O': 3, 'I-nat': 4, 'B-tim': 5, 'B-geo': 6, 'I-per': 7, 'B-eve': 8, 'B-nat': 9, 'I-gpe': 10, 'I-eve': 11, 'I-art': 12, 'B-org': 13, 'I-geo': 14, 'B-art': 15, 'I-tim': 16}\n"
          ],
          "name": "stdout"
        }
      ]
    },
    {
      "cell_type": "code",
      "metadata": {
        "id": "DKmX_2gWZ1Qy"
      },
      "source": [
        "X = [[word2idx[w[0]] for w in s] for s in sentences]\r\n",
        "X = pad_sequences(maxlen=max_len, sequences=X, padding=\"post\", value=num_words-1)\r\n",
        "\r\n",
        "y = [[tag2idx[w[2]] for w in s] for s in sentences]\r\n",
        "y = pad_sequences(maxlen=max_len, sequences = y, padding=\"post\", value= tag2idx[\"O\"])\r\n",
        "y = [to_categorical(i, num_classes=num_tags) for i in y]\r\n",
        "\r\n",
        "X_train, X_test, y_train, y_test = train_test_split(X, y, test_size=0.2, random_state=seed)"
      ],
      "execution_count": 6,
      "outputs": []
    },
    {
      "cell_type": "code",
      "metadata": {
        "id": "EEdwX5Jxb3z5"
      },
      "source": [
        "def plot_perf(history):\r\n",
        "  # Create a plot of accuracy and loss over time\r\n",
        "  history_dict = history.history\r\n",
        "  history_dict.keys()\r\n",
        "\r\n",
        "  acc = history_dict[\"accuracy\"]\r\n",
        "  val_acc = history_dict[\"val_accuracy\"]\r\n",
        "  loss = history_dict[\"loss\"]\r\n",
        "  val_loss = history_dict[\"val_loss\"]\r\n",
        "\r\n",
        "  epochs = range(1, len(acc) + 1)\r\n",
        "\r\n",
        "  # Training and validation loss\r\n",
        "  plt.plot(epochs, loss, \"r\", label=\"Training loss\")\r\n",
        "  # b is for \"solid blue line\"\r\n",
        "  plt.plot(epochs, val_loss, \"b\", label=\"Validation loss\")\r\n",
        "  plt.title(\"Training and validation loss\")\r\n",
        "  plt.xlabel(\"Epochs\")\r\n",
        "  plt.ylabel(\"Loss\")\r\n",
        "  plt.legend()\r\n",
        "  plt.show()\r\n",
        "\r\n",
        "  # Training and validation accuracy\r\n",
        "  plt.plot(epochs, acc, \"r\", label=\"Training acc\")\r\n",
        "  plt.plot(epochs, val_acc, \"b\", label=\"Validation acc\")\r\n",
        "  plt.title(\"Training and validation accuracy\")\r\n",
        "  plt.xlabel(\"Epochs\")\r\n",
        "  plt.ylabel(\"Accuracy\")\r\n",
        "  plt.legend(loc=\"lower right\")\r\n",
        "  plt.show()"
      ],
      "execution_count": 7,
      "outputs": []
    },
    {
      "cell_type": "code",
      "metadata": {
        "colab": {
          "base_uri": "https://localhost:8080/",
          "height": 1000
        },
        "id": "9CUx9Zzlae4s",
        "outputId": "4361a96f-1b7b-4950-f619-3ea5ac6640fc"
      },
      "source": [
        "# Create and train model\r\n",
        "\r\n",
        "earlystop_callback = EarlyStopping(\r\n",
        "  monitor=\"val_loss\",\r\n",
        "  min_delta=0.0001,\r\n",
        "  patience=earlystopping_patience,\r\n",
        "  restore_best_weights=True)\r\n",
        "\r\n",
        "input = Input(shape=(max_len,))\r\n",
        "model = Embedding(input_dim=num_words, output_dim=max_len, input_length=max_len)(input)\r\n",
        "# model = SpatialDropout1D(0.1)(model)\r\n",
        "model = Bidirectional(LSTM(units=100, return_sequences=True))(model)\r\n",
        "model = Bidirectional(LSTM(units=32, return_sequences=True))(model)\r\n",
        "out = TimeDistributed(Dense(num_tags, activation=\"softmax\"))(model)\r\n",
        "model = Model(input, out)\r\n",
        "model.summary()\r\n",
        "\r\n",
        "model.compile(optimizer=\"adam\",\r\n",
        "              loss=\"categorical_crossentropy\",\r\n",
        "              metrics=[\"accuracy\"])\r\n",
        "\r\n",
        "history = model.fit(x=X_train,\r\n",
        "                    y=np.array(y_train),\r\n",
        "                    validation_split=0.2,\r\n",
        "                    batch_size=batch_size,\r\n",
        "                    epochs=epochs,\r\n",
        "                    verbose=1,\r\n",
        "                    callbacks=[earlystop_callback])\r\n",
        "\r\n",
        "plot_perf(history)\r\n",
        "\r\n",
        "# loss, acc = model.evaluate(x=X_test, y=np.array(y_test), verbose=1)\r\n"
      ],
      "execution_count": 8,
      "outputs": [
        {
          "output_type": "stream",
          "text": [
            "Model: \"model\"\n",
            "_________________________________________________________________\n",
            "Layer (type)                 Output Shape              Param #   \n",
            "=================================================================\n",
            "input_1 (InputLayer)         [(None, 250)]             0         \n",
            "_________________________________________________________________\n",
            "embedding (Embedding)        (None, 250, 250)          8794750   \n",
            "_________________________________________________________________\n",
            "bidirectional (Bidirectional (None, 250, 200)          280800    \n",
            "_________________________________________________________________\n",
            "bidirectional_1 (Bidirection (None, 250, 64)           59648     \n",
            "_________________________________________________________________\n",
            "time_distributed (TimeDistri (None, 250, 17)           1105      \n",
            "=================================================================\n",
            "Total params: 9,136,303\n",
            "Trainable params: 9,136,303\n",
            "Non-trainable params: 0\n",
            "_________________________________________________________________\n",
            "Epoch 1/100\n",
            "240/240 [==============================] - 118s 350ms/step - loss: 0.3962 - accuracy: 0.9616 - val_loss: 0.0479 - val_accuracy: 0.9867\n",
            "Epoch 2/100\n",
            "240/240 [==============================] - 82s 341ms/step - loss: 0.0396 - accuracy: 0.9884 - val_loss: 0.0298 - val_accuracy: 0.9908\n",
            "Epoch 3/100\n",
            "240/240 [==============================] - 82s 340ms/step - loss: 0.0268 - accuracy: 0.9916 - val_loss: 0.0220 - val_accuracy: 0.9942\n",
            "Epoch 4/100\n",
            "240/240 [==============================] - 82s 340ms/step - loss: 0.0174 - accuracy: 0.9956 - val_loss: 0.0148 - val_accuracy: 0.9965\n",
            "Epoch 5/100\n",
            "240/240 [==============================] - 81s 338ms/step - loss: 0.0108 - accuracy: 0.9974 - val_loss: 0.0128 - val_accuracy: 0.9967\n",
            "Epoch 6/100\n",
            "240/240 [==============================] - 81s 338ms/step - loss: 0.0079 - accuracy: 0.9980 - val_loss: 0.0121 - val_accuracy: 0.9968\n",
            "Epoch 7/100\n",
            "240/240 [==============================] - 81s 336ms/step - loss: 0.0065 - accuracy: 0.9983 - val_loss: 0.0119 - val_accuracy: 0.9968\n",
            "Epoch 8/100\n",
            "240/240 [==============================] - 81s 338ms/step - loss: 0.0055 - accuracy: 0.9985 - val_loss: 0.0119 - val_accuracy: 0.9968\n",
            "Epoch 9/100\n",
            "240/240 [==============================] - 82s 343ms/step - loss: 0.0049 - accuracy: 0.9987 - val_loss: 0.0127 - val_accuracy: 0.9968\n",
            "Epoch 10/100\n",
            "240/240 [==============================] - 83s 346ms/step - loss: 0.0042 - accuracy: 0.9988 - val_loss: 0.0128 - val_accuracy: 0.9967\n",
            "Epoch 11/100\n",
            "240/240 [==============================] - 83s 348ms/step - loss: 0.0038 - accuracy: 0.9990 - val_loss: 0.0136 - val_accuracy: 0.9967\n",
            "Epoch 12/100\n",
            "240/240 [==============================] - 83s 346ms/step - loss: 0.0034 - accuracy: 0.9990 - val_loss: 0.0139 - val_accuracy: 0.9967\n",
            "Epoch 13/100\n",
            "240/240 [==============================] - 82s 343ms/step - loss: 0.0031 - accuracy: 0.9992 - val_loss: 0.0147 - val_accuracy: 0.9966\n",
            "Epoch 14/100\n",
            "240/240 [==============================] - 83s 346ms/step - loss: 0.0027 - accuracy: 0.9992 - val_loss: 0.0152 - val_accuracy: 0.9967\n",
            "Epoch 15/100\n",
            "240/240 [==============================] - 82s 342ms/step - loss: 0.0024 - accuracy: 0.9993 - val_loss: 0.0159 - val_accuracy: 0.9966\n",
            "Epoch 16/100\n",
            "240/240 [==============================] - 83s 345ms/step - loss: 0.0021 - accuracy: 0.9994 - val_loss: 0.0170 - val_accuracy: 0.9966\n",
            "Epoch 17/100\n",
            "240/240 [==============================] - 81s 339ms/step - loss: 0.0020 - accuracy: 0.9994 - val_loss: 0.0171 - val_accuracy: 0.9966\n"
          ],
          "name": "stdout"
        },
        {
          "output_type": "display_data",
          "data": {
            "image/png": "[encoded data removed]",
            "text/plain": [
              "<Figure size 432x288 with 1 Axes>"
            ]
          },
          "metadata": {
            "tags": [],
            "needs_background": "light"
          }
        },
        {
          "output_type": "display_data",
          "data": {
            "image/png": "[encoded data removed]",
            "text/plain": [
              "<Figure size 432x288 with 1 Axes>"
            ]
          },
          "metadata": {
            "tags": [],
            "needs_background": "light"
          }
        }
      ]
    },
    {
      "cell_type": "code",
      "metadata": {
        "colab": {
          "base_uri": "https://localhost:8080/"
        },
        "id": "MD2qdQpf3PZX",
        "outputId": "1baecc19-76b6-4e4d-934a-f65e7a27c4e6"
      },
      "source": [
        "\r\n",
        "y_true = np.argmax(y_test, axis=-1)\r\n",
        "y_pred = np.argmax(model.predict(X_test), axis=-1)\r\n",
        "\r\n",
        "y_true_l = []\r\n",
        "y_pred_l =[]\r\n",
        "for s_y_true, s_y_pred in zip(y_true, y_pred):\r\n",
        "  collect_s_y_true = []\r\n",
        "  collect_s_y_pred = []\r\n",
        "  for w_y_true, w_y_pred in zip(s_y_true, s_y_pred):\r\n",
        "    collect_s_y_true.append(tags[w_y_true])\r\n",
        "    collect_s_y_pred.append(tags[w_y_pred])\r\n",
        "  y_true_l.append(collect_s_y_true)\r\n",
        "  y_pred_l.append(collect_s_y_pred)\r\n",
        "\r\n",
        "report = classification_report(y_true=y_true_l, y_pred=y_pred_l, digits=2)\r\n",
        "print(report)\r\n",
        "print(\"Testing Accuracy: {}\".format(accuracy_score(y_true=y_true_l, y_pred=y_pred_l)))\r\n",
        "print(\"Testing F1-Score: {}\".format(f1_score(y_true=y_true_l, y_pred=y_pred_l)))"
      ],
      "execution_count": 9,
      "outputs": [
        {
          "output_type": "stream",
          "text": [
            "/usr/local/lib/python3.7/dist-packages/seqeval/metrics/v1.py:57: UndefinedMetricWarning: Precision and F-score are ill-defined and being set to 0.0 in labels with no predicted samples. Use `zero_division` parameter to control this behavior.\n",
            "  _warn_prf(average, modifier, msg_start, len(result))\n"
          ],
          "name": "stderr"
        },
        {
          "output_type": "stream",
          "text": [
            "              precision    recall  f1-score   support\n",
            "\n",
            "         art       0.00      0.00      0.00        83\n",
            "         eve       0.00      0.00      0.00        70\n",
            "         geo       0.82      0.87      0.84      7548\n",
            "         gpe       0.96      0.92      0.94      3222\n",
            "         nat       0.00      0.00      0.00        35\n",
            "         org       0.64      0.63      0.63      4071\n",
            "         per       0.71      0.68      0.69      3401\n",
            "         tim       0.81      0.83      0.82      4069\n",
            "\n",
            "   micro avg       0.79      0.79      0.79     22499\n",
            "   macro avg       0.49      0.49      0.49     22499\n",
            "weighted avg       0.78      0.79      0.78     22499\n",
            "\n",
            "Testing Accuracy: 0.9967852376980817\n",
            "Testing F1-Score: 0.7885529061764575\n"
          ],
          "name": "stdout"
        }
      ]
    },
    {
      "cell_type": "code",
      "metadata": {
        "id": "1tHGVnoUpPW7"
      },
      "source": [
        ""
      ],
      "execution_count": 9,
      "outputs": []
    }
  ]
}